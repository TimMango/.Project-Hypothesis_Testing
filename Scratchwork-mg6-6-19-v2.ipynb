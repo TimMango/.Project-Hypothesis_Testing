{
 "cells": [
  {
   "cell_type": "code",
   "execution_count": 1,
   "metadata": {
    "ExecuteTime": {
     "end_time": "2019-06-06T00:34:16.254797Z",
     "start_time": "2019-06-06T00:34:13.779476Z"
    }
   },
   "outputs": [],
   "source": [
    "import sqlite3 \n",
    "import pandas as pd\n",
    "#import pandas_profiling as pp\n",
    "import numpy as np\n",
    "\n",
    "import statsmodels.api as sm\n",
    "\n",
    "import seaborn as sns\n",
    "\n",
    "sns.set_style(\"whitegrid\")\n"
   ]
  },
  {
   "cell_type": "code",
   "execution_count": 2,
   "metadata": {
    "ExecuteTime": {
     "end_time": "2019-06-06T01:44:34.688665Z",
     "start_time": "2019-06-06T01:44:34.682510Z"
    }
   },
   "outputs": [],
   "source": [
    "conn = sqlite3.connect('traffic.db')\n",
    "c = conn.cursor()"
   ]
  },
  {
   "cell_type": "code",
   "execution_count": null,
   "metadata": {
    "ExecuteTime": {
     "end_time": "2019-06-06T02:22:10.209751Z",
     "start_time": "2019-06-06T02:22:10.193797Z"
    }
   },
   "outputs": [],
   "source": [
    "sql_master = \"\"\"SELECT * FROM sqlite_master\"\"\"\n",
    "pd.read_sql_query(sql_master, conn)"
   ]
  },
  {
   "cell_type": "code",
   "execution_count": null,
   "metadata": {
    "ExecuteTime": {
     "end_time": "2019-06-06T00:34:16.308016Z",
     "start_time": "2019-06-06T00:34:16.299179Z"
    }
   },
   "outputs": [],
   "source": [
    "### sql_master = \"\"\"SELECT sql FROM sqlite_master\"\"\"\n",
    "pd.read_sql_query(sql_master, conn)"
   ]
  },
  {
   "cell_type": "code",
   "execution_count": null,
   "metadata": {
    "ExecuteTime": {
     "end_time": "2019-06-06T01:48:40.870269Z",
     "start_time": "2019-06-06T01:47:32.365426Z"
    }
   },
   "outputs": [],
   "source": [
    "sql_all = \"SELECT * FROM traffic\"\n",
    "all_df = pd.read_sql_query(sql_all, conn)\n",
    "all_df.head()"
   ]
  },
  {
   "cell_type": "code",
   "execution_count": null,
   "metadata": {
    "ExecuteTime": {
     "end_time": "2019-06-06T01:49:06.191727Z",
     "start_time": "2019-06-06T01:49:06.180243Z"
    }
   },
   "outputs": [],
   "source": [
    "all_df.columns"
   ]
  },
  {
   "cell_type": "code",
   "execution_count": null,
   "metadata": {
    "ExecuteTime": {
     "end_time": "2019-06-06T00:35:00.866869Z",
     "start_time": "2019-06-06T00:35:00.855963Z"
    }
   },
   "outputs": [],
   "source": [
    "#pp.ProfileReport(all_df)"
   ]
  },
  {
   "cell_type": "code",
   "execution_count": null,
   "metadata": {
    "ExecuteTime": {
     "end_time": "2019-06-06T00:35:31.175851Z",
     "start_time": "2019-06-06T00:35:00.874764Z"
    }
   },
   "outputs": [],
   "source": [
    "all_df.describe()"
   ]
  },
  {
   "cell_type": "code",
   "execution_count": null,
   "metadata": {
    "ExecuteTime": {
     "end_time": "2019-06-06T00:35:31.691709Z",
     "start_time": "2019-06-06T00:35:31.182762Z"
    }
   },
   "outputs": [],
   "source": [
    "all_df['Violation Type'].value_counts()"
   ]
  },
  {
   "cell_type": "code",
   "execution_count": null,
   "metadata": {
    "ExecuteTime": {
     "end_time": "2019-06-06T00:35:32.450581Z",
     "start_time": "2019-06-06T00:35:31.693727Z"
    }
   },
   "outputs": [],
   "source": [
    "grouped_race_violation = all_df.groupby(['Race', 'Violation Type']).size().astype(float)"
   ]
  },
  {
   "cell_type": "code",
   "execution_count": null,
   "metadata": {
    "ExecuteTime": {
     "end_time": "2019-06-06T00:35:32.710069Z",
     "start_time": "2019-06-06T00:35:32.451927Z"
    }
   },
   "outputs": [],
   "source": [
    "all_df.groupby(['Race']).size()"
   ]
  },
  {
   "cell_type": "code",
   "execution_count": null,
   "metadata": {
    "ExecuteTime": {
     "end_time": "2019-06-06T00:35:33.066698Z",
     "start_time": "2019-06-06T00:35:32.714054Z"
    },
    "scrolled": false
   },
   "outputs": [],
   "source": [
    "all_df['Arrest Type'].value_counts()"
   ]
  },
  {
   "cell_type": "code",
   "execution_count": null,
   "metadata": {
    "ExecuteTime": {
     "end_time": "2019-06-06T00:35:33.083563Z",
     "start_time": "2019-06-06T00:35:33.068787Z"
    }
   },
   "outputs": [],
   "source": [
    "sum(grouped_race_violation['WHITE'])"
   ]
  },
  {
   "cell_type": "code",
   "execution_count": null,
   "metadata": {
    "ExecuteTime": {
     "end_time": "2019-06-06T00:35:33.106338Z",
     "start_time": "2019-06-06T00:35:33.085501Z"
    }
   },
   "outputs": [],
   "source": [
    "grouped_normalize = grouped_race_violation.copy()\n",
    "\n",
    "for race in grouped_race_violation.index.levels[0]:\n",
    "    race_viol = sum(grouped_race_violation[race])\n",
    "    for viol in grouped_race_violation.index.levels[1]:\n",
    "        try:\n",
    "            grouped_normalize[race][viol] = grouped_race_violation[race][viol] / float(race_viol)\n",
    "        except:\n",
    "            pass"
   ]
  },
  {
   "cell_type": "code",
   "execution_count": null,
   "metadata": {
    "ExecuteTime": {
     "end_time": "2019-06-06T00:35:33.117877Z",
     "start_time": "2019-06-06T00:35:33.108561Z"
    },
    "scrolled": false
   },
   "outputs": [],
   "source": [
    "grouped_normalize"
   ]
  },
  {
   "cell_type": "code",
   "execution_count": null,
   "metadata": {
    "ExecuteTime": {
     "end_time": "2019-06-06T00:35:33.648876Z",
     "start_time": "2019-06-06T00:35:33.120722Z"
    }
   },
   "outputs": [],
   "source": [
    "all_df.groupby(['Race', 'Arrest Type']).size().astype(float)"
   ]
  },
  {
   "cell_type": "code",
   "execution_count": null,
   "metadata": {
    "ExecuteTime": {
     "end_time": "2019-06-06T00:35:33.905687Z",
     "start_time": "2019-06-06T00:35:33.651078Z"
    }
   },
   "outputs": [],
   "source": [
    "all_df['Arrest Type'].value_counts(True)"
   ]
  },
  {
   "cell_type": "code",
   "execution_count": null,
   "metadata": {
    "ExecuteTime": {
     "end_time": "2019-06-06T00:35:33.911419Z",
     "start_time": "2019-06-06T00:35:33.907431Z"
    }
   },
   "outputs": [],
   "source": [
    "len(all_df)"
   ]
  },
  {
   "cell_type": "code",
   "execution_count": null,
   "metadata": {
    "ExecuteTime": {
     "end_time": "2019-06-06T00:35:34.439764Z",
     "start_time": "2019-06-06T00:35:33.913430Z"
    }
   },
   "outputs": [],
   "source": [
    "descrips = all_df.Description.value_counts()"
   ]
  },
  {
   "cell_type": "code",
   "execution_count": null,
   "metadata": {
    "ExecuteTime": {
     "end_time": "2019-06-06T00:35:34.453206Z",
     "start_time": "2019-06-06T00:35:34.441644Z"
    }
   },
   "outputs": [],
   "source": [
    "descrips"
   ]
  },
  {
   "cell_type": "code",
   "execution_count": null,
   "metadata": {
    "ExecuteTime": {
     "end_time": "2019-06-06T00:35:34.463269Z",
     "start_time": "2019-06-06T00:35:34.454853Z"
    }
   },
   "outputs": [],
   "source": [
    "np.percentile(descrips.values, 90, axis=0)"
   ]
  },
  {
   "cell_type": "code",
   "execution_count": 9,
   "metadata": {
    "ExecuteTime": {
     "end_time": "2019-06-06T00:35:34.481219Z",
     "start_time": "2019-06-06T00:35:34.464862Z"
    }
   },
   "outputs": [],
   "source": [
    "import matplotlib.pyplot as plt\n",
    "%matplotlib inline"
   ]
  },
  {
   "cell_type": "code",
   "execution_count": null,
   "metadata": {
    "ExecuteTime": {
     "end_time": "2019-06-06T00:35:42.796557Z",
     "start_time": "2019-06-06T00:35:34.486271Z"
    }
   },
   "outputs": [],
   "source": [
    "a = sorted(descrips.values)\n",
    "cumsum_descrips = [sum(a[:i]) for i in range(len(a))]\n",
    "#cumsum_descrips"
   ]
  },
  {
   "cell_type": "code",
   "execution_count": null,
   "metadata": {
    "ExecuteTime": {
     "end_time": "2019-06-06T00:35:43.052398Z",
     "start_time": "2019-06-06T00:35:42.799931Z"
    }
   },
   "outputs": [],
   "source": [
    "x_percentile = (np.array(range(len(a)))+1)/len(a)\n",
    "\n",
    "\n",
    "plt.plot(x_percentile, cumsum_descrips)"
   ]
  },
  {
   "cell_type": "code",
   "execution_count": null,
   "metadata": {
    "ExecuteTime": {
     "end_time": "2019-06-06T00:35:43.383926Z",
     "start_time": "2019-06-06T00:35:43.055713Z"
    }
   },
   "outputs": [],
   "source": [
    "all_df.Description.value_counts().index[1]"
   ]
  },
  {
   "cell_type": "code",
   "execution_count": null,
   "metadata": {
    "ExecuteTime": {
     "end_time": "2019-06-06T00:35:44.547442Z",
     "start_time": "2019-06-06T00:35:43.385740Z"
    }
   },
   "outputs": [],
   "source": [
    "viol_type = 'FAILURE TO DISPLAY REGISTRATION CARD UPON DEMAND BY POLICE OFFICER'\n",
    "\n",
    "all_df[all_df['Description'].isin([viol_type])].groupby('Race').size()"
   ]
  },
  {
   "cell_type": "code",
   "execution_count": null,
   "metadata": {
    "ExecuteTime": {
     "end_time": "2019-06-06T00:35:45.783984Z",
     "start_time": "2019-06-06T00:35:44.549592Z"
    }
   },
   "outputs": [],
   "source": [
    "sql_all = '''\n",
    "SELECT * FROM traffic\n",
    "WHERE race = 'BLACK'\n",
    "ORDER BY RANDOM() \n",
    "LIMIT 5000\n",
    "'''\n",
    "df_black = pd.read_sql_query(sql_all, conn)\n",
    "df_black.shape"
   ]
  },
  {
   "cell_type": "code",
   "execution_count": null,
   "metadata": {
    "ExecuteTime": {
     "end_time": "2019-06-06T00:35:46.609262Z",
     "start_time": "2019-06-06T00:35:45.786586Z"
    }
   },
   "outputs": [],
   "source": [
    "sql_all = '''\n",
    "SELECT * FROM traffic\n",
    "WHERE race = 'HISPANIC'\n",
    "ORDER BY RANDOM() \n",
    "LIMIT 5000\n",
    "'''\n",
    "df_hispanic = pd.read_sql_query(sql_all, conn)\n",
    "df_hispanic.shape"
   ]
  },
  {
   "cell_type": "code",
   "execution_count": null,
   "metadata": {
    "ExecuteTime": {
     "end_time": "2019-06-06T00:35:46.617986Z",
     "start_time": "2019-06-06T00:35:46.611831Z"
    }
   },
   "outputs": [],
   "source": [
    "from scipy.stats import ttest_ind"
   ]
  },
  {
   "cell_type": "code",
   "execution_count": null,
   "metadata": {
    "ExecuteTime": {
     "end_time": "2019-06-06T00:35:46.629424Z",
     "start_time": "2019-06-06T00:35:46.620965Z"
    }
   },
   "outputs": [],
   "source": [
    "black_citation_sample = (df_black['Violation Type'] == 'Citation')*1\n",
    "mu_black = sum(black_citation_sample) / len(black_citation_sample)"
   ]
  },
  {
   "cell_type": "code",
   "execution_count": null,
   "metadata": {
    "ExecuteTime": {
     "end_time": "2019-06-06T00:35:46.636963Z",
     "start_time": "2019-06-06T00:35:46.631457Z"
    }
   },
   "outputs": [],
   "source": [
    "hispanic_citation_sample = (df_hispanic['Violation Type'] == 'Citation')*1\n",
    "mu_hispanic = sum(hispanic_citation_sample) / len(hispanic_citation_sample)"
   ]
  },
  {
   "cell_type": "code",
   "execution_count": null,
   "metadata": {
    "ExecuteTime": {
     "end_time": "2019-06-06T00:35:46.685513Z",
     "start_time": "2019-06-06T00:35:46.639338Z"
    }
   },
   "outputs": [],
   "source": [
    "ttest_ind(black_citation_sample, hispanic_citation_sample, equal_var=False)"
   ]
  },
  {
   "cell_type": "code",
   "execution_count": null,
   "metadata": {
    "ExecuteTime": {
     "end_time": "2019-06-06T01:04:41.946461Z",
     "start_time": "2019-06-06T01:04:41.932087Z"
    }
   },
   "outputs": [],
   "source": [
    "def sample_from_traffic(n_sample, connection, race=None, gender=None, show_SQL=True):\n",
    "    \"\"\"Returns a random sample from the specified sqlite db connection, from the table called traffic.\n",
    "    Order is randomized.\n",
    "    Can specify a race to filter on.\n",
    "    Prints the equivalent SQL query.\n",
    "    Returns the dataframe result of the SQL query\"\"\"\n",
    "    var_count = 0\n",
    "    if race:\n",
    "        condition = \"WHERE race ='{}'\".format(race.upper())\n",
    "        var_count += 1\n",
    "    else:\n",
    "        condition = \"--\"\n",
    "    if gender:\n",
    "        if var_count > 0:\n",
    "            condition = condition + \"\"\"\n",
    "            AND Gender = '{}'\"\"\".format(gender.upper()[0])\n",
    "        else:\n",
    "            condition = \"WHERE gender ='{}'\".format(gender.upper()[0])\n",
    "    sql_str = '''\n",
    "        SELECT * FROM traffic\n",
    "        {0}\n",
    "        ORDER BY RANDOM() \n",
    "        LIMIT {1}\n",
    "        '''.format(condition, n_sample)\n",
    "    if show_SQL: print(sql_str)\n",
    "    df = pd.read_sql_query(sql_str, connection)\n",
    "    return df"
   ]
  },
  {
   "cell_type": "code",
   "execution_count": 3,
   "metadata": {
    "ExecuteTime": {
     "end_time": "2019-06-06T03:13:21.712755Z",
     "start_time": "2019-06-06T03:13:21.707833Z"
    }
   },
   "outputs": [],
   "source": [
    "def sample_from_traffic_2(n_sample, connection, filters={}, show_SQL=True):\n",
    "    \"\"\"Returns a random sample from the specified sqlite db connection, from the table called traffic.\n",
    "    Order is randomized.\n",
    "    Can specify a race to filter on.\n",
    "    Prints the equivalent SQL query.\n",
    "    Returns the dataframe result of the SQL query\"\"\"\n",
    "    var_count = 0\n",
    "    condition = \"--\"\n",
    "    for k, v in filters.items():\n",
    "        if var_count==0:\n",
    "            if type(v)!=str:\n",
    "                condition = \"WHERE {0} in {1}\".format(k, tuple(v))\n",
    "            else:\n",
    "                condition = \"WHERE {0} = '{1}'\".format(k, v)\n",
    "        else:\n",
    "            if type(v)!=str:\n",
    "                condition = condition + \"\"\"\n",
    "                AND {0} in {1}\"\"\".format(k, tuple(v))\n",
    "            else:\n",
    "                condition = condition + \"\"\"\n",
    "                AND {0} = '{1}'\"\"\".format(k, v)\n",
    "        \n",
    "        var_count += 1\n",
    "\n",
    "    sql_str = '''\n",
    "        SELECT * FROM traffic\n",
    "        {0}\n",
    "        ORDER BY RANDOM() \n",
    "        LIMIT {1}\n",
    "        '''.format(condition, n_sample)\n",
    "    if show_SQL: print(sql_str)\n",
    "    df = pd.read_sql_query(sql_str, connection)\n",
    "    return df"
   ]
  },
  {
   "cell_type": "code",
   "execution_count": null,
   "metadata": {
    "ExecuteTime": {
     "end_time": "2019-06-06T00:35:50.289788Z",
     "start_time": "2019-06-06T00:35:46.704584Z"
    }
   },
   "outputs": [],
   "source": [
    "df_white = sample_from_traffic(5000, conn, 'White')\n",
    "df_black = sample_from_traffic(5000, conn, 'Black')\n",
    "df_hispanic = sample_from_traffic(5000, conn, 'Hispanic')\n",
    "df_asian = sample_from_traffic(5000, conn, 'Asian')\n",
    "df_other = sample_from_traffic(5000, conn, 'other')\n",
    "\n",
    "df_race_sample = pd.concat([df_white, df_asian, df_black, df_hispanic, df_other])\n",
    "\n",
    "\n",
    "X = pd.get_dummies(df_race_sample['Race'], prefix='Race')\n",
    "X = X.drop(columns='Race_WHITE')\n",
    "y = (df_race_sample['Violation Type'] == 'Citation')*1\n",
    "y.columns = ['Citation']\n",
    "\n",
    "X = sm.add_constant(X)\n",
    "\n",
    "model_linreg = sm.OLS(y, X).fit()\n",
    "model_linreg.summary()"
   ]
  },
  {
   "cell_type": "code",
   "execution_count": null,
   "metadata": {
    "ExecuteTime": {
     "end_time": "2019-06-06T00:35:51.003165Z",
     "start_time": "2019-06-06T00:35:50.291832Z"
    }
   },
   "outputs": [],
   "source": [
    "df_test = sample_from_traffic(5000, conn)"
   ]
  },
  {
   "cell_type": "code",
   "execution_count": null,
   "metadata": {
    "ExecuteTime": {
     "end_time": "2019-06-06T00:35:51.011031Z",
     "start_time": "2019-06-06T00:35:51.004946Z"
    }
   },
   "outputs": [],
   "source": [
    "df_test.Race.value_counts()"
   ]
  },
  {
   "cell_type": "code",
   "execution_count": null,
   "metadata": {
    "ExecuteTime": {
     "end_time": "2019-06-06T00:35:54.114197Z",
     "start_time": "2019-06-06T00:35:51.013005Z"
    }
   },
   "outputs": [],
   "source": [
    "pd.to_datetime(all_df['Date Of Stop'], format='%m/%d/%Y').describe()"
   ]
  },
  {
   "cell_type": "code",
   "execution_count": null,
   "metadata": {
    "ExecuteTime": {
     "end_time": "2019-06-06T00:35:54.119281Z",
     "start_time": "2019-06-06T00:35:54.116404Z"
    }
   },
   "outputs": [],
   "source": [
    "import datetime"
   ]
  },
  {
   "cell_type": "code",
   "execution_count": null,
   "metadata": {
    "ExecuteTime": {
     "end_time": "2019-06-06T00:35:57.212841Z",
     "start_time": "2019-06-06T00:35:54.121210Z"
    }
   },
   "outputs": [],
   "source": [
    "fig = plt.figure(figsize=(16, 6))\n",
    "plt.hist(pd.to_datetime(all_df['Date Of Stop'], format='%m/%d/%Y'), bins=88);\n",
    "#plt.xlim(datetime.date(2016,1,1))"
   ]
  },
  {
   "cell_type": "code",
   "execution_count": null,
   "metadata": {
    "ExecuteTime": {
     "end_time": "2019-06-06T00:35:58.809019Z",
     "start_time": "2019-06-06T00:35:57.214239Z"
    }
   },
   "outputs": [],
   "source": [
    "all_df.Color.value_counts()"
   ]
  },
  {
   "cell_type": "code",
   "execution_count": null,
   "metadata": {
    "ExecuteTime": {
     "end_time": "2019-06-06T00:36:02.687539Z",
     "start_time": "2019-06-06T00:35:58.811338Z"
    }
   },
   "outputs": [],
   "source": [
    "# Linear regression of Race versus Citation\n",
    "\n",
    "df_white = sample_from_traffic(5000, conn, 'White')\n",
    "df_black = sample_from_traffic(5000, conn, 'Black')\n",
    "df_hispanic = sample_from_traffic(5000, conn, 'Hispanic')\n",
    "df_asian = sample_from_traffic(5000, conn, 'Asian')\n",
    "df_other = sample_from_traffic(5000, conn, 'other')\n",
    "\n",
    "df_race_sample = pd.concat([df_white, df_asian, df_black, df_hispanic, df_other])\n",
    "\n",
    "\n",
    "X = pd.get_dummies(df_race_sample['Race'], prefix='Race')\n",
    "X = X.drop(columns='Race_WHITE')\n",
    "y = (df_race_sample['Violation Type'] == 'Citation')*1\n",
    "y.columns = ['Citation']\n",
    "\n",
    "X = sm.add_constant(X)\n",
    "\n",
    "model_logit = sm.Logit(y, X).fit()\n",
    "model_logit.summary()"
   ]
  },
  {
   "cell_type": "code",
   "execution_count": null,
   "metadata": {
    "ExecuteTime": {
     "end_time": "2019-06-06T01:09:44.291590Z",
     "start_time": "2019-06-06T01:07:26.315828Z"
    }
   },
   "outputs": [],
   "source": [
    "# 2 prop z-test on white versus black citations\n",
    "\n",
    "from statsmodels.stats.proportion import proportions_ztest\n",
    "\n",
    "\n",
    "n_sim = 100\n",
    "\n",
    "mu_white_list = []\n",
    "mu_black_list = []\n",
    "z_list = []\n",
    "p_list = []\n",
    "\n",
    "for i in range(n_sim):\n",
    "    n_sample = 5000\n",
    "\n",
    "    df_white = sample_from_traffic(n_sample, conn, 'White', show_SQL=False)\n",
    "    df_black = sample_from_traffic(n_sample, conn, 'Black', show_SQL=False)\n",
    "\n",
    "    white_cited = sum(df_white['Violation Type'] == 'Citation')\n",
    "    black_cited = sum(df_black['Violation Type'] == 'Citation')\n",
    "\n",
    "    mu_white_list.append(white_cited / n_sample)\n",
    "    mu_black_list.append(black_cited / n_sample)\n",
    "    \n",
    "    count = np.array([white_cited, black_cited])\n",
    "    nobs = np.array([n_sample, n_sample])\n",
    "    z,p = proportions_ztest(count, nobs, value=0, alternative='two-sided')\n",
    "    z_list.append(z)\n",
    "    p_list.append(p)\n",
    "    \n",
    "\n",
    "\n",
    "fig = plt.figure(figsize=(16,10))\n",
    "\n",
    "\n",
    "sns.distplot(mu_white_list, label=\"White Proportion Cited\")\n",
    "sns.distplot(mu_black_list, label=\"Black Proportion Cited\")\n",
    "plt.title('Montgomery County Traffic Stops \\n Proportion Issued Citation - White vs. Black', fontsize=20)\n",
    "\n",
    "plt.xlabel('Proportion of Sample Issued Citation', fontsize=16)\n",
    "plt.ylabel('Frequency from {} simulations'.format(n_sim), fontsize=16)\n",
    "plt.legend();\n"
   ]
  },
  {
   "cell_type": "code",
   "execution_count": null,
   "metadata": {
    "ExecuteTime": {
     "end_time": "2019-06-06T01:21:26.791071Z",
     "start_time": "2019-06-06T01:21:26.385839Z"
    }
   },
   "outputs": [],
   "source": []
  },
  {
   "cell_type": "code",
   "execution_count": null,
   "metadata": {
    "ExecuteTime": {
     "end_time": "2019-06-06T03:25:28.691819Z",
     "start_time": "2019-06-06T03:23:30.012142Z"
    }
   },
   "outputs": [],
   "source": [
    "# 2 prop z-test on white versus black warnings\n",
    "\n",
    "from statsmodels.stats.proportion import proportions_ztest\n",
    "\n",
    "#n_sim is repeating the whole sampling process of 5000, 100 times\n",
    "n_sim = 100\n",
    "\n",
    "mu_white_list = []\n",
    "mu_black_list = []\n",
    "z_list = []\n",
    "p_list = []\n",
    "\n",
    "for i in range(n_sim):\n",
    "    n_sample = 5000\n",
    "\n",
    "    \n",
    "    descrip = \"FAILURE TO DISPLAY REGISTRATION CARD UPON DEMAND BY POLICE OFFICER\"\n",
    "    \n",
    "    df_white = sample_from_traffic_2(n_sample, conn, filters={'race':'WHITE', 'Description':descrip}, show_SQL=False)\n",
    "    df_black = sample_from_traffic_2(n_sample, conn, filters={'race':'BLACK', 'Description':descrip}, show_SQL=False)\n",
    "\n",
    "    white_cited = sum(df_white['Violation Type'] == 'Warning')\n",
    "    black_cited = sum(df_black['Violation Type'] == 'Warning')\n",
    "\n",
    "    mu_white_list.append(white_cited / n_sample)\n",
    "    mu_black_list.append(black_cited / n_sample)\n",
    "    \n",
    "    count = np.array([white_cited, black_cited])\n",
    "    nobs = np.array([n_sample, n_sample])\n",
    "    z,p = proportions_ztest(count, nobs, value=0, alternative='two-sided')\n",
    "    z_list.append(z)\n",
    "    p_list.append(p)\n",
    "    \n",
    "\n",
    "\n",
    "fig = plt.figure(figsize=(16,10))\n",
    "\n",
    "\n",
    "sns.distplot(mu_white_list, label=\"White Proportion Given Warning\")\n",
    "sns.distplot(mu_black_list, label=\"Black Proportion Given Warning\")\n",
    "plt.title('Montgomery County Traffic Stops \\n Did Not Present Registration to Officer \\n Proportion Given Warning - White vs. Black', fontsize=20)\n",
    "\n",
    "plt.xlabel('Proportion of Sample Given Warning', fontsize=16)\n",
    "plt.ylabel('Frequency from {} simulations'.format(n_sim), fontsize=16)\n",
    "plt.legend();\n"
   ]
  },
  {
   "cell_type": "code",
   "execution_count": 4,
   "metadata": {
    "ExecuteTime": {
     "end_time": "2019-06-06T03:25:28.691819Z",
     "start_time": "2019-06-06T03:23:30.012142Z"
    }
   },
   "outputs": [],
   "source": [
    "# 2 prop z-test on white versus black warnings\n",
    "# we are running a z-test instead of a t-test because we're looking at the proportions of sample \n",
    "#given a warning rather than the number of people\n",
    "\n",
    "from statsmodels.stats.proportion import proportions_ztest\n",
    "\n",
    "#n_sim is repeating the whole sampling process of 5000 people for each category, 100 times\n",
    "n_sim = 100\n",
    "\n",
    "\n",
    "mu_black_male_list = []\n",
    "mu_black_female_list = []\n",
    "mu_white_male_list = []\n",
    "mu_white_female_list = []\n",
    "\n",
    "z_list = []\n",
    "p_list = []\n",
    "\n",
    "for i in range(n_sim):\n",
    "    n_sample = 5000\n",
    "\n",
    "    df_black_male = sample_from_traffic_2(n_sample, conn, filters={'race':'BLACK','gender':'M'}, show_SQL=False)\n",
    "    df_black_female = sample_from_traffic_2(n_sample, conn, filters={'race':'BLACK', 'gender':'F'}, show_SQL=False)\n",
    "    df_white_male = sample_from_traffic_2(n_sample, conn, filters={'race':'BLACK', 'gender':'M'}, show_SQL=False)\n",
    "    df_white_female = sample_from_traffic_2(n_sample, conn, filters={'race':'BLACK', 'gender':'F'}, show_SQL=False)\n",
    "\n",
    "\n",
    "    black_male_cited = sum(df_black_male['Violation Type'] == 'Citation')\n",
    "    black_female_cited = sum(df_black_female['Violation Type'] == 'Citation')\n",
    "    white_male_cited = sum(df_white_male['Violation Type'] == 'Citation')\n",
    "    white_female_cited = sum(df_white_female['Violation Type'] == 'Citation')\n",
    "\n",
    "    mu_black_male_list.append(black_male_cited / n_sample)\n",
    "    mu_black_female_list.append(black_female_cited / n_sample)\n",
    "    mu_white_male_list.append(white_male_cited / n_sample)\n",
    "    mu_white_female_list.append(white_female_cited / n_sample)\n",
    "    \n",
    "    nobs = np.array([n_sample, n_sample])\n",
    "    \n",
    "    z1,p1 = proportions_ztest(np.array([black_male_cited, black_female_cited]), nobs, value=0, alternative='two-sided')\n",
    "    z2,p2 = proportions_ztest(np.array([black_male_cited, white_female_cited]), nobs, value=0, alternative='two-sided')\n",
    "    z3,p3 = proportions_ztest(np.array([white_female_cited, black_female_cited]), nobs, value=0, alternative='two-sided')\n",
    "    z4,p4 = proportions_ztest(np.array([white_male_cited, white_female_cited]), nobs, value=0, alternative='two-sided')\n",
    "\n",
    "    z_list.append([z1, z2, z3, z4])\n",
    "    p_list.append([p1, p2, p3, p4])\n",
    "    \n",
    "\n"
   ]
  },
  {
   "cell_type": "code",
   "execution_count": null,
   "metadata": {},
   "outputs": [],
   "source": [
    "p1"
   ]
  },
  {
   "cell_type": "code",
   "execution_count": null,
   "metadata": {},
   "outputs": [],
   "source": [
    "p2"
   ]
  },
  {
   "cell_type": "code",
   "execution_count": null,
   "metadata": {},
   "outputs": [],
   "source": [
    "p3"
   ]
  },
  {
   "cell_type": "code",
   "execution_count": null,
   "metadata": {},
   "outputs": [],
   "source": [
    "p4"
   ]
  },
  {
   "cell_type": "code",
   "execution_count": null,
   "metadata": {},
   "outputs": [],
   "source": [
    "z1_list =[x[0] for x in z_list]\n",
    "z1_list"
   ]
  },
  {
   "cell_type": "code",
   "execution_count": null,
   "metadata": {},
   "outputs": [],
   "source": [
    "p_list"
   ]
  },
  {
   "cell_type": "code",
   "execution_count": 12,
   "metadata": {},
   "outputs": [],
   "source": [
    "avg_mu_black_male_list= sum(mu_black_male_list)/len(mu_black_male_list)\n",
    "avg_mu_black_female_list= sum(mu_black_female_list)/len(mu_black_female_list)\n",
    "avg_mu_white_male_list= sum(mu_white_male_list)/len(mu_white_male_list)\n",
    "avg_mu_white_female_list= sum(mu_white_female_list)/len(mu_white_female_list)"
   ]
  },
  {
   "cell_type": "code",
   "execution_count": 20,
   "metadata": {},
   "outputs": [
    {
     "data": {
      "text/plain": [
       "0.48970400000000003"
      ]
     },
     "execution_count": 20,
     "metadata": {},
     "output_type": "execute_result"
    }
   ],
   "source": [
    "avg_mu_black_male_list"
   ]
  },
  {
   "cell_type": "code",
   "execution_count": 21,
   "metadata": {},
   "outputs": [
    {
     "data": {
      "text/plain": [
       "0.4230000000000001"
      ]
     },
     "execution_count": 21,
     "metadata": {},
     "output_type": "execute_result"
    }
   ],
   "source": [
    "avg_mu_black_female_list"
   ]
  },
  {
   "cell_type": "code",
   "execution_count": 22,
   "metadata": {},
   "outputs": [
    {
     "data": {
      "text/plain": [
       "0.4905380000000001"
      ]
     },
     "execution_count": 22,
     "metadata": {},
     "output_type": "execute_result"
    }
   ],
   "source": [
    "avg_mu_white_male_list"
   ]
  },
  {
   "cell_type": "code",
   "execution_count": 23,
   "metadata": {},
   "outputs": [
    {
     "data": {
      "text/plain": [
       "0.4215379999999999"
      ]
     },
     "execution_count": 23,
     "metadata": {},
     "output_type": "execute_result"
    }
   ],
   "source": [
    "avg_mu_white_female_list"
   ]
  },
  {
   "cell_type": "code",
   "execution_count": 19,
   "metadata": {},
   "outputs": [
    {
     "ename": "TypeError",
     "evalue": "'float' object is not iterable",
     "output_type": "error",
     "traceback": [
      "\u001b[0;31m---------------------------------------------------------------------------\u001b[0m",
      "\u001b[0;31mAttributeError\u001b[0m                            Traceback (most recent call last)",
      "\u001b[0;32m~/anaconda3/lib/python3.7/site-packages/seaborn/utils.py\u001b[0m in \u001b[0;36mcategorical_order\u001b[0;34m(values, order)\u001b[0m\n\u001b[1;32m    525\u001b[0m             \u001b[0;32mtry\u001b[0m\u001b[0;34m:\u001b[0m\u001b[0;34m\u001b[0m\u001b[0;34m\u001b[0m\u001b[0m\n\u001b[0;32m--> 526\u001b[0;31m                 \u001b[0morder\u001b[0m \u001b[0;34m=\u001b[0m \u001b[0mvalues\u001b[0m\u001b[0;34m.\u001b[0m\u001b[0mcat\u001b[0m\u001b[0;34m.\u001b[0m\u001b[0mcategories\u001b[0m\u001b[0;34m\u001b[0m\u001b[0;34m\u001b[0m\u001b[0m\n\u001b[0m\u001b[1;32m    527\u001b[0m             \u001b[0;32mexcept\u001b[0m \u001b[0;34m(\u001b[0m\u001b[0mTypeError\u001b[0m\u001b[0;34m,\u001b[0m \u001b[0mAttributeError\u001b[0m\u001b[0;34m)\u001b[0m\u001b[0;34m:\u001b[0m\u001b[0;34m\u001b[0m\u001b[0;34m\u001b[0m\u001b[0m\n",
      "\u001b[0;31mAttributeError\u001b[0m: 'float' object has no attribute 'cat'",
      "\nDuring handling of the above exception, another exception occurred:\n",
      "\u001b[0;31mAttributeError\u001b[0m                            Traceback (most recent call last)",
      "\u001b[0;32m~/anaconda3/lib/python3.7/site-packages/seaborn/utils.py\u001b[0m in \u001b[0;36mcategorical_order\u001b[0;34m(values, order)\u001b[0m\n\u001b[1;32m    528\u001b[0m                 \u001b[0;32mtry\u001b[0m\u001b[0;34m:\u001b[0m\u001b[0;34m\u001b[0m\u001b[0;34m\u001b[0m\u001b[0m\n\u001b[0;32m--> 529\u001b[0;31m                     \u001b[0morder\u001b[0m \u001b[0;34m=\u001b[0m \u001b[0mvalues\u001b[0m\u001b[0;34m.\u001b[0m\u001b[0munique\u001b[0m\u001b[0;34m(\u001b[0m\u001b[0;34m)\u001b[0m\u001b[0;34m\u001b[0m\u001b[0;34m\u001b[0m\u001b[0m\n\u001b[0m\u001b[1;32m    530\u001b[0m                 \u001b[0;32mexcept\u001b[0m \u001b[0mAttributeError\u001b[0m\u001b[0;34m:\u001b[0m\u001b[0;34m\u001b[0m\u001b[0;34m\u001b[0m\u001b[0m\n",
      "\u001b[0;31mAttributeError\u001b[0m: 'float' object has no attribute 'unique'",
      "\nDuring handling of the above exception, another exception occurred:\n",
      "\u001b[0;31mTypeError\u001b[0m                                 Traceback (most recent call last)",
      "\u001b[0;32m<ipython-input-19-fde9f1969c6e>\u001b[0m in \u001b[0;36m<module>\u001b[0;34m\u001b[0m\n\u001b[1;32m      5\u001b[0m \u001b[0;31m# sns.distplot(avg_mu_black_female_list, label=\"Black Female: Proportion Given Citation\")\u001b[0m\u001b[0;34m\u001b[0m\u001b[0;34m\u001b[0m\u001b[0;34m\u001b[0m\u001b[0m\n\u001b[1;32m      6\u001b[0m \u001b[0;34m\u001b[0m\u001b[0m\n\u001b[0;32m----> 7\u001b[0;31m \u001b[0msns\u001b[0m\u001b[0;34m.\u001b[0m\u001b[0mbarplot\u001b[0m\u001b[0;34m(\u001b[0m\u001b[0mavg_mu_black_male_list\u001b[0m\u001b[0;34m,\u001b[0m \u001b[0mavg_mu_black_female_list\u001b[0m\u001b[0;34m,\u001b[0m \u001b[0mlabel\u001b[0m\u001b[0;34m=\u001b[0m\u001b[0;34m\"Black Males vs. Females: Proportion Given Citation\"\u001b[0m\u001b[0;34m)\u001b[0m\u001b[0;34m\u001b[0m\u001b[0;34m\u001b[0m\u001b[0m\n\u001b[0m\u001b[1;32m      8\u001b[0m \u001b[0;31m# plt.title('Montgomery County Traffic Stops \\n Proportion Given Citation \\n Black Males vs. Black Females', fontsize=20)\u001b[0m\u001b[0;34m\u001b[0m\u001b[0;34m\u001b[0m\u001b[0;34m\u001b[0m\u001b[0m\n\u001b[1;32m      9\u001b[0m \u001b[0;34m\u001b[0m\u001b[0m\n",
      "\u001b[0;32m~/anaconda3/lib/python3.7/site-packages/seaborn/categorical.py\u001b[0m in \u001b[0;36mbarplot\u001b[0;34m(x, y, hue, data, order, hue_order, estimator, ci, n_boot, units, orient, color, palette, saturation, errcolor, errwidth, capsize, dodge, ax, **kwargs)\u001b[0m\n\u001b[1;32m   3147\u001b[0m                           \u001b[0mestimator\u001b[0m\u001b[0;34m,\u001b[0m \u001b[0mci\u001b[0m\u001b[0;34m,\u001b[0m \u001b[0mn_boot\u001b[0m\u001b[0;34m,\u001b[0m \u001b[0munits\u001b[0m\u001b[0;34m,\u001b[0m\u001b[0;34m\u001b[0m\u001b[0;34m\u001b[0m\u001b[0m\n\u001b[1;32m   3148\u001b[0m                           \u001b[0morient\u001b[0m\u001b[0;34m,\u001b[0m \u001b[0mcolor\u001b[0m\u001b[0;34m,\u001b[0m \u001b[0mpalette\u001b[0m\u001b[0;34m,\u001b[0m \u001b[0msaturation\u001b[0m\u001b[0;34m,\u001b[0m\u001b[0;34m\u001b[0m\u001b[0;34m\u001b[0m\u001b[0m\n\u001b[0;32m-> 3149\u001b[0;31m                           errcolor, errwidth, capsize, dodge)\n\u001b[0m\u001b[1;32m   3150\u001b[0m \u001b[0;34m\u001b[0m\u001b[0m\n\u001b[1;32m   3151\u001b[0m     \u001b[0;32mif\u001b[0m \u001b[0max\u001b[0m \u001b[0;32mis\u001b[0m \u001b[0;32mNone\u001b[0m\u001b[0;34m:\u001b[0m\u001b[0;34m\u001b[0m\u001b[0;34m\u001b[0m\u001b[0m\n",
      "\u001b[0;32m~/anaconda3/lib/python3.7/site-packages/seaborn/categorical.py\u001b[0m in \u001b[0;36m__init__\u001b[0;34m(self, x, y, hue, data, order, hue_order, estimator, ci, n_boot, units, orient, color, palette, saturation, errcolor, errwidth, capsize, dodge)\u001b[0m\n\u001b[1;32m   1605\u001b[0m         \u001b[0;34m\"\"\"Initialize the plotter.\"\"\"\u001b[0m\u001b[0;34m\u001b[0m\u001b[0;34m\u001b[0m\u001b[0m\n\u001b[1;32m   1606\u001b[0m         self.establish_variables(x, y, hue, data, orient,\n\u001b[0;32m-> 1607\u001b[0;31m                                  order, hue_order, units)\n\u001b[0m\u001b[1;32m   1608\u001b[0m         \u001b[0mself\u001b[0m\u001b[0;34m.\u001b[0m\u001b[0mestablish_colors\u001b[0m\u001b[0;34m(\u001b[0m\u001b[0mcolor\u001b[0m\u001b[0;34m,\u001b[0m \u001b[0mpalette\u001b[0m\u001b[0;34m,\u001b[0m \u001b[0msaturation\u001b[0m\u001b[0;34m)\u001b[0m\u001b[0;34m\u001b[0m\u001b[0;34m\u001b[0m\u001b[0m\n\u001b[1;32m   1609\u001b[0m         \u001b[0mself\u001b[0m\u001b[0;34m.\u001b[0m\u001b[0mestimate_statistic\u001b[0m\u001b[0;34m(\u001b[0m\u001b[0mestimator\u001b[0m\u001b[0;34m,\u001b[0m \u001b[0mci\u001b[0m\u001b[0;34m,\u001b[0m \u001b[0mn_boot\u001b[0m\u001b[0;34m)\u001b[0m\u001b[0;34m\u001b[0m\u001b[0;34m\u001b[0m\u001b[0m\n",
      "\u001b[0;32m~/anaconda3/lib/python3.7/site-packages/seaborn/categorical.py\u001b[0m in \u001b[0;36mestablish_variables\u001b[0;34m(self, x, y, hue, data, orient, order, hue_order, units)\u001b[0m\n\u001b[1;32m    201\u001b[0m \u001b[0;34m\u001b[0m\u001b[0m\n\u001b[1;32m    202\u001b[0m                 \u001b[0;31m# Get the order on the categorical axis\u001b[0m\u001b[0;34m\u001b[0m\u001b[0;34m\u001b[0m\u001b[0;34m\u001b[0m\u001b[0m\n\u001b[0;32m--> 203\u001b[0;31m                 \u001b[0mgroup_names\u001b[0m \u001b[0;34m=\u001b[0m \u001b[0mcategorical_order\u001b[0m\u001b[0;34m(\u001b[0m\u001b[0mgroups\u001b[0m\u001b[0;34m,\u001b[0m \u001b[0morder\u001b[0m\u001b[0;34m)\u001b[0m\u001b[0;34m\u001b[0m\u001b[0;34m\u001b[0m\u001b[0m\n\u001b[0m\u001b[1;32m    204\u001b[0m \u001b[0;34m\u001b[0m\u001b[0m\n\u001b[1;32m    205\u001b[0m                 \u001b[0;31m# Group the numeric data\u001b[0m\u001b[0;34m\u001b[0m\u001b[0;34m\u001b[0m\u001b[0;34m\u001b[0m\u001b[0m\n",
      "\u001b[0;32m~/anaconda3/lib/python3.7/site-packages/seaborn/utils.py\u001b[0m in \u001b[0;36mcategorical_order\u001b[0;34m(values, order)\u001b[0m\n\u001b[1;32m    529\u001b[0m                     \u001b[0morder\u001b[0m \u001b[0;34m=\u001b[0m \u001b[0mvalues\u001b[0m\u001b[0;34m.\u001b[0m\u001b[0munique\u001b[0m\u001b[0;34m(\u001b[0m\u001b[0;34m)\u001b[0m\u001b[0;34m\u001b[0m\u001b[0;34m\u001b[0m\u001b[0m\n\u001b[1;32m    530\u001b[0m                 \u001b[0;32mexcept\u001b[0m \u001b[0mAttributeError\u001b[0m\u001b[0;34m:\u001b[0m\u001b[0;34m\u001b[0m\u001b[0;34m\u001b[0m\u001b[0m\n\u001b[0;32m--> 531\u001b[0;31m                     \u001b[0morder\u001b[0m \u001b[0;34m=\u001b[0m \u001b[0mpd\u001b[0m\u001b[0;34m.\u001b[0m\u001b[0munique\u001b[0m\u001b[0;34m(\u001b[0m\u001b[0mvalues\u001b[0m\u001b[0;34m)\u001b[0m\u001b[0;34m\u001b[0m\u001b[0;34m\u001b[0m\u001b[0m\n\u001b[0m\u001b[1;32m    532\u001b[0m                 \u001b[0;32mtry\u001b[0m\u001b[0;34m:\u001b[0m\u001b[0;34m\u001b[0m\u001b[0;34m\u001b[0m\u001b[0m\n\u001b[1;32m    533\u001b[0m                     \u001b[0mnp\u001b[0m\u001b[0;34m.\u001b[0m\u001b[0masarray\u001b[0m\u001b[0;34m(\u001b[0m\u001b[0mvalues\u001b[0m\u001b[0;34m)\u001b[0m\u001b[0;34m.\u001b[0m\u001b[0mastype\u001b[0m\u001b[0;34m(\u001b[0m\u001b[0mnp\u001b[0m\u001b[0;34m.\u001b[0m\u001b[0mfloat\u001b[0m\u001b[0;34m)\u001b[0m\u001b[0;34m\u001b[0m\u001b[0;34m\u001b[0m\u001b[0m\n",
      "\u001b[0;32m~/anaconda3/lib/python3.7/site-packages/pandas/core/algorithms.py\u001b[0m in \u001b[0;36munique\u001b[0;34m(values)\u001b[0m\n\u001b[1;32m    350\u001b[0m     \"\"\"\n\u001b[1;32m    351\u001b[0m \u001b[0;34m\u001b[0m\u001b[0m\n\u001b[0;32m--> 352\u001b[0;31m     \u001b[0mvalues\u001b[0m \u001b[0;34m=\u001b[0m \u001b[0m_ensure_arraylike\u001b[0m\u001b[0;34m(\u001b[0m\u001b[0mvalues\u001b[0m\u001b[0;34m)\u001b[0m\u001b[0;34m\u001b[0m\u001b[0;34m\u001b[0m\u001b[0m\n\u001b[0m\u001b[1;32m    353\u001b[0m \u001b[0;34m\u001b[0m\u001b[0m\n\u001b[1;32m    354\u001b[0m     \u001b[0;32mif\u001b[0m \u001b[0mis_extension_array_dtype\u001b[0m\u001b[0;34m(\u001b[0m\u001b[0mvalues\u001b[0m\u001b[0;34m)\u001b[0m\u001b[0;34m:\u001b[0m\u001b[0;34m\u001b[0m\u001b[0;34m\u001b[0m\u001b[0m\n",
      "\u001b[0;32m~/anaconda3/lib/python3.7/site-packages/pandas/core/algorithms.py\u001b[0m in \u001b[0;36m_ensure_arraylike\u001b[0;34m(values)\u001b[0m\n\u001b[1;32m    166\u001b[0m     \"\"\"\n\u001b[1;32m    167\u001b[0m     \u001b[0;32mif\u001b[0m \u001b[0;32mnot\u001b[0m \u001b[0mis_array_like\u001b[0m\u001b[0;34m(\u001b[0m\u001b[0mvalues\u001b[0m\u001b[0;34m)\u001b[0m\u001b[0;34m:\u001b[0m\u001b[0;34m\u001b[0m\u001b[0;34m\u001b[0m\u001b[0m\n\u001b[0;32m--> 168\u001b[0;31m         \u001b[0minferred\u001b[0m \u001b[0;34m=\u001b[0m \u001b[0mlib\u001b[0m\u001b[0;34m.\u001b[0m\u001b[0minfer_dtype\u001b[0m\u001b[0;34m(\u001b[0m\u001b[0mvalues\u001b[0m\u001b[0;34m,\u001b[0m \u001b[0mskipna\u001b[0m\u001b[0;34m=\u001b[0m\u001b[0;32mFalse\u001b[0m\u001b[0;34m)\u001b[0m\u001b[0;34m\u001b[0m\u001b[0;34m\u001b[0m\u001b[0m\n\u001b[0m\u001b[1;32m    169\u001b[0m         \u001b[0;32mif\u001b[0m \u001b[0minferred\u001b[0m \u001b[0;32min\u001b[0m \u001b[0;34m[\u001b[0m\u001b[0;34m'mixed'\u001b[0m\u001b[0;34m,\u001b[0m \u001b[0;34m'string'\u001b[0m\u001b[0;34m,\u001b[0m \u001b[0;34m'unicode'\u001b[0m\u001b[0;34m]\u001b[0m\u001b[0;34m:\u001b[0m\u001b[0;34m\u001b[0m\u001b[0;34m\u001b[0m\u001b[0m\n\u001b[1;32m    170\u001b[0m             \u001b[0;32mif\u001b[0m \u001b[0misinstance\u001b[0m\u001b[0;34m(\u001b[0m\u001b[0mvalues\u001b[0m\u001b[0;34m,\u001b[0m \u001b[0mtuple\u001b[0m\u001b[0;34m)\u001b[0m\u001b[0;34m:\u001b[0m\u001b[0;34m\u001b[0m\u001b[0;34m\u001b[0m\u001b[0m\n",
      "\u001b[0;32mpandas/_libs/lib.pyx\u001b[0m in \u001b[0;36mpandas._libs.lib.infer_dtype\u001b[0;34m()\u001b[0m\n",
      "\u001b[0;31mTypeError\u001b[0m: 'float' object is not iterable"
     ]
    },
    {
     "data": {
      "text/plain": [
       "<Figure size 1152x720 with 0 Axes>"
      ]
     },
     "metadata": {},
     "output_type": "display_data"
    }
   ],
   "source": [
    "#Black Male vs. Black Female Citation Rate\n",
    "fig = plt.figure(figsize=(16,10))\n",
    "\n",
    "sns.set()\n",
    "cols = ['price']\n",
    "independent_variables = ['sqft_living', 'sqft_lot', 'sqft_above', 'sqft_basement_calc', 'bedrooms', 'bathrooms', 'floors', 'condition', 'grade', 'yr_renovated', 'view']\n",
    "independent_variables.sort()\n",
    "cols.extend(independent_variables)\n",
    "sns.pairplot(df_cleaned[cols], size = 3.5)\n",
    "plt.show();\n",
    "\n",
    "sns.barplot(avg_mu_black_male_list, avg_mu_black_female_list, label=\"Black Males vs. Females: Proportion Given Citation\")\n"
   ]
  },
  {
   "cell_type": "code",
   "execution_count": null,
   "metadata": {},
   "outputs": [],
   "source": [
    "#Black Male vs. White Male Citation Rate\n",
    "fig = plt.figure(figsize=(16,10))\n",
    "\n",
    "sns.distplot(mu_black_male_list, label=\"Black Male: Proportion Given Citation\")\n",
    "sns.distplot(mu_white_female_list, label=\"White Male: Proportion Given Citation\")\n",
    "\n",
    "\n",
    "plt.title('Montgomery County Traffic Stops \\n Proportion Given Citation \\n Black Male vs. White Males', fontsize=20)\n",
    "\n",
    "plt.xlabel('Proportion of Sample Given Citation', fontsize=16)\n",
    "plt.ylabel('Frequency from {} simulations'.format(n_sim), fontsize=16)\n",
    "plt.legend();"
   ]
  },
  {
   "cell_type": "code",
   "execution_count": null,
   "metadata": {},
   "outputs": [],
   "source": [
    "#White Male vs. White Female Citation Rate\n",
    "fig = plt.figure(figsize=(16,10))\n",
    "\n",
    "sns.distplot(mu_white_male_list, label=\"White Males: Proportion Given Citation\")\n",
    "sns.distplot(mu_white_female_list, label=\"White Females: Proportion Given Citation\")\n",
    "\n",
    "\n",
    "plt.title('Montgomery County Traffic Stops \\n Proportion Given Citation \\n White Male vs. White Females', fontsize=20)\n",
    "\n",
    "plt.xlabel('Proportion of Sample Given Citation', fontsize=16)\n",
    "plt.ylabel('Frequency from {} simulations'.format(n_sim), fontsize=16)\n",
    "plt.legend();"
   ]
  },
  {
   "cell_type": "code",
   "execution_count": null,
   "metadata": {},
   "outputs": [],
   "source": [
    "#White Female vs. Black Female Citation Rate\n",
    "fig = plt.figure(figsize=(16,10))\n",
    "\n",
    "sns.distplot(mu_black_female_list, label=\"Black Females: Proportion Given Citation\")\n",
    "sns.distplot(mu_white_female_list, label=\"White Females: Proportion Given Citation\")\n",
    "\n",
    "\n",
    "plt.title('Montgomery County Traffic Stops \\n Proportion Given Citation \\n Black Females vs. White Females', fontsize=20)\n",
    "\n",
    "plt.xlabel('Proportion of Sample Given Citation', fontsize=16)\n",
    "plt.ylabel('Frequency from {} simulations'.format(n_sim), fontsize=16)\n",
    "plt.legend();"
   ]
  },
  {
   "cell_type": "code",
   "execution_count": null,
   "metadata": {},
   "outputs": [],
   "source": []
  }
 ],
 "metadata": {
  "kernelspec": {
   "display_name": "Python 3",
   "language": "python",
   "name": "python3"
  },
  "language_info": {
   "codemirror_mode": {
    "name": "ipython",
    "version": 3
   },
   "file_extension": ".py",
   "mimetype": "text/x-python",
   "name": "python",
   "nbconvert_exporter": "python",
   "pygments_lexer": "ipython3",
   "version": "3.7.3"
  },
  "toc": {
   "base_numbering": 1,
   "nav_menu": {},
   "number_sections": true,
   "sideBar": true,
   "skip_h1_title": false,
   "title_cell": "Table of Contents",
   "title_sidebar": "Contents",
   "toc_cell": false,
   "toc_position": {},
   "toc_section_display": true,
   "toc_window_display": false
  },
  "varInspector": {
   "cols": {
    "lenName": 16,
    "lenType": 16,
    "lenVar": 40
   },
   "kernels_config": {
    "python": {
     "delete_cmd_postfix": "",
     "delete_cmd_prefix": "del ",
     "library": "var_list.py",
     "varRefreshCmd": "print(var_dic_list())"
    },
    "r": {
     "delete_cmd_postfix": ") ",
     "delete_cmd_prefix": "rm(",
     "library": "var_list.r",
     "varRefreshCmd": "cat(var_dic_list()) "
    }
   },
   "position": {
    "height": "450px",
    "left": "216px",
    "right": "20px",
    "top": "120px",
    "width": "587px"
   },
   "types_to_exclude": [
    "module",
    "function",
    "builtin_function_or_method",
    "instance",
    "_Feature"
   ],
   "window_display": false
  }
 },
 "nbformat": 4,
 "nbformat_minor": 2
}
