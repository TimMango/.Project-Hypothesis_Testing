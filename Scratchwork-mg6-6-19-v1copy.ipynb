{
 "cells": [
  {
   "cell_type": "code",
   "execution_count": 1,
   "metadata": {
    "ExecuteTime": {
     "end_time": "2019-06-06T00:34:16.254797Z",
     "start_time": "2019-06-06T00:34:13.779476Z"
    }
   },
   "outputs": [],
   "source": [
    "import sqlite3 \n",
    "import pandas as pd\n",
    "#import pandas_profiling as pp\n",
    "import numpy as np\n",
    "\n",
    "import statsmodels.api as sm\n",
    "\n",
    "import seaborn as sns\n",
    "\n",
    "sns.set_style(\"whitegrid\")\n"
   ]
  },
  {
   "cell_type": "code",
   "execution_count": 2,
   "metadata": {
    "ExecuteTime": {
     "end_time": "2019-06-06T01:44:34.688665Z",
     "start_time": "2019-06-06T01:44:34.682510Z"
    }
   },
   "outputs": [],
   "source": [
    "conn = sqlite3.connect('traffic.db')\n",
    "c = conn.cursor()"
   ]
  },
  {
   "cell_type": "code",
   "execution_count": 3,
   "metadata": {
    "ExecuteTime": {
     "end_time": "2019-06-06T02:22:10.209751Z",
     "start_time": "2019-06-06T02:22:10.193797Z"
    }
   },
   "outputs": [
    {
     "data": {
      "text/html": [
       "<div>\n",
       "<style scoped>\n",
       "    .dataframe tbody tr th:only-of-type {\n",
       "        vertical-align: middle;\n",
       "    }\n",
       "\n",
       "    .dataframe tbody tr th {\n",
       "        vertical-align: top;\n",
       "    }\n",
       "\n",
       "    .dataframe thead th {\n",
       "        text-align: right;\n",
       "    }\n",
       "</style>\n",
       "<table border=\"1\" class=\"dataframe\">\n",
       "  <thead>\n",
       "    <tr style=\"text-align: right;\">\n",
       "      <th></th>\n",
       "      <th>type</th>\n",
       "      <th>name</th>\n",
       "      <th>tbl_name</th>\n",
       "      <th>rootpage</th>\n",
       "      <th>sql</th>\n",
       "    </tr>\n",
       "  </thead>\n",
       "  <tbody>\n",
       "    <tr>\n",
       "      <th>0</th>\n",
       "      <td>table</td>\n",
       "      <td>traffic</td>\n",
       "      <td>traffic</td>\n",
       "      <td>2</td>\n",
       "      <td>CREATE TABLE traffic(\\n  \"SeqID\" TEXT,\\n  \"Dat...</td>\n",
       "    </tr>\n",
       "  </tbody>\n",
       "</table>\n",
       "</div>"
      ],
      "text/plain": [
       "    type     name tbl_name  rootpage  \\\n",
       "0  table  traffic  traffic         2   \n",
       "\n",
       "                                                 sql  \n",
       "0  CREATE TABLE traffic(\\n  \"SeqID\" TEXT,\\n  \"Dat...  "
      ]
     },
     "execution_count": 3,
     "metadata": {},
     "output_type": "execute_result"
    }
   ],
   "source": [
    "sql_master = \"\"\"SELECT * FROM sqlite_master\"\"\"\n",
    "pd.read_sql_query(sql_master, conn)"
   ]
  },
  {
   "cell_type": "code",
   "execution_count": 4,
   "metadata": {
    "ExecuteTime": {
     "end_time": "2019-06-06T00:34:16.308016Z",
     "start_time": "2019-06-06T00:34:16.299179Z"
    }
   },
   "outputs": [
    {
     "data": {
      "text/html": [
       "<div>\n",
       "<style scoped>\n",
       "    .dataframe tbody tr th:only-of-type {\n",
       "        vertical-align: middle;\n",
       "    }\n",
       "\n",
       "    .dataframe tbody tr th {\n",
       "        vertical-align: top;\n",
       "    }\n",
       "\n",
       "    .dataframe thead th {\n",
       "        text-align: right;\n",
       "    }\n",
       "</style>\n",
       "<table border=\"1\" class=\"dataframe\">\n",
       "  <thead>\n",
       "    <tr style=\"text-align: right;\">\n",
       "      <th></th>\n",
       "      <th>type</th>\n",
       "      <th>name</th>\n",
       "      <th>tbl_name</th>\n",
       "      <th>rootpage</th>\n",
       "      <th>sql</th>\n",
       "    </tr>\n",
       "  </thead>\n",
       "  <tbody>\n",
       "    <tr>\n",
       "      <th>0</th>\n",
       "      <td>table</td>\n",
       "      <td>traffic</td>\n",
       "      <td>traffic</td>\n",
       "      <td>2</td>\n",
       "      <td>CREATE TABLE traffic(\\n  \"SeqID\" TEXT,\\n  \"Dat...</td>\n",
       "    </tr>\n",
       "  </tbody>\n",
       "</table>\n",
       "</div>"
      ],
      "text/plain": [
       "    type     name tbl_name  rootpage  \\\n",
       "0  table  traffic  traffic         2   \n",
       "\n",
       "                                                 sql  \n",
       "0  CREATE TABLE traffic(\\n  \"SeqID\" TEXT,\\n  \"Dat...  "
      ]
     },
     "execution_count": 4,
     "metadata": {},
     "output_type": "execute_result"
    }
   ],
   "source": [
    "### sql_master = \"\"\"SELECT sql FROM sqlite_master\"\"\"\n",
    "pd.read_sql_query(sql_master, conn)"
   ]
  },
  {
   "cell_type": "code",
   "execution_count": 5,
   "metadata": {
    "ExecuteTime": {
     "end_time": "2019-06-06T01:48:40.870269Z",
     "start_time": "2019-06-06T01:47:32.365426Z"
    }
   },
   "outputs": [
    {
     "data": {
      "text/html": [
       "<div>\n",
       "<style scoped>\n",
       "    .dataframe tbody tr th:only-of-type {\n",
       "        vertical-align: middle;\n",
       "    }\n",
       "\n",
       "    .dataframe tbody tr th {\n",
       "        vertical-align: top;\n",
       "    }\n",
       "\n",
       "    .dataframe thead th {\n",
       "        text-align: right;\n",
       "    }\n",
       "</style>\n",
       "<table border=\"1\" class=\"dataframe\">\n",
       "  <thead>\n",
       "    <tr style=\"text-align: right;\">\n",
       "      <th></th>\n",
       "      <th>SeqID</th>\n",
       "      <th>Date Of Stop</th>\n",
       "      <th>Time Of Stop</th>\n",
       "      <th>Agency</th>\n",
       "      <th>SubAgency</th>\n",
       "      <th>Description</th>\n",
       "      <th>Location</th>\n",
       "      <th>Latitude</th>\n",
       "      <th>Longitude</th>\n",
       "      <th>Accident</th>\n",
       "      <th>...</th>\n",
       "      <th>Driver City</th>\n",
       "      <th>Driver State</th>\n",
       "      <th>DL State</th>\n",
       "      <th>Arrest Type</th>\n",
       "      <th>Geolocation</th>\n",
       "      <th>Council Districts</th>\n",
       "      <th>Councils</th>\n",
       "      <th>Communities</th>\n",
       "      <th>Zip Codes</th>\n",
       "      <th>Municipalities</th>\n",
       "    </tr>\n",
       "  </thead>\n",
       "  <tbody>\n",
       "    <tr>\n",
       "      <th>0</th>\n",
       "      <td>865defcf-8348-4e11-a5bf-996d8b3ead3c</td>\n",
       "      <td>06/03/2019</td>\n",
       "      <td>22:49:00</td>\n",
       "      <td>MCP</td>\n",
       "      <td>2nd District, Bethesda</td>\n",
       "      <td>DRIVER CHANGING LANES WHEN UNSAFE</td>\n",
       "      <td>ROCKVILLE PIKE @ GROSVENOR LN</td>\n",
       "      <td>39.0231383333333</td>\n",
       "      <td>-77.102615</td>\n",
       "      <td>No</td>\n",
       "      <td>...</td>\n",
       "      <td>WASHINGTON</td>\n",
       "      <td>DC</td>\n",
       "      <td>DC</td>\n",
       "      <td>A - Marked Patrol</td>\n",
       "      <td>(39.0231383333333, -77.102615)</td>\n",
       "      <td>1</td>\n",
       "      <td>1</td>\n",
       "      <td>12</td>\n",
       "      <td>111</td>\n",
       "      <td>1</td>\n",
       "    </tr>\n",
       "    <tr>\n",
       "      <th>1</th>\n",
       "      <td>20bff600-1843-46c4-9596-6b0670eb8d74</td>\n",
       "      <td>06/03/2019</td>\n",
       "      <td>22:48:00</td>\n",
       "      <td>MCP</td>\n",
       "      <td>2nd District, Bethesda</td>\n",
       "      <td>EXCEEDING THE POSTED SPEED LIMIT OF 35 MPH</td>\n",
       "      <td>RIVER/ROYAL DOMINION</td>\n",
       "      <td>38.99006</td>\n",
       "      <td>-77.15189</td>\n",
       "      <td>No</td>\n",
       "      <td>...</td>\n",
       "      <td>POTOMAC</td>\n",
       "      <td>MD</td>\n",
       "      <td>MD</td>\n",
       "      <td>A - Marked Patrol</td>\n",
       "      <td>(38.99006, -77.15189)</td>\n",
       "      <td>1</td>\n",
       "      <td>1</td>\n",
       "      <td>12</td>\n",
       "      <td>103</td>\n",
       "      <td>1</td>\n",
       "    </tr>\n",
       "    <tr>\n",
       "      <th>2</th>\n",
       "      <td>e121eebe-daa1-4cca-afd4-8abb4b388ed6</td>\n",
       "      <td>06/03/2019</td>\n",
       "      <td>22:45:00</td>\n",
       "      <td>MCP</td>\n",
       "      <td>4th District, Wheaton</td>\n",
       "      <td>EXCEEDING THE POSTED SPEED LIMIT OF 35 MPH</td>\n",
       "      <td>GEORGIA @ EPPING</td>\n",
       "      <td>39.0662666666667</td>\n",
       "      <td>-77.0592166666667</td>\n",
       "      <td>No</td>\n",
       "      <td>...</td>\n",
       "      <td>SILVER SPRING</td>\n",
       "      <td>MD</td>\n",
       "      <td>MD</td>\n",
       "      <td>A - Marked Patrol</td>\n",
       "      <td>(39.0662666666667, -77.0592166666667)</td>\n",
       "      <td>4</td>\n",
       "      <td>4</td>\n",
       "      <td>23</td>\n",
       "      <td>6</td>\n",
       "      <td>1</td>\n",
       "    </tr>\n",
       "    <tr>\n",
       "      <th>3</th>\n",
       "      <td>1e25ee9b-c019-41c2-9d74-41e05e6d1cee</td>\n",
       "      <td>06/03/2019</td>\n",
       "      <td>22:43:00</td>\n",
       "      <td>MCP</td>\n",
       "      <td>4th District, Wheaton</td>\n",
       "      <td>STOP LIGHTS (*)</td>\n",
       "      <td>GEORGIA  AVE / ASPON HILL RD</td>\n",
       "      <td>39.0825783333333</td>\n",
       "      <td>-77.076885</td>\n",
       "      <td>No</td>\n",
       "      <td>...</td>\n",
       "      <td>ROCKVILLE</td>\n",
       "      <td>MD</td>\n",
       "      <td>MD</td>\n",
       "      <td>A - Marked Patrol</td>\n",
       "      <td>(39.0825783333333, -77.076885)</td>\n",
       "      <td>4</td>\n",
       "      <td>4</td>\n",
       "      <td>59</td>\n",
       "      <td>6</td>\n",
       "      <td>1</td>\n",
       "    </tr>\n",
       "    <tr>\n",
       "      <th>4</th>\n",
       "      <td>2c5730ec-d5e6-4657-a5a0-fcecca1ab140</td>\n",
       "      <td>06/03/2019</td>\n",
       "      <td>22:41:00</td>\n",
       "      <td>MCP</td>\n",
       "      <td>2nd District, Bethesda</td>\n",
       "      <td>FAILURE TO DISPLAY &amp; REFLECT RED COLOR LIGHT O...</td>\n",
       "      <td>ARLINGTON RD / BETHESDA AVE</td>\n",
       "      <td>38.97886</td>\n",
       "      <td>-77.0985183333333</td>\n",
       "      <td>No</td>\n",
       "      <td>...</td>\n",
       "      <td>BETHESDA</td>\n",
       "      <td>MD</td>\n",
       "      <td>MD</td>\n",
       "      <td>A - Marked Patrol</td>\n",
       "      <td>(38.97886, -77.0985183333333)</td>\n",
       "      <td>1</td>\n",
       "      <td>1</td>\n",
       "      <td>12</td>\n",
       "      <td>111</td>\n",
       "      <td>1</td>\n",
       "    </tr>\n",
       "  </tbody>\n",
       "</table>\n",
       "<p>5 rows × 41 columns</p>\n",
       "</div>"
      ],
      "text/plain": [
       "                                  SeqID Date Of Stop Time Of Stop Agency  \\\n",
       "0  865defcf-8348-4e11-a5bf-996d8b3ead3c   06/03/2019     22:49:00    MCP   \n",
       "1  20bff600-1843-46c4-9596-6b0670eb8d74   06/03/2019     22:48:00    MCP   \n",
       "2  e121eebe-daa1-4cca-afd4-8abb4b388ed6   06/03/2019     22:45:00    MCP   \n",
       "3  1e25ee9b-c019-41c2-9d74-41e05e6d1cee   06/03/2019     22:43:00    MCP   \n",
       "4  2c5730ec-d5e6-4657-a5a0-fcecca1ab140   06/03/2019     22:41:00    MCP   \n",
       "\n",
       "                SubAgency                                        Description  \\\n",
       "0  2nd District, Bethesda                  DRIVER CHANGING LANES WHEN UNSAFE   \n",
       "1  2nd District, Bethesda         EXCEEDING THE POSTED SPEED LIMIT OF 35 MPH   \n",
       "2   4th District, Wheaton         EXCEEDING THE POSTED SPEED LIMIT OF 35 MPH   \n",
       "3   4th District, Wheaton                                    STOP LIGHTS (*)   \n",
       "4  2nd District, Bethesda  FAILURE TO DISPLAY & REFLECT RED COLOR LIGHT O...   \n",
       "\n",
       "                        Location          Latitude          Longitude  \\\n",
       "0  ROCKVILLE PIKE @ GROSVENOR LN  39.0231383333333         -77.102615   \n",
       "1           RIVER/ROYAL DOMINION          38.99006          -77.15189   \n",
       "2               GEORGIA @ EPPING  39.0662666666667  -77.0592166666667   \n",
       "3   GEORGIA  AVE / ASPON HILL RD  39.0825783333333         -77.076885   \n",
       "4    ARLINGTON RD / BETHESDA AVE          38.97886  -77.0985183333333   \n",
       "\n",
       "  Accident  ...    Driver City Driver State DL State        Arrest Type  \\\n",
       "0       No  ...     WASHINGTON           DC       DC  A - Marked Patrol   \n",
       "1       No  ...        POTOMAC           MD       MD  A - Marked Patrol   \n",
       "2       No  ...  SILVER SPRING           MD       MD  A - Marked Patrol   \n",
       "3       No  ...      ROCKVILLE           MD       MD  A - Marked Patrol   \n",
       "4       No  ...       BETHESDA           MD       MD  A - Marked Patrol   \n",
       "\n",
       "                             Geolocation Council Districts Councils  \\\n",
       "0         (39.0231383333333, -77.102615)                 1        1   \n",
       "1                  (38.99006, -77.15189)                 1        1   \n",
       "2  (39.0662666666667, -77.0592166666667)                 4        4   \n",
       "3         (39.0825783333333, -77.076885)                 4        4   \n",
       "4          (38.97886, -77.0985183333333)                 1        1   \n",
       "\n",
       "  Communities Zip Codes Municipalities  \n",
       "0          12       111              1  \n",
       "1          12       103              1  \n",
       "2          23         6              1  \n",
       "3          59         6              1  \n",
       "4          12       111              1  \n",
       "\n",
       "[5 rows x 41 columns]"
      ]
     },
     "execution_count": 5,
     "metadata": {},
     "output_type": "execute_result"
    }
   ],
   "source": [
    "sql_all = \"SELECT * FROM traffic\"\n",
    "all_df = pd.read_sql_query(sql_all, conn)\n",
    "all_df.head()"
   ]
  },
  {
   "cell_type": "code",
   "execution_count": 6,
   "metadata": {
    "ExecuteTime": {
     "end_time": "2019-06-06T01:49:06.191727Z",
     "start_time": "2019-06-06T01:49:06.180243Z"
    }
   },
   "outputs": [
    {
     "data": {
      "text/plain": [
       "Index(['SeqID', 'Date Of Stop', 'Time Of Stop', 'Agency', 'SubAgency',\n",
       "       'Description', 'Location', 'Latitude', 'Longitude', 'Accident', 'Belts',\n",
       "       'Personal Injury', 'Property Damage', 'Fatal', 'Commercial License',\n",
       "       'HAZMAT', 'Commercial Vehicle', 'Alcohol', 'Work Zone', 'State',\n",
       "       'VehicleType', 'Year', 'Make', 'Model', 'Color', 'Violation Type',\n",
       "       'Charge', 'Article', 'Contributed To Accident', 'Race', 'Gender',\n",
       "       'Driver City', 'Driver State', 'DL State', 'Arrest Type', 'Geolocation',\n",
       "       'Council Districts', 'Councils', 'Communities', 'Zip Codes',\n",
       "       'Municipalities'],\n",
       "      dtype='object')"
      ]
     },
     "execution_count": 6,
     "metadata": {},
     "output_type": "execute_result"
    }
   ],
   "source": [
    "all_df.columns"
   ]
  },
  {
   "cell_type": "code",
   "execution_count": 7,
   "metadata": {
    "ExecuteTime": {
     "end_time": "2019-06-06T00:35:00.866869Z",
     "start_time": "2019-06-06T00:35:00.855963Z"
    }
   },
   "outputs": [],
   "source": [
    "#pp.ProfileReport(all_df)"
   ]
  },
  {
   "cell_type": "code",
   "execution_count": 8,
   "metadata": {
    "ExecuteTime": {
     "end_time": "2019-06-06T00:35:31.175851Z",
     "start_time": "2019-06-06T00:35:00.874764Z"
    }
   },
   "outputs": [
    {
     "data": {
      "text/html": [
       "<div>\n",
       "<style scoped>\n",
       "    .dataframe tbody tr th:only-of-type {\n",
       "        vertical-align: middle;\n",
       "    }\n",
       "\n",
       "    .dataframe tbody tr th {\n",
       "        vertical-align: top;\n",
       "    }\n",
       "\n",
       "    .dataframe thead th {\n",
       "        text-align: right;\n",
       "    }\n",
       "</style>\n",
       "<table border=\"1\" class=\"dataframe\">\n",
       "  <thead>\n",
       "    <tr style=\"text-align: right;\">\n",
       "      <th></th>\n",
       "      <th>SeqID</th>\n",
       "      <th>Date Of Stop</th>\n",
       "      <th>Time Of Stop</th>\n",
       "      <th>Agency</th>\n",
       "      <th>SubAgency</th>\n",
       "      <th>Description</th>\n",
       "      <th>Location</th>\n",
       "      <th>Latitude</th>\n",
       "      <th>Longitude</th>\n",
       "      <th>Accident</th>\n",
       "      <th>...</th>\n",
       "      <th>Driver City</th>\n",
       "      <th>Driver State</th>\n",
       "      <th>DL State</th>\n",
       "      <th>Arrest Type</th>\n",
       "      <th>Geolocation</th>\n",
       "      <th>Council Districts</th>\n",
       "      <th>Councils</th>\n",
       "      <th>Communities</th>\n",
       "      <th>Zip Codes</th>\n",
       "      <th>Municipalities</th>\n",
       "    </tr>\n",
       "  </thead>\n",
       "  <tbody>\n",
       "    <tr>\n",
       "      <th>count</th>\n",
       "      <td>1529036</td>\n",
       "      <td>1529036</td>\n",
       "      <td>1529036</td>\n",
       "      <td>1529036</td>\n",
       "      <td>1529036</td>\n",
       "      <td>1529036</td>\n",
       "      <td>1529036</td>\n",
       "      <td>1529036</td>\n",
       "      <td>1529036</td>\n",
       "      <td>1529036</td>\n",
       "      <td>...</td>\n",
       "      <td>1529036</td>\n",
       "      <td>1529036</td>\n",
       "      <td>1529036</td>\n",
       "      <td>1529036</td>\n",
       "      <td>1529036</td>\n",
       "      <td>1529036</td>\n",
       "      <td>1529036</td>\n",
       "      <td>1529036</td>\n",
       "      <td>1529036</td>\n",
       "      <td>1529036</td>\n",
       "    </tr>\n",
       "    <tr>\n",
       "      <th>unique</th>\n",
       "      <td>867384</td>\n",
       "      <td>2710</td>\n",
       "      <td>1440</td>\n",
       "      <td>1</td>\n",
       "      <td>9</td>\n",
       "      <td>13987</td>\n",
       "      <td>210296</td>\n",
       "      <td>298798</td>\n",
       "      <td>339125</td>\n",
       "      <td>6</td>\n",
       "      <td>...</td>\n",
       "      <td>7940</td>\n",
       "      <td>69</td>\n",
       "      <td>71</td>\n",
       "      <td>19</td>\n",
       "      <td>749951</td>\n",
       "      <td>6</td>\n",
       "      <td>6</td>\n",
       "      <td>63</td>\n",
       "      <td>145</td>\n",
       "      <td>25</td>\n",
       "    </tr>\n",
       "    <tr>\n",
       "      <th>top</th>\n",
       "      <td>33c49de3-9e36-4f36-9326-b59a95e86fe8</td>\n",
       "      <td>03/17/2015</td>\n",
       "      <td>23:30:00</td>\n",
       "      <td>MCP</td>\n",
       "      <td>4th District, Wheaton</td>\n",
       "      <td>DRIVER FAILURE TO OBEY PROPERLY PLACED TRAFFIC...</td>\n",
       "      <td>WAYNE AVE @ DALE DR</td>\n",
       "      <td>0</td>\n",
       "      <td>0</td>\n",
       "      <td>No</td>\n",
       "      <td>...</td>\n",
       "      <td>SILVER SPRING</td>\n",
       "      <td>MD</td>\n",
       "      <td>MD</td>\n",
       "      <td>A - Marked Patrol</td>\n",
       "      <td>(0.0, 0.0)</td>\n",
       "      <td>4</td>\n",
       "      <td>4</td>\n",
       "      <td>36</td>\n",
       "      <td>17</td>\n",
       "      <td>1</td>\n",
       "    </tr>\n",
       "    <tr>\n",
       "      <th>freq</th>\n",
       "      <td>59</td>\n",
       "      <td>1281</td>\n",
       "      <td>2312</td>\n",
       "      <td>1529036</td>\n",
       "      <td>375716</td>\n",
       "      <td>125683</td>\n",
       "      <td>2172</td>\n",
       "      <td>110485</td>\n",
       "      <td>110485</td>\n",
       "      <td>1482066</td>\n",
       "      <td>...</td>\n",
       "      <td>380216</td>\n",
       "      <td>1379705</td>\n",
       "      <td>1329309</td>\n",
       "      <td>1267088</td>\n",
       "      <td>110485</td>\n",
       "      <td>334292</td>\n",
       "      <td>334292</td>\n",
       "      <td>184196</td>\n",
       "      <td>131235</td>\n",
       "      <td>1161876</td>\n",
       "    </tr>\n",
       "  </tbody>\n",
       "</table>\n",
       "<p>4 rows × 41 columns</p>\n",
       "</div>"
      ],
      "text/plain": [
       "                                       SeqID Date Of Stop Time Of Stop  \\\n",
       "count                                1529036      1529036      1529036   \n",
       "unique                                867384         2710         1440   \n",
       "top     33c49de3-9e36-4f36-9326-b59a95e86fe8   03/17/2015     23:30:00   \n",
       "freq                                      59         1281         2312   \n",
       "\n",
       "         Agency              SubAgency  \\\n",
       "count   1529036                1529036   \n",
       "unique        1                      9   \n",
       "top         MCP  4th District, Wheaton   \n",
       "freq    1529036                 375716   \n",
       "\n",
       "                                              Description  \\\n",
       "count                                             1529036   \n",
       "unique                                              13987   \n",
       "top     DRIVER FAILURE TO OBEY PROPERLY PLACED TRAFFIC...   \n",
       "freq                                               125683   \n",
       "\n",
       "                   Location Latitude Longitude Accident  ...    Driver City  \\\n",
       "count               1529036  1529036   1529036  1529036  ...        1529036   \n",
       "unique               210296   298798    339125        6  ...           7940   \n",
       "top     WAYNE AVE @ DALE DR        0         0       No  ...  SILVER SPRING   \n",
       "freq                   2172   110485    110485  1482066  ...         380216   \n",
       "\n",
       "       Driver State DL State        Arrest Type Geolocation Council Districts  \\\n",
       "count       1529036  1529036            1529036     1529036           1529036   \n",
       "unique           69       71                 19      749951                 6   \n",
       "top              MD       MD  A - Marked Patrol  (0.0, 0.0)                 4   \n",
       "freq        1379705  1329309            1267088      110485            334292   \n",
       "\n",
       "       Councils Communities Zip Codes Municipalities  \n",
       "count   1529036     1529036   1529036        1529036  \n",
       "unique        6          63       145             25  \n",
       "top           4          36        17              1  \n",
       "freq     334292      184196    131235        1161876  \n",
       "\n",
       "[4 rows x 41 columns]"
      ]
     },
     "execution_count": 8,
     "metadata": {},
     "output_type": "execute_result"
    }
   ],
   "source": [
    "all_df.describe()"
   ]
  },
  {
   "cell_type": "code",
   "execution_count": 9,
   "metadata": {
    "ExecuteTime": {
     "end_time": "2019-06-06T00:35:31.691709Z",
     "start_time": "2019-06-06T00:35:31.182762Z"
    }
   },
   "outputs": [
    {
     "data": {
      "text/plain": [
       "Warning     760397\n",
       "Citation    693505\n",
       "ESERO        74235\n",
       "SERO           899\n",
       "Name: Violation Type, dtype: int64"
      ]
     },
     "execution_count": 9,
     "metadata": {},
     "output_type": "execute_result"
    }
   ],
   "source": [
    "all_df['Violation Type'].value_counts()"
   ]
  },
  {
   "cell_type": "code",
   "execution_count": 10,
   "metadata": {
    "ExecuteTime": {
     "end_time": "2019-06-06T00:35:32.450581Z",
     "start_time": "2019-06-06T00:35:31.693727Z"
    }
   },
   "outputs": [],
   "source": [
    "grouped_race_violation = all_df.groupby(['Race', 'Violation Type']).size().astype(float)"
   ]
  },
  {
   "cell_type": "code",
   "execution_count": 11,
   "metadata": {
    "ExecuteTime": {
     "end_time": "2019-06-06T00:35:32.710069Z",
     "start_time": "2019-06-06T00:35:32.451927Z"
    }
   },
   "outputs": [
    {
     "data": {
      "text/plain": [
       "Race\n",
       "ASIAN               89675\n",
       "BLACK              484206\n",
       "HISPANIC           326826\n",
       "NATIVE AMERICAN      3168\n",
       "OTHER               83378\n",
       "WHITE              541783\n",
       "dtype: int64"
      ]
     },
     "execution_count": 11,
     "metadata": {},
     "output_type": "execute_result"
    }
   ],
   "source": [
    "all_df.groupby(['Race']).size()"
   ]
  },
  {
   "cell_type": "code",
   "execution_count": 12,
   "metadata": {
    "ExecuteTime": {
     "end_time": "2019-06-06T00:35:33.066698Z",
     "start_time": "2019-06-06T00:35:32.714054Z"
    },
    "scrolled": false
   },
   "outputs": [
    {
     "data": {
      "text/plain": [
       "A - Marked Patrol                         1267088\n",
       "Q - Marked Laser                           139542\n",
       "B - Unmarked Patrol                         48181\n",
       "S - License Plate Recognition               14509\n",
       "O - Foot Patrol                             14076\n",
       "L - Motorcycle                              13031\n",
       "E - Marked Stationary Radar                  9511\n",
       "G - Marked Moving Radar (Stationary)         8210\n",
       "R - Unmarked Laser                           6140\n",
       "I - Marked Moving Radar (Moving)             2476\n",
       "M - Marked (Off-Duty)                        2272\n",
       "H - Unmarked Moving Radar (Stationary)       1115\n",
       "F - Unmarked Stationary Radar                 837\n",
       "J - Unmarked Moving Radar (Moving)            654\n",
       "C - Marked VASCAR                             483\n",
       "P - Mounted Patrol                            338\n",
       "D - Unmarked VASCAR                           302\n",
       "N - Unmarked (Off-Duty)                       216\n",
       "K - Aircraft Assist                            55\n",
       "Name: Arrest Type, dtype: int64"
      ]
     },
     "execution_count": 12,
     "metadata": {},
     "output_type": "execute_result"
    }
   ],
   "source": [
    "all_df['Arrest Type'].value_counts()"
   ]
  },
  {
   "cell_type": "code",
   "execution_count": 13,
   "metadata": {
    "ExecuteTime": {
     "end_time": "2019-06-06T00:35:33.083563Z",
     "start_time": "2019-06-06T00:35:33.068787Z"
    }
   },
   "outputs": [
    {
     "data": {
      "text/plain": [
       "541783.0"
      ]
     },
     "execution_count": 13,
     "metadata": {},
     "output_type": "execute_result"
    }
   ],
   "source": [
    "sum(grouped_race_violation['WHITE'])"
   ]
  },
  {
   "cell_type": "code",
   "execution_count": 14,
   "metadata": {
    "ExecuteTime": {
     "end_time": "2019-06-06T00:35:33.106338Z",
     "start_time": "2019-06-06T00:35:33.085501Z"
    }
   },
   "outputs": [],
   "source": [
    "grouped_normalize = grouped_race_violation.copy()\n",
    "\n",
    "for race in grouped_race_violation.index.levels[0]:\n",
    "    race_viol = sum(grouped_race_violation[race])\n",
    "    for viol in grouped_race_violation.index.levels[1]:\n",
    "        try:\n",
    "            grouped_normalize[race][viol] = grouped_race_violation[race][viol] / float(race_viol)\n",
    "        except:\n",
    "            pass"
   ]
  },
  {
   "cell_type": "code",
   "execution_count": 15,
   "metadata": {
    "ExecuteTime": {
     "end_time": "2019-06-06T00:35:33.117877Z",
     "start_time": "2019-06-06T00:35:33.108561Z"
    },
    "scrolled": false
   },
   "outputs": [
    {
     "data": {
      "text/plain": [
       "Race             Violation Type\n",
       "ASIAN            Citation          0.377285\n",
       "                 ESERO             0.051709\n",
       "                 SERO              0.000379\n",
       "                 Warning           0.570627\n",
       "BLACK            Citation          0.466892\n",
       "                 ESERO             0.047441\n",
       "                 SERO              0.000529\n",
       "                 Warning           0.485139\n",
       "HISPANIC         Citation          0.518475\n",
       "                 ESERO             0.062510\n",
       "                 SERO              0.000826\n",
       "                 Warning           0.418189\n",
       "NATIVE AMERICAN  Citation          0.410354\n",
       "                 ESERO             0.068182\n",
       "                 Warning           0.521465\n",
       "OTHER            Citation          0.388484\n",
       "                 ESERO             0.045180\n",
       "                 SERO              0.000516\n",
       "                 Warning           0.565821\n",
       "WHITE            Citation          0.425370\n",
       "                 ESERO             0.041002\n",
       "                 SERO              0.000546\n",
       "                 Warning           0.533082\n",
       "dtype: float64"
      ]
     },
     "execution_count": 15,
     "metadata": {},
     "output_type": "execute_result"
    }
   ],
   "source": [
    "grouped_normalize"
   ]
  },
  {
   "cell_type": "code",
   "execution_count": 16,
   "metadata": {
    "ExecuteTime": {
     "end_time": "2019-06-06T00:35:33.648876Z",
     "start_time": "2019-06-06T00:35:33.120722Z"
    }
   },
   "outputs": [
    {
     "data": {
      "text/plain": [
       "Race   Arrest Type                           \n",
       "ASIAN  A - Marked Patrol                          73514.0\n",
       "       B - Unmarked Patrol                         2400.0\n",
       "       C - Marked VASCAR                             41.0\n",
       "       D - Unmarked VASCAR                           22.0\n",
       "       E - Marked Stationary Radar                  731.0\n",
       "       F - Unmarked Stationary Radar                 50.0\n",
       "       G - Marked Moving Radar (Stationary)         543.0\n",
       "       H - Unmarked Moving Radar (Stationary)        60.0\n",
       "       I - Marked Moving Radar (Moving)             114.0\n",
       "       J - Unmarked Moving Radar (Moving)            37.0\n",
       "       K - Aircraft Assist                            1.0\n",
       "       L - Motorcycle                               838.0\n",
       "       M - Marked (Off-Duty)                        169.0\n",
       "       N - Unmarked (Off-Duty)                        7.0\n",
       "       O - Foot Patrol                              800.0\n",
       "       P - Mounted Patrol                            24.0\n",
       "       Q - Marked Laser                            9530.0\n",
       "       R - Unmarked Laser                           360.0\n",
       "       S - License Plate Recognition                434.0\n",
       "BLACK  A - Marked Patrol                         414165.0\n",
       "       B - Unmarked Patrol                        14651.0\n",
       "       C - Marked VASCAR                            160.0\n",
       "       D - Unmarked VASCAR                           61.0\n",
       "       E - Marked Stationary Radar                 2323.0\n",
       "       F - Unmarked Stationary Radar                213.0\n",
       "       G - Marked Moving Radar (Stationary)        1728.0\n",
       "       H - Unmarked Moving Radar (Stationary)       229.0\n",
       "       I - Marked Moving Radar (Moving)             490.0\n",
       "       J - Unmarked Moving Radar (Moving)           163.0\n",
       "       K - Aircraft Assist                           11.0\n",
       "                                                   ...   \n",
       "OTHER  I - Marked Moving Radar (Moving)              92.0\n",
       "       J - Unmarked Moving Radar (Moving)            75.0\n",
       "       K - Aircraft Assist                            1.0\n",
       "       L - Motorcycle                               673.0\n",
       "       M - Marked (Off-Duty)                        122.0\n",
       "       N - Unmarked (Off-Duty)                        7.0\n",
       "       O - Foot Patrol                              723.0\n",
       "       P - Mounted Patrol                            20.0\n",
       "       Q - Marked Laser                            8672.0\n",
       "       R - Unmarked Laser                           567.0\n",
       "       S - License Plate Recognition                926.0\n",
       "WHITE  A - Marked Patrol                         422417.0\n",
       "       B - Unmarked Patrol                        19777.0\n",
       "       C - Marked VASCAR                            171.0\n",
       "       D - Unmarked VASCAR                          156.0\n",
       "       E - Marked Stationary Radar                 4697.0\n",
       "       F - Unmarked Stationary Radar                406.0\n",
       "       G - Marked Moving Radar (Stationary)        4298.0\n",
       "       H - Unmarked Moving Radar (Stationary)       625.0\n",
       "       I - Marked Moving Radar (Moving)            1536.0\n",
       "       J - Unmarked Moving Radar (Moving)           332.0\n",
       "       K - Aircraft Assist                           36.0\n",
       "       L - Motorcycle                              5958.0\n",
       "       M - Marked (Off-Duty)                        921.0\n",
       "       N - Unmarked (Off-Duty)                       99.0\n",
       "       O - Foot Patrol                             6629.0\n",
       "       P - Mounted Patrol                           171.0\n",
       "       Q - Marked Laser                           65421.0\n",
       "       R - Unmarked Laser                          3140.0\n",
       "       S - License Plate Recognition               4993.0\n",
       "Length: 110, dtype: float64"
      ]
     },
     "execution_count": 16,
     "metadata": {},
     "output_type": "execute_result"
    }
   ],
   "source": [
    "all_df.groupby(['Race', 'Arrest Type']).size().astype(float)"
   ]
  },
  {
   "cell_type": "code",
   "execution_count": 17,
   "metadata": {
    "ExecuteTime": {
     "end_time": "2019-06-06T00:35:33.905687Z",
     "start_time": "2019-06-06T00:35:33.651078Z"
    }
   },
   "outputs": [
    {
     "data": {
      "text/plain": [
       "A - Marked Patrol                         0.828684\n",
       "Q - Marked Laser                          0.091261\n",
       "B - Unmarked Patrol                       0.031511\n",
       "S - License Plate Recognition             0.009489\n",
       "O - Foot Patrol                           0.009206\n",
       "L - Motorcycle                            0.008522\n",
       "E - Marked Stationary Radar               0.006220\n",
       "G - Marked Moving Radar (Stationary)      0.005369\n",
       "R - Unmarked Laser                        0.004016\n",
       "I - Marked Moving Radar (Moving)          0.001619\n",
       "M - Marked (Off-Duty)                     0.001486\n",
       "H - Unmarked Moving Radar (Stationary)    0.000729\n",
       "F - Unmarked Stationary Radar             0.000547\n",
       "J - Unmarked Moving Radar (Moving)        0.000428\n",
       "C - Marked VASCAR                         0.000316\n",
       "P - Mounted Patrol                        0.000221\n",
       "D - Unmarked VASCAR                       0.000198\n",
       "N - Unmarked (Off-Duty)                   0.000141\n",
       "K - Aircraft Assist                       0.000036\n",
       "Name: Arrest Type, dtype: float64"
      ]
     },
     "execution_count": 17,
     "metadata": {},
     "output_type": "execute_result"
    }
   ],
   "source": [
    "all_df['Arrest Type'].value_counts(True)"
   ]
  },
  {
   "cell_type": "code",
   "execution_count": 18,
   "metadata": {
    "ExecuteTime": {
     "end_time": "2019-06-06T00:35:33.911419Z",
     "start_time": "2019-06-06T00:35:33.907431Z"
    }
   },
   "outputs": [
    {
     "data": {
      "text/plain": [
       "1529036"
      ]
     },
     "execution_count": 18,
     "metadata": {},
     "output_type": "execute_result"
    }
   ],
   "source": [
    "len(all_df)"
   ]
  },
  {
   "cell_type": "code",
   "execution_count": 19,
   "metadata": {
    "ExecuteTime": {
     "end_time": "2019-06-06T00:35:34.439764Z",
     "start_time": "2019-06-06T00:35:33.913430Z"
    }
   },
   "outputs": [],
   "source": [
    "descrips = all_df.Description.value_counts()"
   ]
  },
  {
   "cell_type": "code",
   "execution_count": 20,
   "metadata": {
    "ExecuteTime": {
     "end_time": "2019-06-06T00:35:34.453206Z",
     "start_time": "2019-06-06T00:35:34.441644Z"
    }
   },
   "outputs": [
    {
     "data": {
      "text/plain": [
       "DRIVER FAILURE TO OBEY PROPERLY PLACED TRAFFIC CONTROL DEVICE INSTRUCTIONS                              125683\n",
       "FAILURE TO DISPLAY REGISTRATION CARD UPON DEMAND BY POLICE OFFICER                                       71761\n",
       "DRIVING VEHICLE ON HIGHWAY WITH SUSPENDED REGISTRATION                                                   48988\n",
       "FAILURE OF INDIVIDUAL DRIVING ON HIGHWAY TO DISPLAY LICENSE TO UNIFORMED POLICE ON DEMAND                39953\n",
       "DRIVER USING HANDS TO USE HANDHELD TELEPHONE WHILEMOTOR VEHICLE IS IN MOTION                             37487\n",
       "DISPLAYING EXPIRED REGISTRATION PLATE ISSUED BY ANY STATE                                                36176\n",
       "DRIVER FAILURE TO STOP AT STOP SIGN LINE                                                                 34753\n",
       "PERSON DRIVING MOTOR VEHICLE ON HIGHWAY OR PUBLIC USE PROPERTY ON SUSPENDED LICENSE AND PRIVILEGE        30109\n",
       "DRIVING VEHICLE ON HIGHWAY WITHOUT CURRENT REGISTRATION PLATES AND VALIDATION TABS                       25113\n",
       "EXCEEDING THE POSTED SPEED LIMIT OF 40 MPH                                                               24260\n",
       "EXCEEDING THE POSTED SPEED LIMIT OF 30 MPH                                                               23584\n",
       "FAILURE OF VEH. ON HWY. TO DISPLAY LIGHTED LAMPS, ILLUMINATING DEVICE IN UNFAVORABLE VISIBILITY COND     21538\n",
       "STOP LIGHTS (*)                                                                                          21128\n",
       "DRIVING MOTOR VEHICLE ON HIGHWAY WITHOUT REQUIRED LICENSE AND AUTHORIZATION                              20437\n",
       "NEGLIGENT DRIVING VEHICLE IN CARELESS AND IMPRUDENT MANNER ENDANGERING PROPERTY, LIFE AND PERSON         20399\n",
       "DRIVER CHANGING LANES WHEN UNSAFE                                                                        20397\n",
       "EXCEEDING THE POSTED SPEED LIMIT OF 35 MPH                                                               19287\n",
       "DRIVING VEHICLE WHILE UNDER THE INFLUENCE OF ALCOHOL                                                     18708\n",
       "OPERATOR NOT RESTRAINED BY SEATBELT                                                                      18344\n",
       "DRIVING VEH. W/O ADEQUATE REAR REG. PLATE ILLUMINATION                                                   17466\n",
       "FAILURE OF LICENSEE TO NOTIFY ADMINISTRATION OF CHANGE OF ADDRESS WITHIN 30 DAYS                         17212\n",
       "DRIVER FAILURE TO STOP AT STEADY CIRCULAR RED SIGNAL                                                     16881\n",
       "FAILURE TO ATTACH VEHICLE REGISTRATION PLATES AT FRONT AND REAR                                          16337\n",
       "FAILURE TO DISPLAY TWO LIGHTED FRONT LAMPS WHEN REQUIRED                                                 15712\n",
       "DRIVER FAIL TO STOP AT FLASHING RED TRAFFIC SIGNAL STOP LINE                                             15334\n",
       "DRIVING WHILE IMPAIRED BY ALCOHOL                                                                        15099\n",
       "FAILURE TO STOP AT STOP SIGN                                                                             15090\n",
       "FAILURE TO CONTROL VEHICLE SPEED ON HIGHWAY TO AVOID COLLISION                                           14090\n",
       "DRIVING VEH. ON HWY. W/O REQUIRED MINIMUM EQUIPMENT                                                      13932\n",
       "OPERATING VEHICLE ON HIGHWAY WITH UNAUTHORIZED WINDOW TINTING MATERIAL                                   13574\n",
       "                                                                                                         ...  \n",
       "STANDING VEH. W/I 30 FT OF STOP SIGN, TRAFFIC CONTROL SIGNAL)                                                1\n",
       "PERSON DRIVING  ON HWY. VEH.  WITH VISIBLE BLUE LAMP                                                         1\n",
       "DRIVING VEHICLE IN EXCESS OF REASONABLE AND PRUDENT SPEED ON HIGHWAY 84 IN A 55                              1\n",
       "OPERATING A CMV WITHOUT A USDOT REGISTRATION)                                                                1\n",
       "BRAKES ON TRUCK ARE INOPERATIVE, PARKING                                                                     1\n",
       "FAILURE OF DRIVER TO DRIVE TO CURB Upon signal by POLICE VEH.                                                1\n",
       "DRIVING VEH. ON  HWY. IN VIOLATION OF WEIGHT LAWS EXCEEDING ALLOWABLE WEIGHT OF 8000LBS BY 700LBS            1\n",
       "TAILLIGHT, ID LIGHT INOPERATIVE                                                                              1\n",
       "driving with obstrcuted windshield                                                                           1\n",
       "DRIVER USING HANDS TO USE HANDHELD TELEPHONE WHILEMOTOR VEHICLE IS IN MOTION.)                               1\n",
       "MOTOR VEH  W/O REQUIRED TAIL LAMPS EQUIPMENT                                                                 1\n",
       "FAILURE OF DRIVER TO DRIVE TO CURB UPON SIGNAL BY  POLIC)E VEH.                                              1\n",
       "RT AND LEFT TRAILER TAILLIGHTS INOPERATIVE                                                                   1\n",
       "DRIVING VEH. WITH , WINDOW VIEW OBSTRUCTED                                                                   1\n",
       "SUSPENDED LICENSE UNDER SPECIFIED SECTIONS                                                                   1\n",
       "UNLAWFUL USE OF HISTORIC PASS.VEH. FOR TRANSP. TO AND FROM SCHOOL                                            1\n",
       "DISPLAYING REG. PLATE ISSUED FOR OTHER VEHICLE - CORRECT TAG MD 26566TL                                      1\n",
       "AXLE 2 RIGHT SIDE: DUAL TIRE CONTACTING ITS MATE IN A DUAL SET                                               1\n",
       "OPERATING MOTOR VEHICLE WITH FLAT TIRE, AXLE 2 RIGHT SIDE OUTER TIRE                                         1\n",
       "DRIVER SENDING A TEXTMSG. WHILE OPER. VEH. IN TRAVEL PORTION OF HWY                                          1\n",
       "KNOWINGLY DRIVE UNINSURED VEHICLE                                                                            1\n",
       "UNLAWFUL USE OF HISTORIC PASSENGER VEH./ TRUCK FOR GENERAL DAILY TRANSPORTATION                              1\n",
       "FAILURE OF VEH. DRIVER IN ACCIDENT TO LOCATE AND NOTIFY OWNER OF UNATTENDED VEH., DAMAGE                     1\n",
       "PERSON DRIVING MOTOR VEHICLE WHILE LICENSE SUSPENDED UNDER  26-204, 26-206, OR 27-103                        1\n",
       "DRIVING VEH W, VIDEO DISPEQUIP THAT IS ON AND VISIBLE TO THE DRIVER ON HWY                                   1\n",
       "FAILURE OF MV OPER. DRIVING ON HWY TO POSS EVID. OF REQ'D SECURITY FOR MV                                    1\n",
       "EXCEEDING POSTED SPEED LIMIT IN SCHOOL ZONE WITH FLASHING LIGHTS : 50 MPH IN 35 ZONE                         1\n",
       "DISPLAYINGREG. PLATE ISSUED FOR OTHER  VEHICLE                                                               1\n",
       "PERSON DRIVING  ON HWY.  VEH. WITH VISIBLE  BLUE  LAMP                                                       1\n",
       "TAILLIGHT STOPLIGHT  INOPERATIVE                                                                             1\n",
       "Name: Description, Length: 13987, dtype: int64"
      ]
     },
     "execution_count": 20,
     "metadata": {},
     "output_type": "execute_result"
    }
   ],
   "source": [
    "descrips"
   ]
  },
  {
   "cell_type": "code",
   "execution_count": 21,
   "metadata": {
    "ExecuteTime": {
     "end_time": "2019-06-06T00:35:34.463269Z",
     "start_time": "2019-06-06T00:35:34.454853Z"
    }
   },
   "outputs": [
    {
     "data": {
      "text/plain": [
       "21.0"
      ]
     },
     "execution_count": 21,
     "metadata": {},
     "output_type": "execute_result"
    }
   ],
   "source": [
    "np.percentile(descrips.values, 90, axis=0)"
   ]
  },
  {
   "cell_type": "code",
   "execution_count": 22,
   "metadata": {
    "ExecuteTime": {
     "end_time": "2019-06-06T00:35:34.481219Z",
     "start_time": "2019-06-06T00:35:34.464862Z"
    }
   },
   "outputs": [],
   "source": [
    "import matplotlib.pyplot as plt\n",
    "%matplotlib inline"
   ]
  },
  {
   "cell_type": "code",
   "execution_count": 23,
   "metadata": {
    "ExecuteTime": {
     "end_time": "2019-06-06T00:35:42.796557Z",
     "start_time": "2019-06-06T00:35:34.486271Z"
    }
   },
   "outputs": [],
   "source": [
    "a = sorted(descrips.values)\n",
    "cumsum_descrips = [sum(a[:i]) for i in range(len(a))]\n",
    "#cumsum_descrips"
   ]
  },
  {
   "cell_type": "code",
   "execution_count": 24,
   "metadata": {
    "ExecuteTime": {
     "end_time": "2019-06-06T00:35:43.052398Z",
     "start_time": "2019-06-06T00:35:42.799931Z"
    }
   },
   "outputs": [
    {
     "data": {
      "text/plain": [
       "[<matplotlib.lines.Line2D at 0x1c1a4a55c0>]"
      ]
     },
     "execution_count": 24,
     "metadata": {},
     "output_type": "execute_result"
    },
    {
     "data": {
      "image/png": "[encoded data removed]",
      "text/plain": [
       "<Figure size 432x288 with 1 Axes>"
      ]
     },
     "metadata": {
      "needs_background": "light"
     },
     "output_type": "display_data"
    }
   ],
   "source": [
    "x_percentile = (np.array(range(len(a)))+1)/len(a)\n",
    "\n",
    "\n",
    "plt.plot(x_percentile, cumsum_descrips)"
   ]
  },
  {
   "cell_type": "code",
   "execution_count": 25,
   "metadata": {
    "ExecuteTime": {
     "end_time": "2019-06-06T00:35:43.383926Z",
     "start_time": "2019-06-06T00:35:43.055713Z"
    }
   },
   "outputs": [
    {
     "data": {
      "text/plain": [
       "'FAILURE TO DISPLAY REGISTRATION CARD UPON DEMAND BY POLICE OFFICER'"
      ]
     },
     "execution_count": 25,
     "metadata": {},
     "output_type": "execute_result"
    }
   ],
   "source": [
    "all_df.Description.value_counts().index[1]"
   ]
  },
  {
   "cell_type": "code",
   "execution_count": 26,
   "metadata": {
    "ExecuteTime": {
     "end_time": "2019-06-06T00:35:44.547442Z",
     "start_time": "2019-06-06T00:35:43.385740Z"
    }
   },
   "outputs": [
    {
     "data": {
      "text/plain": [
       "Race\n",
       "ASIAN               5100\n",
       "BLACK              24133\n",
       "HISPANIC           13885\n",
       "NATIVE AMERICAN      141\n",
       "OTHER               4031\n",
       "WHITE              24471\n",
       "dtype: int64"
      ]
     },
     "execution_count": 26,
     "metadata": {},
     "output_type": "execute_result"
    }
   ],
   "source": [
    "viol_type = 'FAILURE TO DISPLAY REGISTRATION CARD UPON DEMAND BY POLICE OFFICER'\n",
    "\n",
    "all_df[all_df['Description'].isin([viol_type])].groupby('Race').size()"
   ]
  },
  {
   "cell_type": "code",
   "execution_count": 27,
   "metadata": {
    "ExecuteTime": {
     "end_time": "2019-06-06T00:35:45.783984Z",
     "start_time": "2019-06-06T00:35:44.549592Z"
    }
   },
   "outputs": [
    {
     "data": {
      "text/plain": [
       "(5000, 41)"
      ]
     },
     "execution_count": 27,
     "metadata": {},
     "output_type": "execute_result"
    }
   ],
   "source": [
    "sql_all = '''\n",
    "SELECT * FROM traffic\n",
    "WHERE race = 'BLACK'\n",
    "ORDER BY RANDOM() \n",
    "LIMIT 5000\n",
    "'''\n",
    "df_black = pd.read_sql_query(sql_all, conn)\n",
    "df_black.shape"
   ]
  },
  {
   "cell_type": "code",
   "execution_count": 28,
   "metadata": {
    "ExecuteTime": {
     "end_time": "2019-06-06T00:35:46.609262Z",
     "start_time": "2019-06-06T00:35:45.786586Z"
    }
   },
   "outputs": [
    {
     "data": {
      "text/plain": [
       "(5000, 41)"
      ]
     },
     "execution_count": 28,
     "metadata": {},
     "output_type": "execute_result"
    }
   ],
   "source": [
    "sql_all = '''\n",
    "SELECT * FROM traffic\n",
    "WHERE race = 'HISPANIC'\n",
    "ORDER BY RANDOM() \n",
    "LIMIT 5000\n",
    "'''\n",
    "df_hispanic = pd.read_sql_query(sql_all, conn)\n",
    "df_hispanic.shape"
   ]
  },
  {
   "cell_type": "code",
   "execution_count": 29,
   "metadata": {
    "ExecuteTime": {
     "end_time": "2019-06-06T00:35:46.617986Z",
     "start_time": "2019-06-06T00:35:46.611831Z"
    }
   },
   "outputs": [],
   "source": [
    "from scipy.stats import ttest_ind"
   ]
  },
  {
   "cell_type": "code",
   "execution_count": 30,
   "metadata": {
    "ExecuteTime": {
     "end_time": "2019-06-06T00:35:46.629424Z",
     "start_time": "2019-06-06T00:35:46.620965Z"
    }
   },
   "outputs": [],
   "source": [
    "black_citation_sample = (df_black['Violation Type'] == 'Citation')*1\n",
    "mu_black = sum(black_citation_sample) / len(black_citation_sample)"
   ]
  },
  {
   "cell_type": "code",
   "execution_count": 31,
   "metadata": {
    "ExecuteTime": {
     "end_time": "2019-06-06T00:35:46.636963Z",
     "start_time": "2019-06-06T00:35:46.631457Z"
    }
   },
   "outputs": [],
   "source": [
    "hispanic_citation_sample = (df_hispanic['Violation Type'] == 'Citation')*1\n",
    "mu_hispanic = sum(hispanic_citation_sample) / len(hispanic_citation_sample)"
   ]
  },
  {
   "cell_type": "code",
   "execution_count": 32,
   "metadata": {
    "ExecuteTime": {
     "end_time": "2019-06-06T00:35:46.685513Z",
     "start_time": "2019-06-06T00:35:46.639338Z"
    }
   },
   "outputs": [
    {
     "data": {
      "text/plain": [
       "Ttest_indResult(statistic=-6.9563607733066455, pvalue=3.71048074948325e-12)"
      ]
     },
     "execution_count": 32,
     "metadata": {},
     "output_type": "execute_result"
    }
   ],
   "source": [
    "ttest_ind(black_citation_sample, hispanic_citation_sample, equal_var=False)"
   ]
  },
  {
   "cell_type": "code",
   "execution_count": 33,
   "metadata": {
    "ExecuteTime": {
     "end_time": "2019-06-06T01:04:41.946461Z",
     "start_time": "2019-06-06T01:04:41.932087Z"
    }
   },
   "outputs": [],
   "source": [
    "def sample_from_traffic(n_sample, connection, race=None, gender=None, show_SQL=True):\n",
    "    \"\"\"Returns a random sample from the specified sqlite db connection, from the table called traffic.\n",
    "    Order is randomized.\n",
    "    Can specify a race to filter on.\n",
    "    Prints the equivalent SQL query.\n",
    "    Returns the dataframe result of the SQL query\"\"\"\n",
    "    var_count = 0\n",
    "    if race:\n",
    "        condition = \"WHERE race ='{}'\".format(race.upper())\n",
    "        var_count += 1\n",
    "    else:\n",
    "        condition = \"--\"\n",
    "    if gender:\n",
    "        if var_count > 0:\n",
    "            condition = condition + \"\"\"\n",
    "            AND Gender = '{}'\"\"\".format(gender.upper()[0])\n",
    "        else:\n",
    "            condition = \"WHERE gender ='{}'\".format(gender.upper()[0])\n",
    "    sql_str = '''\n",
    "        SELECT * FROM traffic\n",
    "        {0}\n",
    "        ORDER BY RANDOM() \n",
    "        LIMIT {1}\n",
    "        '''.format(condition, n_sample)\n",
    "    if show_SQL: print(sql_str)\n",
    "    df = pd.read_sql_query(sql_str, connection)\n",
    "    return df"
   ]
  },
  {
   "cell_type": "code",
   "execution_count": 34,
   "metadata": {
    "ExecuteTime": {
     "end_time": "2019-06-06T03:13:21.712755Z",
     "start_time": "2019-06-06T03:13:21.707833Z"
    }
   },
   "outputs": [],
   "source": [
    "def sample_from_traffic_2(n_sample, connection, filters={}, show_SQL=True):\n",
    "    \"\"\"Returns a random sample from the specified sqlite db connection, from the table called traffic.\n",
    "    Order is randomized.\n",
    "    Can specify a race to filter on.\n",
    "    Prints the equivalent SQL query.\n",
    "    Returns the dataframe result of the SQL query\"\"\"\n",
    "    var_count = 0\n",
    "    condition = \"--\"\n",
    "    for k, v in filters.items():\n",
    "        if var_count==0:\n",
    "            if type(v)!=str:\n",
    "                condition = \"WHERE {0} in {1}\".format(k, tuple(v))\n",
    "            else:\n",
    "                condition = \"WHERE {0} = '{1}'\".format(k, v)\n",
    "        else:\n",
    "            if type(v)!=str:\n",
    "                condition = condition + \"\"\"\n",
    "                AND {0} in {1}\"\"\".format(k, tuple(v))\n",
    "            else:\n",
    "                condition = condition + \"\"\"\n",
    "                AND {0} = '{1}'\"\"\".format(k, v)\n",
    "        \n",
    "        var_count += 1\n",
    "\n",
    "    sql_str = '''\n",
    "        SELECT * FROM traffic\n",
    "        {0}\n",
    "        ORDER BY RANDOM() \n",
    "        LIMIT {1}\n",
    "        '''.format(condition, n_sample)\n",
    "    if show_SQL: print(sql_str)\n",
    "    df = pd.read_sql_query(sql_str, connection)\n",
    "    return df"
   ]
  },
  {
   "cell_type": "code",
   "execution_count": 35,
   "metadata": {
    "ExecuteTime": {
     "end_time": "2019-06-06T00:35:50.289788Z",
     "start_time": "2019-06-06T00:35:46.704584Z"
    }
   },
   "outputs": [
    {
     "name": "stdout",
     "output_type": "stream",
     "text": [
      "\n",
      "        SELECT * FROM traffic\n",
      "        WHERE race ='WHITE'\n",
      "        ORDER BY RANDOM() \n",
      "        LIMIT 5000\n",
      "        \n",
      "\n",
      "        SELECT * FROM traffic\n",
      "        WHERE race ='BLACK'\n",
      "        ORDER BY RANDOM() \n",
      "        LIMIT 5000\n",
      "        \n",
      "\n",
      "        SELECT * FROM traffic\n",
      "        WHERE race ='HISPANIC'\n",
      "        ORDER BY RANDOM() \n",
      "        LIMIT 5000\n",
      "        \n",
      "\n",
      "        SELECT * FROM traffic\n",
      "        WHERE race ='ASIAN'\n",
      "        ORDER BY RANDOM() \n",
      "        LIMIT 5000\n",
      "        \n",
      "\n",
      "        SELECT * FROM traffic\n",
      "        WHERE race ='OTHER'\n",
      "        ORDER BY RANDOM() \n",
      "        LIMIT 5000\n",
      "        \n"
     ]
    },
    {
     "name": "stderr",
     "output_type": "stream",
     "text": [
      "/Users/flatironschool/anaconda3/lib/python3.7/site-packages/numpy/core/fromnumeric.py:2389: FutureWarning: Method .ptp is deprecated and will be removed in a future version. Use numpy.ptp instead.\n",
      "  return ptp(axis=axis, out=out, **kwargs)\n"
     ]
    },
    {
     "data": {
      "text/html": [
       "<table class=\"simpletable\">\n",
       "<caption>OLS Regression Results</caption>\n",
       "<tr>\n",
       "  <th>Dep. Variable:</th>     <td>Violation Type</td>  <th>  R-squared:         </th> <td>   0.012</td> \n",
       "</tr>\n",
       "<tr>\n",
       "  <th>Model:</th>                   <td>OLS</td>       <th>  Adj. R-squared:    </th> <td>   0.012</td> \n",
       "</tr>\n",
       "<tr>\n",
       "  <th>Method:</th>             <td>Least Squares</td>  <th>  F-statistic:       </th> <td>   75.77</td> \n",
       "</tr>\n",
       "<tr>\n",
       "  <th>Date:</th>             <td>Thu, 06 Jun 2019</td> <th>  Prob (F-statistic):</th> <td>5.75e-64</td> \n",
       "</tr>\n",
       "<tr>\n",
       "  <th>Time:</th>                 <td>12:12:33</td>     <th>  Log-Likelihood:    </th> <td> -17801.</td> \n",
       "</tr>\n",
       "<tr>\n",
       "  <th>No. Observations:</th>      <td> 25000</td>      <th>  AIC:               </th> <td>3.561e+04</td>\n",
       "</tr>\n",
       "<tr>\n",
       "  <th>Df Residuals:</th>          <td> 24995</td>      <th>  BIC:               </th> <td>3.565e+04</td>\n",
       "</tr>\n",
       "<tr>\n",
       "  <th>Df Model:</th>              <td>     4</td>      <th>                     </th>     <td> </td>    \n",
       "</tr>\n",
       "<tr>\n",
       "  <th>Covariance Type:</th>      <td>nonrobust</td>    <th>                     </th>     <td> </td>    \n",
       "</tr>\n",
       "</table>\n",
       "<table class=\"simpletable\">\n",
       "<tr>\n",
       "        <td></td>           <th>coef</th>     <th>std err</th>      <th>t</th>      <th>P>|t|</th>  <th>[0.025</th>    <th>0.975]</th>  \n",
       "</tr>\n",
       "<tr>\n",
       "  <th>const</th>         <td>    0.4352</td> <td>    0.007</td> <td>   62.393</td> <td> 0.000</td> <td>    0.422</td> <td>    0.449</td>\n",
       "</tr>\n",
       "<tr>\n",
       "  <th>Race_ASIAN</th>    <td>   -0.0704</td> <td>    0.010</td> <td>   -7.137</td> <td> 0.000</td> <td>   -0.090</td> <td>   -0.051</td>\n",
       "</tr>\n",
       "<tr>\n",
       "  <th>Race_BLACK</th>    <td>    0.0294</td> <td>    0.010</td> <td>    2.980</td> <td> 0.003</td> <td>    0.010</td> <td>    0.049</td>\n",
       "</tr>\n",
       "<tr>\n",
       "  <th>Race_HISPANIC</th> <td>    0.0886</td> <td>    0.010</td> <td>    8.982</td> <td> 0.000</td> <td>    0.069</td> <td>    0.108</td>\n",
       "</tr>\n",
       "<tr>\n",
       "  <th>Race_OTHER</th>    <td>   -0.0334</td> <td>    0.010</td> <td>   -3.386</td> <td> 0.001</td> <td>   -0.053</td> <td>   -0.014</td>\n",
       "</tr>\n",
       "</table>\n",
       "<table class=\"simpletable\">\n",
       "<tr>\n",
       "  <th>Omnibus:</th>       <td>91703.449</td> <th>  Durbin-Watson:     </th> <td>   1.998</td>\n",
       "</tr>\n",
       "<tr>\n",
       "  <th>Prob(Omnibus):</th>  <td> 0.000</td>   <th>  Jarque-Bera (JB):  </th> <td>3975.008</td>\n",
       "</tr>\n",
       "<tr>\n",
       "  <th>Skew:</th>           <td> 0.246</td>   <th>  Prob(JB):          </th> <td>    0.00</td>\n",
       "</tr>\n",
       "<tr>\n",
       "  <th>Kurtosis:</th>       <td> 1.109</td>   <th>  Cond. No.          </th> <td>    5.83</td>\n",
       "</tr>\n",
       "</table><br/><br/>Warnings:<br/>[1] Standard Errors assume that the covariance matrix of the errors is correctly specified."
      ],
      "text/plain": [
       "<class 'statsmodels.iolib.summary.Summary'>\n",
       "\"\"\"\n",
       "                            OLS Regression Results                            \n",
       "==============================================================================\n",
       "Dep. Variable:         Violation Type   R-squared:                       0.012\n",
       "Model:                            OLS   Adj. R-squared:                  0.012\n",
       "Method:                 Least Squares   F-statistic:                     75.77\n",
       "Date:                Thu, 06 Jun 2019   Prob (F-statistic):           5.75e-64\n",
       "Time:                        12:12:33   Log-Likelihood:                -17801.\n",
       "No. Observations:               25000   AIC:                         3.561e+04\n",
       "Df Residuals:                   24995   BIC:                         3.565e+04\n",
       "Df Model:                           4                                         \n",
       "Covariance Type:            nonrobust                                         \n",
       "=================================================================================\n",
       "                    coef    std err          t      P>|t|      [0.025      0.975]\n",
       "---------------------------------------------------------------------------------\n",
       "const             0.4352      0.007     62.393      0.000       0.422       0.449\n",
       "Race_ASIAN       -0.0704      0.010     -7.137      0.000      -0.090      -0.051\n",
       "Race_BLACK        0.0294      0.010      2.980      0.003       0.010       0.049\n",
       "Race_HISPANIC     0.0886      0.010      8.982      0.000       0.069       0.108\n",
       "Race_OTHER       -0.0334      0.010     -3.386      0.001      -0.053      -0.014\n",
       "==============================================================================\n",
       "Omnibus:                    91703.449   Durbin-Watson:                   1.998\n",
       "Prob(Omnibus):                  0.000   Jarque-Bera (JB):             3975.008\n",
       "Skew:                           0.246   Prob(JB):                         0.00\n",
       "Kurtosis:                       1.109   Cond. No.                         5.83\n",
       "==============================================================================\n",
       "\n",
       "Warnings:\n",
       "[1] Standard Errors assume that the covariance matrix of the errors is correctly specified.\n",
       "\"\"\""
      ]
     },
     "execution_count": 35,
     "metadata": {},
     "output_type": "execute_result"
    }
   ],
   "source": [
    "df_white = sample_from_traffic(5000, conn, 'White')\n",
    "df_black = sample_from_traffic(5000, conn, 'Black')\n",
    "df_hispanic = sample_from_traffic(5000, conn, 'Hispanic')\n",
    "df_asian = sample_from_traffic(5000, conn, 'Asian')\n",
    "df_other = sample_from_traffic(5000, conn, 'other')\n",
    "\n",
    "df_race_sample = pd.concat([df_white, df_asian, df_black, df_hispanic, df_other])\n",
    "\n",
    "\n",
    "X = pd.get_dummies(df_race_sample['Race'], prefix='Race')\n",
    "X = X.drop(columns='Race_WHITE')\n",
    "y = (df_race_sample['Violation Type'] == 'Citation')*1\n",
    "y.columns = ['Citation']\n",
    "\n",
    "X = sm.add_constant(X)\n",
    "\n",
    "model_linreg = sm.OLS(y, X).fit()\n",
    "model_linreg.summary()"
   ]
  },
  {
   "cell_type": "code",
   "execution_count": 36,
   "metadata": {
    "ExecuteTime": {
     "end_time": "2019-06-06T00:35:51.003165Z",
     "start_time": "2019-06-06T00:35:50.291832Z"
    }
   },
   "outputs": [
    {
     "name": "stdout",
     "output_type": "stream",
     "text": [
      "\n",
      "        SELECT * FROM traffic\n",
      "        --\n",
      "        ORDER BY RANDOM() \n",
      "        LIMIT 5000\n",
      "        \n"
     ]
    }
   ],
   "source": [
    "df_test = sample_from_traffic(5000, conn)"
   ]
  },
  {
   "cell_type": "code",
   "execution_count": 37,
   "metadata": {
    "ExecuteTime": {
     "end_time": "2019-06-06T00:35:51.011031Z",
     "start_time": "2019-06-06T00:35:51.004946Z"
    }
   },
   "outputs": [
    {
     "data": {
      "text/plain": [
       "WHITE              1750\n",
       "BLACK              1585\n",
       "HISPANIC           1077\n",
       "ASIAN               296\n",
       "OTHER               280\n",
       "NATIVE AMERICAN      12\n",
       "Name: Race, dtype: int64"
      ]
     },
     "execution_count": 37,
     "metadata": {},
     "output_type": "execute_result"
    }
   ],
   "source": [
    "df_test.Race.value_counts()"
   ]
  },
  {
   "cell_type": "code",
   "execution_count": 38,
   "metadata": {
    "ExecuteTime": {
     "end_time": "2019-06-06T00:35:54.114197Z",
     "start_time": "2019-06-06T00:35:51.013005Z"
    }
   },
   "outputs": [
    {
     "data": {
      "text/plain": [
       "count                 1529036\n",
       "unique                   2710\n",
       "top       2015-03-17 00:00:00\n",
       "freq                     1281\n",
       "first     2012-01-01 00:00:00\n",
       "last      2019-06-03 00:00:00\n",
       "Name: Date Of Stop, dtype: object"
      ]
     },
     "execution_count": 38,
     "metadata": {},
     "output_type": "execute_result"
    }
   ],
   "source": [
    "pd.to_datetime(all_df['Date Of Stop'], format='%m/%d/%Y').describe()"
   ]
  },
  {
   "cell_type": "code",
   "execution_count": 39,
   "metadata": {
    "ExecuteTime": {
     "end_time": "2019-06-06T00:35:54.119281Z",
     "start_time": "2019-06-06T00:35:54.116404Z"
    }
   },
   "outputs": [],
   "source": [
    "import datetime"
   ]
  },
  {
   "cell_type": "code",
   "execution_count": 40,
   "metadata": {
    "ExecuteTime": {
     "end_time": "2019-06-06T00:35:57.212841Z",
     "start_time": "2019-06-06T00:35:54.121210Z"
    }
   },
   "outputs": [
    {
     "name": "stderr",
     "output_type": "stream",
     "text": [
      "/Users/flatironschool/anaconda3/lib/python3.7/site-packages/pandas/plotting/_converter.py:129: FutureWarning: Using an implicitly registered datetime converter for a matplotlib plotting method. The converter was registered by pandas on import. Future versions of pandas will require you to explicitly register matplotlib converters.\n",
      "\n",
      "To register the converters:\n",
      "\t>>> from pandas.plotting import register_matplotlib_converters\n",
      "\t>>> register_matplotlib_converters()\n",
      "  warnings.warn(msg, FutureWarning)\n"
     ]
    },
    {
     "data": {
      "image/png": "[encoded data removed]",
      "text/plain": [
       "<Figure size 1152x432 with 1 Axes>"
      ]
     },
     "metadata": {
      "needs_background": "light"
     },
     "output_type": "display_data"
    }
   ],
   "source": [
    "fig = plt.figure(figsize=(16, 6))\n",
    "plt.hist(pd.to_datetime(all_df['Date Of Stop'], format='%m/%d/%Y'), bins=88);\n",
    "#plt.xlim(datetime.date(2016,1,1))"
   ]
  },
  {
   "cell_type": "code",
   "execution_count": 41,
   "metadata": {
    "ExecuteTime": {
     "end_time": "2019-06-06T00:35:58.809019Z",
     "start_time": "2019-06-06T00:35:57.214239Z"
    }
   },
   "outputs": [
    {
     "data": {
      "text/plain": [
       "BLACK          311612\n",
       "SILVER         279662\n",
       "WHITE          237891\n",
       "GRAY           172294\n",
       "RED            119343\n",
       "BLUE           111576\n",
       "GREEN           54812\n",
       "GOLD            46992\n",
       "BLUE, DARK      32123\n",
       "TAN             30408\n",
       "MAROON          25856\n",
       "BLUE, LIGHT     19699\n",
       "BEIGE           17040\n",
       "N/A             16362\n",
       "GREEN, DK       15944\n",
       "GREEN, LGT       8441\n",
       "BROWN            6932\n",
       "YELLOW           5684\n",
       "ORANGE           5417\n",
       "BRONZE           3477\n",
       "PURPLE           2907\n",
       "                 1746\n",
       "MULTICOLOR       1157\n",
       "CREAM             912\n",
       "COPPER            469\n",
       "PINK              211\n",
       "CHROME             41\n",
       "CAMOUFLAGE         28\n",
       "Name: Color, dtype: int64"
      ]
     },
     "execution_count": 41,
     "metadata": {},
     "output_type": "execute_result"
    }
   ],
   "source": [
    "all_df.Color.value_counts()"
   ]
  },
  {
   "cell_type": "code",
   "execution_count": 42,
   "metadata": {
    "ExecuteTime": {
     "end_time": "2019-06-06T00:36:02.687539Z",
     "start_time": "2019-06-06T00:35:58.811338Z"
    }
   },
   "outputs": [
    {
     "name": "stdout",
     "output_type": "stream",
     "text": [
      "\n",
      "        SELECT * FROM traffic\n",
      "        WHERE race ='WHITE'\n",
      "        ORDER BY RANDOM() \n",
      "        LIMIT 5000\n",
      "        \n",
      "\n",
      "        SELECT * FROM traffic\n",
      "        WHERE race ='BLACK'\n",
      "        ORDER BY RANDOM() \n",
      "        LIMIT 5000\n",
      "        \n",
      "\n",
      "        SELECT * FROM traffic\n",
      "        WHERE race ='HISPANIC'\n",
      "        ORDER BY RANDOM() \n",
      "        LIMIT 5000\n",
      "        \n",
      "\n",
      "        SELECT * FROM traffic\n",
      "        WHERE race ='ASIAN'\n",
      "        ORDER BY RANDOM() \n",
      "        LIMIT 5000\n",
      "        \n",
      "\n",
      "        SELECT * FROM traffic\n",
      "        WHERE race ='OTHER'\n",
      "        ORDER BY RANDOM() \n",
      "        LIMIT 5000\n",
      "        \n",
      "Optimization terminated successfully.\n",
      "         Current function value: 0.678456\n",
      "         Iterations 4\n"
     ]
    },
    {
     "data": {
      "text/html": [
       "<table class=\"simpletable\">\n",
       "<caption>Logit Regression Results</caption>\n",
       "<tr>\n",
       "  <th>Dep. Variable:</th>  <td>Violation Type</td>  <th>  No. Observations:  </th>  <td> 25000</td>  \n",
       "</tr>\n",
       "<tr>\n",
       "  <th>Model:</th>               <td>Logit</td>      <th>  Df Residuals:      </th>  <td> 24995</td>  \n",
       "</tr>\n",
       "<tr>\n",
       "  <th>Method:</th>               <td>MLE</td>       <th>  Df Model:          </th>  <td>     4</td>  \n",
       "</tr>\n",
       "<tr>\n",
       "  <th>Date:</th>          <td>Thu, 06 Jun 2019</td> <th>  Pseudo R-squ.:     </th> <td>0.007790</td> \n",
       "</tr>\n",
       "<tr>\n",
       "  <th>Time:</th>              <td>12:12:50</td>     <th>  Log-Likelihood:    </th> <td> -16961.</td> \n",
       "</tr>\n",
       "<tr>\n",
       "  <th>converged:</th>           <td>True</td>       <th>  LL-Null:           </th> <td> -17095.</td> \n",
       "</tr>\n",
       "<tr>\n",
       "  <th> </th>                      <td> </td>        <th>  LLR p-value:       </th> <td>1.963e-56</td>\n",
       "</tr>\n",
       "</table>\n",
       "<table class=\"simpletable\">\n",
       "<tr>\n",
       "        <td></td>           <th>coef</th>     <th>std err</th>      <th>z</th>      <th>P>|z|</th>  <th>[0.025</th>    <th>0.975]</th>  \n",
       "</tr>\n",
       "<tr>\n",
       "  <th>const</th>         <td>   -0.3006</td> <td>    0.029</td> <td>  -10.510</td> <td> 0.000</td> <td>   -0.357</td> <td>   -0.245</td>\n",
       "</tr>\n",
       "<tr>\n",
       "  <th>Race_ASIAN</th>    <td>   -0.2290</td> <td>    0.041</td> <td>   -5.594</td> <td> 0.000</td> <td>   -0.309</td> <td>   -0.149</td>\n",
       "</tr>\n",
       "<tr>\n",
       "  <th>Race_BLACK</th>    <td>    0.1829</td> <td>    0.040</td> <td>    4.543</td> <td> 0.000</td> <td>    0.104</td> <td>    0.262</td>\n",
       "</tr>\n",
       "<tr>\n",
       "  <th>Race_HISPANIC</th> <td>    0.3270</td> <td>    0.040</td> <td>    8.130</td> <td> 0.000</td> <td>    0.248</td> <td>    0.406</td>\n",
       "</tr>\n",
       "<tr>\n",
       "  <th>Race_OTHER</th>    <td>   -0.1669</td> <td>    0.041</td> <td>   -4.093</td> <td> 0.000</td> <td>   -0.247</td> <td>   -0.087</td>\n",
       "</tr>\n",
       "</table>"
      ],
      "text/plain": [
       "<class 'statsmodels.iolib.summary.Summary'>\n",
       "\"\"\"\n",
       "                           Logit Regression Results                           \n",
       "==============================================================================\n",
       "Dep. Variable:         Violation Type   No. Observations:                25000\n",
       "Model:                          Logit   Df Residuals:                    24995\n",
       "Method:                           MLE   Df Model:                            4\n",
       "Date:                Thu, 06 Jun 2019   Pseudo R-squ.:                0.007790\n",
       "Time:                        12:12:50   Log-Likelihood:                -16961.\n",
       "converged:                       True   LL-Null:                       -17095.\n",
       "                                        LLR p-value:                 1.963e-56\n",
       "=================================================================================\n",
       "                    coef    std err          z      P>|z|      [0.025      0.975]\n",
       "---------------------------------------------------------------------------------\n",
       "const            -0.3006      0.029    -10.510      0.000      -0.357      -0.245\n",
       "Race_ASIAN       -0.2290      0.041     -5.594      0.000      -0.309      -0.149\n",
       "Race_BLACK        0.1829      0.040      4.543      0.000       0.104       0.262\n",
       "Race_HISPANIC     0.3270      0.040      8.130      0.000       0.248       0.406\n",
       "Race_OTHER       -0.1669      0.041     -4.093      0.000      -0.247      -0.087\n",
       "=================================================================================\n",
       "\"\"\""
      ]
     },
     "execution_count": 42,
     "metadata": {},
     "output_type": "execute_result"
    }
   ],
   "source": [
    "# Linear regression of Race versus Citation\n",
    "\n",
    "df_white = sample_from_traffic(5000, conn, 'White')\n",
    "df_black = sample_from_traffic(5000, conn, 'Black')\n",
    "df_hispanic = sample_from_traffic(5000, conn, 'Hispanic')\n",
    "df_asian = sample_from_traffic(5000, conn, 'Asian')\n",
    "df_other = sample_from_traffic(5000, conn, 'other')\n",
    "\n",
    "df_race_sample = pd.concat([df_white, df_asian, df_black, df_hispanic, df_other])\n",
    "\n",
    "\n",
    "X = pd.get_dummies(df_race_sample['Race'], prefix='Race')\n",
    "X = X.drop(columns='Race_WHITE')\n",
    "y = (df_race_sample['Violation Type'] == 'Citation')*1\n",
    "y.columns = ['Citation']\n",
    "\n",
    "X = sm.add_constant(X)\n",
    "\n",
    "model_logit = sm.Logit(y, X).fit()\n",
    "model_logit.summary()"
   ]
  },
  {
   "cell_type": "code",
   "execution_count": 43,
   "metadata": {
    "ExecuteTime": {
     "end_time": "2019-06-06T01:09:44.291590Z",
     "start_time": "2019-06-06T01:07:26.315828Z"
    }
   },
   "outputs": [
    {
     "data": {
      "image/png": "[encoded data removed]",
      "text/plain": [
       "<Figure size 1152x720 with 1 Axes>"
      ]
     },
     "metadata": {
      "needs_background": "light"
     },
     "output_type": "display_data"
    }
   ],
   "source": [
    "# 2 prop z-test on white versus black citations\n",
    "\n",
    "from statsmodels.stats.proportion import proportions_ztest\n",
    "\n",
    "\n",
    "n_sim = 100\n",
    "\n",
    "mu_white_list = []\n",
    "mu_black_list = []\n",
    "z_list = []\n",
    "p_list = []\n",
    "\n",
    "for i in range(n_sim):\n",
    "    n_sample = 5000\n",
    "\n",
    "    df_white = sample_from_traffic(n_sample, conn, 'White', show_SQL=False)\n",
    "    df_black = sample_from_traffic(n_sample, conn, 'Black', show_SQL=False)\n",
    "\n",
    "    white_cited = sum(df_white['Violation Type'] == 'Citation')\n",
    "    black_cited = sum(df_black['Violation Type'] == 'Citation')\n",
    "\n",
    "    mu_white_list.append(white_cited / n_sample)\n",
    "    mu_black_list.append(black_cited / n_sample)\n",
    "    \n",
    "    count = np.array([white_cited, black_cited])\n",
    "    nobs = np.array([n_sample, n_sample])\n",
    "    z,p = proportions_ztest(count, nobs, value=0, alternative='two-sided')\n",
    "    z_list.append(z)\n",
    "    p_list.append(p)\n",
    "    \n",
    "\n",
    "\n",
    "fig = plt.figure(figsize=(16,10))\n",
    "\n",
    "\n",
    "sns.distplot(mu_white_list, label=\"White Proportion Cited\")\n",
    "sns.distplot(mu_black_list, label=\"Black Proportion Cited\")\n",
    "plt.title('Montgomery County Traffic Stops \\n Proportion Issued Citation - White vs. Black', fontsize=20)\n",
    "\n",
    "plt.xlabel('Proportion of Sample Issued Citation', fontsize=16)\n",
    "plt.ylabel('Frequency from {} simulations'.format(n_sim), fontsize=16)\n",
    "plt.legend();\n"
   ]
  },
  {
   "cell_type": "code",
   "execution_count": null,
   "metadata": {
    "ExecuteTime": {
     "end_time": "2019-06-06T01:21:26.791071Z",
     "start_time": "2019-06-06T01:21:26.385839Z"
    }
   },
   "outputs": [],
   "source": []
  },
  {
   "cell_type": "code",
   "execution_count": 44,
   "metadata": {
    "ExecuteTime": {
     "end_time": "2019-06-06T03:25:28.691819Z",
     "start_time": "2019-06-06T03:23:30.012142Z"
    }
   },
   "outputs": [
    {
     "data": {
      "image/png": "[encoded data removed]",
      "text/plain": [
       "<Figure size 1152x720 with 1 Axes>"
      ]
     },
     "metadata": {
      "needs_background": "light"
     },
     "output_type": "display_data"
    }
   ],
   "source": [
    "# 2 prop z-test on white versus black warnings\n",
    "\n",
    "from statsmodels.stats.proportion import proportions_ztest\n",
    "\n",
    "#n_sim is repeating the whole sampling process of 5000, 100 times\n",
    "n_sim = 100\n",
    "\n",
    "mu_white_list = []\n",
    "mu_black_list = []\n",
    "z_list = []\n",
    "p_list = []\n",
    "\n",
    "for i in range(n_sim):\n",
    "    n_sample = 5000\n",
    "\n",
    "    \n",
    "    descrip = \"FAILURE TO DISPLAY REGISTRATION CARD UPON DEMAND BY POLICE OFFICER\"\n",
    "    \n",
    "    df_white = sample_from_traffic_2(n_sample, conn, filters={'race':'WHITE', 'Description':descrip}, show_SQL=False)\n",
    "    df_black = sample_from_traffic_2(n_sample, conn, filters={'race':'BLACK', 'Description':descrip}, show_SQL=False)\n",
    "\n",
    "    white_cited = sum(df_white['Violation Type'] == 'Warning')\n",
    "    black_cited = sum(df_black['Violation Type'] == 'Warning')\n",
    "\n",
    "    mu_white_list.append(white_cited / n_sample)\n",
    "    mu_black_list.append(black_cited / n_sample)\n",
    "    \n",
    "    count = np.array([white_cited, black_cited])\n",
    "    nobs = np.array([n_sample, n_sample])\n",
    "    z,p = proportions_ztest(count, nobs, value=0, alternative='two-sided')\n",
    "    z_list.append(z)\n",
    "    p_list.append(p)\n",
    "    \n",
    "\n",
    "\n",
    "fig = plt.figure(figsize=(16,10))\n",
    "\n",
    "\n",
    "sns.distplot(mu_white_list, label=\"White Proportion Given Warning\")\n",
    "sns.distplot(mu_black_list, label=\"Black Proportion Given Warning\")\n",
    "plt.title('Montgomery County Traffic Stops \\n Did Not Present Registration to Officer \\n Proportion Given Warning - White vs. Black', fontsize=20)\n",
    "\n",
    "plt.xlabel('Proportion of Sample Given Warning', fontsize=16)\n",
    "plt.ylabel('Frequency from {} simulations'.format(n_sim), fontsize=16)\n",
    "plt.legend();\n"
   ]
  },
  {
   "cell_type": "code",
   "execution_count": 46,
   "metadata": {
    "ExecuteTime": {
     "end_time": "2019-06-06T03:25:28.691819Z",
     "start_time": "2019-06-06T03:23:30.012142Z"
    }
   },
   "outputs": [],
   "source": [
    "# 2 prop z-test on white versus black warnings\n",
    "# we are running a z-test instead of a t-test because we're looking at the proportions of sample \n",
    "#given a warning rather than the number of people\n",
    "\n",
    "from statsmodels.stats.proportion import proportions_ztest\n",
    "\n",
    "#n_sim is repeating the whole sampling process of 5000 people for each category, 100 times\n",
    "n_sim = 100\n",
    "\n",
    "\n",
    "mu_black_male_list = []\n",
    "mu_black_female_list = []\n",
    "mu_white_male_list = []\n",
    "mu_white_female_list = []\n",
    "\n",
    "z_list = []\n",
    "p_list = []\n",
    "\n",
    "for i in range(n_sim):\n",
    "    n_sample = 5000\n",
    "\n",
    "    df_black_male = sample_from_traffic_2(n_sample, conn, filters={'race':'BLACK','gender':'M'}, show_SQL=False)\n",
    "    df_black_female = sample_from_traffic_2(n_sample, conn, filters={'race':'BLACK', 'gender':'F'}, show_SQL=False)\n",
    "    df_white_male = sample_from_traffic_2(n_sample, conn, filters={'race':'BLACK', 'gender':'M'}, show_SQL=False)\n",
    "    df_white_female = sample_from_traffic_2(n_sample, conn, filters={'race':'BLACK', 'gender':'F'}, show_SQL=False)\n",
    "\n",
    "\n",
    "    black_male_cited = sum(df_black_male['Violation Type'] == 'Citation')\n",
    "    black_female_cited = sum(df_black_female['Violation Type'] == 'Citation')\n",
    "    white_male_cited = sum(df_white_male['Violation Type'] == 'Citation')\n",
    "    white_female_cited = sum(df_white_female['Violation Type'] == 'Citation')\n",
    "\n",
    "    mu_black_male_list.append(black_male_cited / n_sample)\n",
    "    mu_black_female_list.append(black_female_cited / n_sample)\n",
    "    mu_white_male_list.append(white_male_cited / n_sample)\n",
    "    mu_white_female_list.append(white_female_cited / n_sample)\n",
    "    \n",
    "    nobs = np.array([n_sample, n_sample])\n",
    "    \n",
    "    z1,p1 = proportions_ztest(np.array([black_male_cited, black_female_cited]), nobs, value=0, alternative='two-sided')\n",
    "    z2,p2 = proportions_ztest(np.array([black_male_cited, white_female_cited]), nobs, value=0, alternative='two-sided')\n",
    "    z3,p3 = proportions_ztest(np.array([white_female_cited, black_female_cited]), nobs, value=0, alternative='two-sided')\n",
    "    z4,p4 = proportions_ztest(np.array([white_male_cited, white_female_cited]), nobs, value=0, alternative='two-sided')\n",
    "\n",
    "    z_list.append([z1, z2, z3, z4])\n",
    "    p_list.append([p1, p2, p3, p4])\n",
    "    \n",
    "\n"
   ]
  },
  {
   "cell_type": "code",
   "execution_count": 52,
   "metadata": {},
   "outputs": [
    {
     "data": {
      "text/plain": [
       "1.3791331700564314e-12"
      ]
     },
     "execution_count": 52,
     "metadata": {},
     "output_type": "execute_result"
    }
   ],
   "source": [
    "p1"
   ]
  },
  {
   "cell_type": "code",
   "execution_count": 67,
   "metadata": {},
   "outputs": [
    {
     "data": {
      "text/plain": [
       "1.2686895950294175e-13"
      ]
     },
     "execution_count": 67,
     "metadata": {},
     "output_type": "execute_result"
    }
   ],
   "source": [
    "p2"
   ]
  },
  {
   "cell_type": "code",
   "execution_count": 68,
   "metadata": {},
   "outputs": [
    {
     "data": {
      "text/plain": [
       "0.7458206164881458"
      ]
     },
     "execution_count": 68,
     "metadata": {},
     "output_type": "execute_result"
    }
   ],
   "source": [
    "p3"
   ]
  },
  {
   "cell_type": "code",
   "execution_count": 69,
   "metadata": {},
   "outputs": [
    {
     "data": {
      "text/plain": [
       "2.3696192222860893e-14"
      ]
     },
     "execution_count": 69,
     "metadata": {},
     "output_type": "execute_result"
    }
   ],
   "source": [
    "p4"
   ]
  },
  {
   "cell_type": "code",
   "execution_count": 61,
   "metadata": {
    "collapsed": true
   },
   "outputs": [
    {
     "data": {
      "text/plain": [
       "[6.778624696250473,\n",
       " 6.9100767484430135,\n",
       " 5.182363091833566,\n",
       " 5.183146121762944,\n",
       " 5.4012415334223975,\n",
       " 5.526275691890843,\n",
       " 4.760990920324057,\n",
       " 8.119804156433956,\n",
       " 5.1047737532832524,\n",
       " 5.37363797382857,\n",
       " 6.429946352078185,\n",
       " 7.216610209321902,\n",
       " 7.746086267006943,\n",
       " 8.086571654191761,\n",
       " 5.948399305155259,\n",
       " 4.936788349786621,\n",
       " 5.821166522437789,\n",
       " 7.139152335969249,\n",
       " 7.973374474150262,\n",
       " 7.545911267408176,\n",
       " 6.340938871877693,\n",
       " 7.3918977433905155,\n",
       " 6.906307332589503,\n",
       " 7.109628692395712,\n",
       " 8.498762697524896,\n",
       " 7.529343463804698,\n",
       " 5.460229401909635,\n",
       " 7.201157694090117,\n",
       " 6.229497484983084,\n",
       " 7.005593205299256,\n",
       " 7.5766200808397945,\n",
       " 6.023367808155332,\n",
       " 6.563699023251043,\n",
       " 6.097822418017695,\n",
       " 6.341988501745651,\n",
       " 6.587452573745181,\n",
       " 7.764073476198391,\n",
       " 7.585047131549901,\n",
       " 7.451464067083031,\n",
       " 6.185551597997908,\n",
       " 7.268221073404983,\n",
       " 5.840939805032242,\n",
       " 7.260132401368554,\n",
       " 7.6261869191891165,\n",
       " 6.022521047772192,\n",
       " 6.18269305536959,\n",
       " 8.197230461068292,\n",
       " 7.917180241430456,\n",
       " 7.224568316760906,\n",
       " 7.299155345172652,\n",
       " 3.8376508808210854,\n",
       " 6.145611242579339,\n",
       " 7.300232745902852,\n",
       " 6.251715250972455,\n",
       " 6.445810292922482,\n",
       " 7.866181197099356,\n",
       " 7.073772146671117,\n",
       " 7.541688782585066,\n",
       " 7.568169842110126,\n",
       " 7.508338289122644,\n",
       " 7.027763342954387,\n",
       " 4.717559450652201,\n",
       " 7.457261164839861,\n",
       " 6.864278612817472,\n",
       " 6.3383316108729915,\n",
       " 7.591637417303892,\n",
       " 6.3067468693943605,\n",
       " 6.686056995858576,\n",
       " 5.892231297271222,\n",
       " 7.271106015291888,\n",
       " 7.392733565779385,\n",
       " 7.246473200896934,\n",
       " 7.223676507065669,\n",
       " 8.170306834380199,\n",
       " 6.808498606390279,\n",
       " 7.569769732714669,\n",
       " 7.098423019724757,\n",
       " 8.627931375843751,\n",
       " 8.452643068253154,\n",
       " 7.992725915019661,\n",
       " 6.380863287631468,\n",
       " 6.908285715494383,\n",
       " 7.648735050164967,\n",
       " 7.619337425577814,\n",
       " 5.61208843769616,\n",
       " 7.92352420811042,\n",
       " 7.048477127127699,\n",
       " 7.346462009257833,\n",
       " 8.176763194145991,\n",
       " 7.075752685999153,\n",
       " 6.949472665001425,\n",
       " 6.828961578325101,\n",
       " 7.576921218326514,\n",
       " 7.646383485401164,\n",
       " 5.623023256797751,\n",
       " 8.248460925196532,\n",
       " 7.460233330765652,\n",
       " 5.402020408267123,\n",
       " 7.46135271174432,\n",
       " 7.086130953037515]"
      ]
     },
     "execution_count": 61,
     "metadata": {},
     "output_type": "execute_result"
    }
   ],
   "source": [
    "z1_list =[x[0] for x in z_list]\n",
    "z1_list"
   ]
  },
  {
   "cell_type": "code",
   "execution_count": 57,
   "metadata": {
    "collapsed": true
   },
   "outputs": [
    {
     "data": {
      "text/plain": [
       "[[1.2132523636984848e-11,\n",
       "  2.6221735438382223e-08,\n",
       "  0.22396081943748225,\n",
       "  3.989417479892322e-09],\n",
       " [4.843915684794928e-12,\n",
       "  7.41451659915145e-12,\n",
       "  0.951520794739558,\n",
       "  3.166420229561347e-10],\n",
       " [2.190921776479659e-07,\n",
       "  4.7849281656095596e-11,\n",
       "  0.16223326340386623,\n",
       "  7.156768553397597e-13],\n",
       " [2.181739749885972e-07,\n",
       "  3.4089422465830512e-09,\n",
       "  0.4662457749190525,\n",
       "  1.7328874010622678e-13],\n",
       " [6.618124426963673e-08,\n",
       "  2.761464442909421e-07,\n",
       "  0.7928754082190038,\n",
       "  2.2306756812645756e-07],\n",
       " [3.2709999326593276e-08,\n",
       "  1.9595249000762492e-07,\n",
       "  0.7462240090838788,\n",
       "  3.562416754971678e-11],\n",
       " [1.926447163786234e-06,\n",
       "  2.3270317060445964e-10,\n",
       "  0.11421264004559493,\n",
       "  2.2663232051062294e-12],\n",
       " [4.669365539029564e-16,\n",
       "  2.236627662097661e-20,\n",
       "  0.25637850726279043,\n",
       "  1.8406371784971482e-11],\n",
       " [3.3119051373080975e-07,\n",
       "  1.1963831111807928e-05,\n",
       "  0.4669989007217423,\n",
       "  7.225884517485543e-11],\n",
       " [7.716370944126219e-08,\n",
       "  5.286191608874455e-11,\n",
       "  0.23358856340547085,\n",
       "  3.317380877285735e-10],\n",
       " [1.2764898932681125e-10,\n",
       "  5.314948386119452e-08,\n",
       "  0.32153615322130125,\n",
       "  2.4011697943560676e-08],\n",
       " [5.329946973139778e-13,\n",
       "  1.7037187309630348e-09,\n",
       "  0.23188457626219816,\n",
       "  1.9447497078383296e-07],\n",
       " [9.476813903147008e-15,\n",
       "  1.1148935159281241e-20,\n",
       "  0.11310422693602179,\n",
       "  7.473746974615716e-18],\n",
       " [6.136761976821959e-16,\n",
       "  1.82161542840378e-14,\n",
       "  0.6706169647869213,\n",
       "  7.659800234180011e-12],\n",
       " [2.707773819473256e-09,\n",
       "  2.046507974526448e-13,\n",
       "  0.16135428511052785,\n",
       "  2.692528498544003e-19],\n",
       " [7.941957946984007e-07,\n",
       "  4.963569133524571e-11,\n",
       "  0.10142386375245588,\n",
       "  8.461880889115004e-11],\n",
       " [5.843830885664248e-09,\n",
       "  1.5115722851265563e-09,\n",
       "  0.8240312636918832,\n",
       "  3.326624312386467e-10],\n",
       " [9.390821599953348e-13,\n",
       "  2.2472081179419132e-12,\n",
       "  0.9034933178248918,\n",
       "  7.994372754153967e-12],\n",
       " [1.5439942705587611e-15,\n",
       "  8.075080081880984e-11,\n",
       "  0.13936935946503803,\n",
       "  4.384115743955212e-10],\n",
       " [4.4913578272422436e-14,\n",
       "  1.424107364771232e-12,\n",
       "  0.6415664989811596,\n",
       "  6.50101565854033e-08],\n",
       " [2.2836914509764311e-10,\n",
       "  2.667503303264334e-13,\n",
       "  0.3312544359162314,\n",
       "  6.901963882673152e-14],\n",
       " [1.4474783012371438e-13,\n",
       "  6.729825602869801e-14,\n",
       "  0.9192080981006033,\n",
       "  1.6639583005845864e-13],\n",
       " [4.974317273569417e-12,\n",
       "  1.8187752127649772e-12,\n",
       "  0.8872639426036354,\n",
       "  2.0987045865634136e-12],\n",
       " [1.1635556132467993e-12,\n",
       "  7.83951581879371e-11,\n",
       "  0.5435610625033844,\n",
       "  3.371918453285328e-16],\n",
       " [1.916221805453006e-17,\n",
       "  3.785189045268913e-14,\n",
       "  0.35044816538970314,\n",
       "  1.2804182531201728e-14],\n",
       " [5.099608052995533e-14,\n",
       "  1.4590577134415674e-14,\n",
       "  0.8711341808191777,\n",
       "  1.0964488112512901e-11],\n",
       " [4.755197484521594e-08,\n",
       "  1.6641963146930366e-11,\n",
       "  0.2023050839258551,\n",
       "  8.556117813569446e-13],\n",
       " [5.970344911693792e-13,\n",
       "  1.4399373781391158e-12,\n",
       "  0.90343632271251,\n",
       "  1.573420209981302e-11],\n",
       " [4.679336685127495e-10,\n",
       "  5.699118696272525e-09,\n",
       "  0.6855464458925513,\n",
       "  7.722005373182507e-12],\n",
       " [2.4594154094596312e-12,\n",
       "  2.699142974671401e-13,\n",
       "  0.7612604159644669,\n",
       "  2.3263711993052033e-13],\n",
       " [3.5467343011807794e-14,\n",
       "  6.32713239004357e-10,\n",
       "  0.16212367709254027,\n",
       "  1.759266646386512e-07],\n",
       " [1.7082463787169926e-09,\n",
       "  4.357459293457269e-15,\n",
       "  0.06795199809366077,\n",
       "  2.3004619419759427e-15],\n",
       " [5.248909629223187e-11,\n",
       "  3.812611505722367e-06,\n",
       "  0.05172168726096358,\n",
       "  2.2472081179419132e-12],\n",
       " [1.0752309683185805e-09,\n",
       "  1.0869275248133817e-13,\n",
       "  0.1818150020666517,\n",
       "  1.4811008295074034e-14],\n",
       " [2.268182487785597e-10,\n",
       "  3.248957899153077e-09,\n",
       "  0.6713383762785474,\n",
       "  1.5237164329313478e-08],\n",
       " [4.4743683764541073e-11,\n",
       "  9.79474316898608e-13,\n",
       "  0.5842092608244458,\n",
       "  1.7510868674983982e-17],\n",
       " [8.2244211885278e-15,\n",
       "  1.0089628369495007e-13,\n",
       "  0.7449254947465513,\n",
       "  2.8900317443114635e-18],\n",
       " [3.323662253066378e-14,\n",
       "  9.742438862423707e-10,\n",
       "  0.14021552323161907,\n",
       "  7.669487230533179e-08],\n",
       " [9.231003590315408e-14,\n",
       "  8.789799691791682e-13,\n",
       "  0.7610771786040752,\n",
       "  2.2433117400917615e-11],\n",
       " [6.188568815815233e-10,\n",
       "  1.6945215652721742e-08,\n",
       "  0.5851135588145933,\n",
       "  1.1943315496636974e-08],\n",
       " [3.642523335416919e-13,\n",
       "  2.0733414045285606e-10,\n",
       "  0.36038093852683295,\n",
       "  7.262848609360915e-13],\n",
       " [5.1907159015425566e-09,\n",
       "  1.0015759198846182e-10,\n",
       "  0.5306598462404848,\n",
       "  8.983023136666082e-13],\n",
       " [3.86711607383017e-13,\n",
       "  8.239023585792832e-09,\n",
       "  0.1336373774468571,\n",
       "  2.2587429758503262e-10],\n",
       " [2.417991623758237e-14,\n",
       "  2.6945795147205066e-10,\n",
       "  0.18883215899281902,\n",
       "  8.593360866755289e-09],\n",
       " [1.7172103040117546e-09,\n",
       "  2.5794328719030373e-11,\n",
       "  0.5172406329449276,\n",
       "  1.1085112891173591e-14],\n",
       " [6.301717156386605e-10, 6.301717156386605e-10, 1.0, 2.2619005363736703e-10],\n",
       " [2.459885689034448e-16,\n",
       "  1.5753074746330573e-09,\n",
       "  0.030286954244135644,\n",
       "  2.5754296190432407e-09],\n",
       " [2.429574277369331e-15,\n",
       "  3.510086371191634e-11,\n",
       "  0.19452548764009037,\n",
       "  2.4478051833434325e-13],\n",
       " [5.026961047996361e-13,\n",
       "  1.5803279041865704e-11,\n",
       "  0.627347874329904,\n",
       "  2.3819725241018004e-11],\n",
       " [2.8957982872111537e-13,\n",
       "  1.0969444535376763e-12,\n",
       "  0.8556770875312336,\n",
       "  1.6945215652721742e-08],\n",
       " [0.0001242169124240529,\n",
       "  1.0691558512823514e-05,\n",
       "  0.5717080496766676,\n",
       "  4.922013356393467e-10],\n",
       " [7.965616289875044e-10,\n",
       "  7.012392133526186e-10,\n",
       "  0.9838543000536046,\n",
       "  1.8670275521690022e-12],\n",
       " [2.872703608898436e-13,\n",
       "  1.1282697549533462e-14,\n",
       "  0.6709110489138245,\n",
       "  1.3205358868181428e-11],\n",
       " [4.059690772472644e-10,\n",
       "  7.719843980896669e-10,\n",
       "  0.9192843454173952,\n",
       "  2.706952424322597e-16],\n",
       " [1.1498441619588437e-10,\n",
       "  7.387921712741387e-12,\n",
       "  0.6854319032289637,\n",
       "  4.85277746386501e-12],\n",
       " [3.656308490110494e-15,\n",
       "  1.109069928942733e-12,\n",
       "  0.4519621300007496,\n",
       "  4.750550652038135e-20],\n",
       " [1.5077778630895126e-12,\n",
       "  4.1448874302558235e-12,\n",
       "  0.8870924127904645,\n",
       "  8.573085828599093e-13],\n",
       " [4.639238524627314e-14,\n",
       "  1.6764101991485256e-11,\n",
       "  0.41673264142062816,\n",
       "  5.919767188313806e-10],\n",
       " [3.785189045268913e-14,\n",
       "  8.466510488876069e-10,\n",
       "  0.15109284752862914,\n",
       "  2.4753624362596324e-11],\n",
       " [5.988259777182016e-14,\n",
       "  1.4685523839713564e-14,\n",
       "  0.8552278830425705,\n",
       "  6.845142859926656e-14],\n",
       " [2.0987045865634136e-12,\n",
       "  1.9388505710294702e-14,\n",
       "  0.5296004276718476,\n",
       "  7.213600893104085e-18],\n",
       " [2.386906632226768e-06,\n",
       "  3.0412222027431904e-07,\n",
       "  0.6863459955315094,\n",
       "  1.0334825792433667e-07],\n",
       " [8.833949405375852e-14,\n",
       "  1.0424382684473119e-15,\n",
       "  0.5712335304205083,\n",
       "  6.371335479895128e-09],\n",
       " [6.6828090486608464e-12,\n",
       "  1.00428839206183e-08,\n",
       "  0.2556958612219692,\n",
       "  1.492570495341455e-11],\n",
       " [2.322665009428186e-10,\n",
       "  1.6120286456908684e-12,\n",
       "  0.46671021697938564,\n",
       "  2.795831567486956e-13],\n",
       " [3.158879193994222e-14,\n",
       "  5.878844886822749e-14,\n",
       "  0.9353421018938088,\n",
       "  8.573085828599093e-13],\n",
       " [2.8496130359608005e-10,\n",
       "  1.2931213507020798e-10,\n",
       "  0.903305023361955,\n",
       "  3.4114236308375655e-11],\n",
       " [2.2926376545791223e-11,\n",
       "  5.961442035549987e-11,\n",
       "  0.8873352517591391,\n",
       "  4.394054292063559e-12],\n",
       " [3.810153459136839e-09,\n",
       "  3.5051318538737745e-10,\n",
       "  0.7016440730018201,\n",
       "  1.612124262129333e-10],\n",
       " [3.565559659517701e-13,\n",
       "  2.5851191062270213e-10,\n",
       "  0.3413202248819136,\n",
       "  1.138636460146689e-07],\n",
       " [1.4384052201499436e-13,\n",
       "  4.567435878453069e-11,\n",
       "  0.41771736230247003,\n",
       "  4.814388315809518e-10],\n",
       " [4.277637693463318e-13,\n",
       "  3.821969409827619e-12,\n",
       "  0.7613939839824427,\n",
       "  1.0265933191485846e-09],\n",
       " [5.060054708090866e-13,\n",
       "  4.857336041029185e-11,\n",
       "  0.5156570304138118,\n",
       "  9.00349670011615e-15],\n",
       " [3.076060980660929e-16,\n",
       "  6.34141193451389e-14,\n",
       "  0.5018102301281391,\n",
       "  2.525636849234115e-12],\n",
       " [9.8622543940885e-12,\n",
       "  6.310218526751431e-10,\n",
       "  0.5304057621196487,\n",
       "  8.120930327544657e-10],\n",
       " [3.738863692556845e-14,\n",
       "  3.4281982952235456e-10,\n",
       "  0.19535919011174951,\n",
       "  9.643553916791243e-05],\n",
       " [1.2618844182175938e-12,\n",
       "  1.8320920780382847e-13,\n",
       "  0.7927103543029725,\n",
       "  2.625019439029444e-05],\n",
       " [6.247154118021789e-18,\n",
       "  8.336412016247871e-13,\n",
       "  0.13964401461302156,\n",
       "  4.284088603451591e-08],\n",
       " [2.84781264828133e-17,\n",
       "  6.992979376115053e-12,\n",
       "  0.10967962341539668,\n",
       "  4.642032866295172e-07],\n",
       " [1.3198734494817798e-15,\n",
       "  1.2146944514903142e-12,\n",
       "  0.37257446966684193,\n",
       "  6.188568815815233e-10],\n",
       " [1.7609245933699458e-10,\n",
       "  2.0321768495567414e-11,\n",
       "  0.7462834950472435,\n",
       "  4.124383997340623e-08],\n",
       " [4.9054525162885855e-12,\n",
       "  3.018516307052748e-11,\n",
       "  0.7923594946769406,\n",
       "  5.915414656142338e-11],\n",
       " [2.029659424416324e-14,\n",
       "  1.0603129115534201e-10,\n",
       "  0.23260038863977128,\n",
       "  4.770317929639254e-08],\n",
       " [2.5498112783073084e-14,\n",
       "  8.7740391304692575e-16,\n",
       "  0.6709110489138245,\n",
       "  1.378216132566773e-07],\n",
       " [1.9989922294592306e-08,\n",
       "  4.486285619617988e-10,\n",
       "  0.5318883261387888,\n",
       "  6.432405360764509e-07],\n",
       " [2.3087178719298233e-15,\n",
       "  3.384009708779701e-13,\n",
       "  0.5174480596334418,\n",
       "  1.3931250317645526e-14],\n",
       " [1.808864761827889e-12,\n",
       "  1.3518541150388046e-12,\n",
       "  0.9676748074402409,\n",
       "  1.2737438075677817e-09],\n",
       " [2.0352203529151931e-13,\n",
       "  1.190977943525871e-11,\n",
       "  0.5709732452477512,\n",
       "  3.335804062128181e-10],\n",
       " [2.9157023466047765e-16,\n",
       "  1.3229929358659334e-20,\n",
       "  0.2567830155721035,\n",
       "  1.4342543953589796e-11],\n",
       " [1.4863974473204934e-12,\n",
       "  1.9220851109864975e-09,\n",
       "  0.2828811840299441,\n",
       "  3.070621841887633e-11],\n",
       " [3.66654155750443e-12,\n",
       "  1.420072692529781e-13,\n",
       "  0.6554815795815596,\n",
       "  2.646043249247991e-12],\n",
       " [8.55314759263175e-12,\n",
       "  1.1434825070018263e-12,\n",
       "  0.7765744124000926,\n",
       "  1.453491315339764e-13],\n",
       " [3.538515000975976e-14,\n",
       "  2.2427914235588384e-10,\n",
       "  0.21635082920382487,\n",
       "  9.029147209623106e-16],\n",
       " [2.0671059069347753e-14,\n",
       "  1.788545477199601e-13,\n",
       "  0.776802266683364,\n",
       "  4.77958434468973e-10],\n",
       " [1.876441276535628e-08,\n",
       "  1.3005806240830393e-09,\n",
       "  0.6562547743163726,\n",
       "  8.941313846541353e-10],\n",
       " [1.6044746340690604e-16,\n",
       "  7.628760615879423e-20,\n",
       "  0.38250468325934284,\n",
       "  2.0062329871904006e-16],\n",
       " [8.636939154991627e-14,\n",
       "  1.6192014236654976e-16,\n",
       "  0.42973650732394375,\n",
       "  5.927790282380831e-14],\n",
       " [6.589445097845589e-08,\n",
       "  1.8652092422104e-08,\n",
       "  0.8240106350997509,\n",
       "  1.7366145641529925e-10],\n",
       " [8.563865903357129e-14,\n",
       "  1.3532139817695545e-13,\n",
       "  0.9516132373771933,\n",
       "  2.1199064082876068e-13],\n",
       " [1.3791331700564314e-12,\n",
       "  1.2686895950294175e-13,\n",
       "  0.7458206164881458,\n",
       "  2.3696192222860893e-14]]"
      ]
     },
     "execution_count": 57,
     "metadata": {},
     "output_type": "execute_result"
    }
   ],
   "source": [
    "p_list"
   ]
  },
  {
   "cell_type": "code",
   "execution_count": 62,
   "metadata": {},
   "outputs": [
    {
     "data": {
      "image/png": "[encoded data removed]",
      "text/plain": [
       "<Figure size 1152x720 with 1 Axes>"
      ]
     },
     "metadata": {
      "needs_background": "light"
     },
     "output_type": "display_data"
    }
   ],
   "source": [
    "#Black Male vs. Black Female Citation Rate\n",
    "fig = plt.figure(figsize=(16,10))\n",
    "\n",
    "sns.distplot(mu_black_male_list, label=\"Black Male: Proportion Given Citation\")\n",
    "sns.distplot(mu_black_female_list, label=\"Black Female: Proportion Given Citation\")\n",
    "\n",
    "\n",
    "plt.title('Montgomery County Traffic Stops \\n Proportion Given Citation \\n Black Males vs. Black Females', fontsize=20)\n",
    "\n",
    "plt.xlabel('Proportion of Sample Given Citation', fontsize=16)\n",
    "plt.ylabel('Frequency from {} simulations'.format(n_sim), fontsize=16)\n",
    "plt.legend();"
   ]
  },
  {
   "cell_type": "code",
   "execution_count": 63,
   "metadata": {},
   "outputs": [
    {
     "data": {
      "image/png": "[encoded data removed]",
      "text/plain": [
       "<Figure size 1152x720 with 1 Axes>"
      ]
     },
     "metadata": {
      "needs_background": "light"
     },
     "output_type": "display_data"
    }
   ],
   "source": [
    "#Black Male vs. White Male Citation Rate\n",
    "fig = plt.figure(figsize=(16,10))\n",
    "\n",
    "sns.distplot(mu_black_male_list, label=\"Black Male: Proportion Given Citation\")\n",
    "sns.distplot(mu_white_female_list, label=\"White Male: Proportion Given Citation\")\n",
    "\n",
    "\n",
    "plt.title('Montgomery County Traffic Stops \\n Proportion Given Citation \\n Black Male vs. White Males', fontsize=20)\n",
    "\n",
    "plt.xlabel('Proportion of Sample Given Citation', fontsize=16)\n",
    "plt.ylabel('Frequency from {} simulations'.format(n_sim), fontsize=16)\n",
    "plt.legend();"
   ]
  },
  {
   "cell_type": "code",
   "execution_count": 64,
   "metadata": {},
   "outputs": [
    {
     "data": {
      "image/png": "[encoded data removed]",
      "text/plain": [
       "<Figure size 1152x720 with 1 Axes>"
      ]
     },
     "metadata": {
      "needs_background": "light"
     },
     "output_type": "display_data"
    }
   ],
   "source": [
    "#White Male vs. White Female Citation Rate\n",
    "fig = plt.figure(figsize=(16,10))\n",
    "\n",
    "sns.distplot(mu_white_male_list, label=\"White Males: Proportion Given Citation\")\n",
    "sns.distplot(mu_white_female_list, label=\"White Females: Proportion Given Citation\")\n",
    "\n",
    "\n",
    "plt.title('Montgomery County Traffic Stops \\n Proportion Given Citation \\n White Male vs. White Females', fontsize=20)\n",
    "\n",
    "plt.xlabel('Proportion of Sample Given Citation', fontsize=16)\n",
    "plt.ylabel('Frequency from {} simulations'.format(n_sim), fontsize=16)\n",
    "plt.legend();"
   ]
  },
  {
   "cell_type": "code",
   "execution_count": 65,
   "metadata": {},
   "outputs": [
    {
     "data": {
      "image/png": "[encoded data removed]",
      "text/plain": [
       "<Figure size 1152x720 with 1 Axes>"
      ]
     },
     "metadata": {
      "needs_background": "light"
     },
     "output_type": "display_data"
    }
   ],
   "source": [
    "#White Female vs. Black Female Citation Rate\n",
    "fig = plt.figure(figsize=(16,10))\n",
    "\n",
    "sns.distplot(mu_black_female_list, label=\"Black Females: Proportion Given Citation\")\n",
    "sns.distplot(mu_white_female_list, label=\"White Females: Proportion Given Citation\")\n",
    "\n",
    "\n",
    "plt.title('Montgomery County Traffic Stops \\n Proportion Given Citation \\n Black Females vs. White Females', fontsize=20)\n",
    "\n",
    "plt.xlabel('Proportion of Sample Given Citation', fontsize=16)\n",
    "plt.ylabel('Frequency from {} simulations'.format(n_sim), fontsize=16)\n",
    "plt.legend();"
   ]
  },
  {
   "cell_type": "code",
   "execution_count": null,
   "metadata": {},
   "outputs": [],
   "source": []
  }
 ],
 "metadata": {
  "kernelspec": {
   "display_name": "Python 3",
   "language": "python",
   "name": "python3"
  },
  "language_info": {
   "codemirror_mode": {
    "name": "ipython",
    "version": 3
   },
   "file_extension": ".py",
   "mimetype": "text/x-python",
   "name": "python",
   "nbconvert_exporter": "python",
   "pygments_lexer": "ipython3",
   "version": "3.7.3"
  },
  "toc": {
   "base_numbering": 1,
   "nav_menu": {},
   "number_sections": true,
   "sideBar": true,
   "skip_h1_title": false,
   "title_cell": "Table of Contents",
   "title_sidebar": "Contents",
   "toc_cell": false,
   "toc_position": {},
   "toc_section_display": true,
   "toc_window_display": false
  },
  "varInspector": {
   "cols": {
    "lenName": 16,
    "lenType": 16,
    "lenVar": 40
   },
   "kernels_config": {
    "python": {
     "delete_cmd_postfix": "",
     "delete_cmd_prefix": "del ",
     "library": "var_list.py",
     "varRefreshCmd": "print(var_dic_list())"
    },
    "r": {
     "delete_cmd_postfix": ") ",
     "delete_cmd_prefix": "rm(",
     "library": "var_list.r",
     "varRefreshCmd": "cat(var_dic_list()) "
    }
   },
   "position": {
    "height": "450px",
    "left": "216px",
    "right": "20px",
    "top": "120px",
    "width": "587px"
   },
   "types_to_exclude": [
    "module",
    "function",
    "builtin_function_or_method",
    "instance",
    "_Feature"
   ],
   "window_display": false
  }
 },
 "nbformat": 4,
 "nbformat_minor": 2
}
