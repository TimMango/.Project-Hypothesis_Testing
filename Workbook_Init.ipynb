{
 "cells": [
  {
   "cell_type": "code",
   "execution_count": null,
   "metadata": {},
   "outputs": [],
   "source": [
    "import sqlite3        # for importing the .db file\n",
    "import pandas as pd   # for dataframe viewing\n",
    "import numpy as np    # for arrays\n",
    "import statsmodels.api as sm  # for proportion z-tests\n",
    "from scipy.stats import chisquare  # for chi-squared tests\n",
    "from scipy.stats import chi2_contingency\n",
    "\n",
    "\n",
    "import matplotlib.pyplot as plt\n",
    "%matplotlib inline\n",
    "\n",
    "import seaborn as sns\n",
    "\n",
    "sns.set_style(\"whitegrid\")\n",
    "\n",
    "pd.set_option(\"display.max_columns\", 500)\n",
    "pd.options.display.max_colwidth = 100"
   ]
  },
  {
   "cell_type": "code",
   "execution_count": null,
   "metadata": {},
   "outputs": [],
   "source": [
    "def sample_from_traffic(n_sample, connection, race=None, gender=None, show_SQL=True):\n",
    "    \"\"\"Returns a random sample from the specified sqlite db connection, from the table called traffic.\n",
    "    Order is randomized.\n",
    "    Can specify a race and gender to filter on.\n",
    "    Prints the equivalent SQL query.\n",
    "    Returns the dataframe result of the SQL query\"\"\"\n",
    "    var_count = 0\n",
    "    if race:\n",
    "        condition = \"WHERE race ='{}'\".format(race.upper())\n",
    "        var_count += 1\n",
    "    else:\n",
    "        condition = \"--\"\n",
    "    if gender:\n",
    "        if var_count > 0:\n",
    "            condition = condition + \"\"\"\n",
    "            AND Gender = '{}'\"\"\".format(gender.upper()[0])\n",
    "        else:\n",
    "            condition = \"WHERE gender ='{}'\".format(gender.upper()[0])\n",
    "    sql_str = '''\n",
    "        SELECT * FROM traffic\n",
    "        {0}\n",
    "        ORDER BY RANDOM() \n",
    "        LIMIT {1}\n",
    "        '''.format(condition, n_sample)\n",
    "    if show_SQL: print(sql_str)\n",
    "    df = pd.read_sql_query(sql_str, connection)\n",
    "    return df"
   ]
  },
  {
   "cell_type": "code",
   "execution_count": null,
   "metadata": {},
   "outputs": [],
   "source": [
    "def sample_from_traffic_2(n_sample, connection, filters={}, show_SQL=True):\n",
    "    \"\"\"Returns a random sample from the specified sqlite db connection, from the table called traffic.\n",
    "    Order is randomized.\n",
    "    \n",
    "    Can input a filter dictionary of key, value paris of \"column name\":[list of possible values]\n",
    "    or \"column name\":\"single value\"\n",
    "    \n",
    "    Prints the equivalent SQL query.\n",
    "    Returns the dataframe result of the SQL query\"\"\"\n",
    "    var_count = 0\n",
    "    condition = \"--\"\n",
    "    for k, v in filters.items():\n",
    "        if var_count==0:\n",
    "            if type(v)!=str:\n",
    "                condition = \"WHERE {0} in {1}\".format(k, tuple(v))\n",
    "            else:\n",
    "                condition = \"WHERE {0} = '{1}'\".format(k, v)\n",
    "        else:\n",
    "            if type(v)!=str:\n",
    "                condition = condition + \"\"\"\n",
    "                AND {0} in {1}\"\"\".format(k, tuple(v))\n",
    "            else:\n",
    "                condition = condition + \"\"\"\n",
    "                AND {0} = '{1}'\"\"\".format(k, v)\n",
    "        \n",
    "        var_count += 1\n",
    "\n",
    "    sql_str = '''\n",
    "        SELECT * FROM traffic\n",
    "        {0}\n",
    "        ORDER BY RANDOM() \n",
    "        LIMIT {1}\n",
    "        '''.format(condition, n_sample)\n",
    "    if show_SQL: print(sql_str)\n",
    "    df = pd.read_sql_query(sql_str, connection)\n",
    "    return df"
   ]
  },
  {
   "cell_type": "code",
   "execution_count": 5,
   "metadata": {
    "ExecuteTime": {
     "end_time": "2019-06-07T03:33:48.339370Z",
     "start_time": "2019-06-07T03:33:48.333611Z"
    }
   },
   "outputs": [],
   "source": [
    "def sample_from_traffic_3(n_sample, connection, filters={}, show_SQL=True):\n",
    "    \"\"\"Returns a random sample from the specified sqlite db connection, from the table called traffic.\n",
    "    Fields are first aggregated on unique SeqID\n",
    "    \n",
    "    Order is randomized.\n",
    "    \n",
    "    Can input a filter dictionary of key, value paris of \"column name\":[list of possible values]\n",
    "    or \"column name\":\"single value\"\n",
    "    \n",
    "    Prints the equivalent SQL query.\n",
    "    Returns the dataframe result of the SQL query\"\"\"\n",
    "    var_count = 0\n",
    "    condition = \"--\"\n",
    "    for k, v in filters.items():\n",
    "        if var_count==0:\n",
    "            if k.title() == 'Description':\n",
    "                condition = \"WHERE {0} LIKE '%{1}%'\".format(k, v)\n",
    "            elif type(v)!=str:\n",
    "                condition = \"WHERE {0} in {1}\".format(k, tuple(v))\n",
    "            else:\n",
    "                condition = \"WHERE {0} = '{1}'\".format(k, v)\n",
    "        else:\n",
    "            if k.title() == 'Description':\n",
    "                condition = condition + \"\"\"\n",
    "                AND {0} LIKE '%{1}%'\"\"\".format(k, v)\n",
    "            elif type(v)!=str:\n",
    "                condition = condition + \"\"\"\n",
    "                AND {0} in {1}\"\"\".format(k, tuple(v))\n",
    "            else:\n",
    "                condition = condition + \"\"\"\n",
    "                AND {0} = '{1}'\"\"\".format(k, v)\n",
    "        \n",
    "        var_count += 1\n",
    "\n",
    "    sql_str = '''\n",
    "        SELECT * FROM traffic_unique\n",
    "        {0}\n",
    "        ORDER BY RANDOM() \n",
    "        LIMIT {1}\n",
    "        '''.format(condition, n_sample)\n",
    "    if show_SQL: print(sql_str)\n",
    "    df = pd.read_sql_query(sql_str, connection)\n",
    "    return df"
   ]
  },
  {
   "cell_type": "code",
   "execution_count": 6,
   "metadata": {
    "ExecuteTime": {
     "end_time": "2019-06-07T03:50:01.120076Z",
     "start_time": "2019-06-07T03:50:01.111524Z"
    }
   },
   "outputs": [],
   "source": [
    "def print_test_results(p_list, null_hyp, alpha=0.05):\n",
    "    num_reject = sum(np.array(p_list) < alpha)\n",
    "    n = len(p_list)\n",
    "    print(\"H0: {}\\n\".format(null_hyp))\n",
    "    print(\"Out of {0} repeated tests, the null hypothesis was rejected {1} times ({2:.1%}) at an alpha level of {3}.\".format(n, num_reject, num_reject/n, alpha))"
   ]
  },
  {
   "cell_type": "code",
   "execution_count": null,
   "metadata": {},
   "outputs": [],
   "source": []
  }
 ],
 "metadata": {
  "kernelspec": {
   "display_name": "Python 3",
   "language": "python",
   "name": "python3"
  },
  "language_info": {
   "codemirror_mode": {
    "name": "ipython",
    "version": 3
   },
   "file_extension": ".py",
   "mimetype": "text/x-python",
   "name": "python",
   "nbconvert_exporter": "python",
   "pygments_lexer": "ipython3",
   "version": "3.6.6"
  },
  "toc": {
   "base_numbering": 1,
   "nav_menu": {},
   "number_sections": true,
   "sideBar": true,
   "skip_h1_title": false,
   "title_cell": "Table of Contents",
   "title_sidebar": "Contents",
   "toc_cell": false,
   "toc_position": {},
   "toc_section_display": true,
   "toc_window_display": false
  },
  "varInspector": {
   "cols": {
    "lenName": 16,
    "lenType": 16,
    "lenVar": 40
   },
   "kernels_config": {
    "python": {
     "delete_cmd_postfix": "",
     "delete_cmd_prefix": "del ",
     "library": "var_list.py",
     "varRefreshCmd": "print(var_dic_list())"
    },
    "r": {
     "delete_cmd_postfix": ") ",
     "delete_cmd_prefix": "rm(",
     "library": "var_list.r",
     "varRefreshCmd": "cat(var_dic_list()) "
    }
   },
   "types_to_exclude": [
    "module",
    "function",
    "builtin_function_or_method",
    "instance",
    "_Feature"
   ],
   "window_display": false
  }
 },
 "nbformat": 4,
 "nbformat_minor": 2
}
