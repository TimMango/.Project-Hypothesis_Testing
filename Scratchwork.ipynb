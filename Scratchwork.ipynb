{
 "cells": [
  {
   "cell_type": "code",
   "execution_count": 10,
   "metadata": {
    "ExecuteTime": {
     "end_time": "2019-06-06T17:32:16.979261Z",
     "start_time": "2019-06-06T17:32:16.969278Z"
    }
   },
   "outputs": [],
   "source": [
    "import sqlite3 \n",
    "import pandas as pd\n",
    "#import pandas_profiling as pp\n",
    "import numpy as np\n",
    "\n",
    "import statsmodels.api as sm\n",
    "\n",
    "import matplotlib.pyplot as plt\n",
    "%matplotlib inline\n",
    "\n",
    "\n",
    "import seaborn as sns\n",
    "\n",
    "sns.set_style(\"whitegrid\")\n"
   ]
  },
  {
   "cell_type": "code",
   "execution_count": 2,
   "metadata": {
    "ExecuteTime": {
     "end_time": "2019-06-06T17:17:17.802899Z",
     "start_time": "2019-06-06T17:17:17.798253Z"
    }
   },
   "outputs": [],
   "source": [
    "conn = sqlite3.connect('traffic.db')\n",
    "c = conn.cursor()"
   ]
  },
  {
   "cell_type": "code",
   "execution_count": 3,
   "metadata": {
    "ExecuteTime": {
     "end_time": "2019-06-06T17:17:18.781914Z",
     "start_time": "2019-06-06T17:17:18.759516Z"
    }
   },
   "outputs": [
    {
     "data": {
      "text/html": [
       "<div>\n",
       "<style scoped>\n",
       "    .dataframe tbody tr th:only-of-type {\n",
       "        vertical-align: middle;\n",
       "    }\n",
       "\n",
       "    .dataframe tbody tr th {\n",
       "        vertical-align: top;\n",
       "    }\n",
       "\n",
       "    .dataframe thead th {\n",
       "        text-align: right;\n",
       "    }\n",
       "</style>\n",
       "<table border=\"1\" class=\"dataframe\">\n",
       "  <thead>\n",
       "    <tr style=\"text-align: right;\">\n",
       "      <th></th>\n",
       "      <th>type</th>\n",
       "      <th>name</th>\n",
       "      <th>tbl_name</th>\n",
       "      <th>rootpage</th>\n",
       "      <th>sql</th>\n",
       "    </tr>\n",
       "  </thead>\n",
       "  <tbody>\n",
       "    <tr>\n",
       "      <th>0</th>\n",
       "      <td>table</td>\n",
       "      <td>traffic</td>\n",
       "      <td>traffic</td>\n",
       "      <td>2</td>\n",
       "      <td>CREATE TABLE traffic(\\n  \"SeqID\" TEXT,\\n  \"Dat...</td>\n",
       "    </tr>\n",
       "  </tbody>\n",
       "</table>\n",
       "</div>"
      ],
      "text/plain": [
       "    type     name tbl_name  rootpage  \\\n",
       "0  table  traffic  traffic         2   \n",
       "\n",
       "                                                 sql  \n",
       "0  CREATE TABLE traffic(\\n  \"SeqID\" TEXT,\\n  \"Dat...  "
      ]
     },
     "execution_count": 3,
     "metadata": {},
     "output_type": "execute_result"
    }
   ],
   "source": [
    "sql_master = \"\"\"SELECT * FROM sqlite_master\"\"\"\n",
    "pd.read_sql_query(sql_master, conn)"
   ]
  },
  {
   "cell_type": "code",
   "execution_count": 4,
   "metadata": {
    "ExecuteTime": {
     "end_time": "2019-06-06T17:17:19.824357Z",
     "start_time": "2019-06-06T17:17:19.810622Z"
    }
   },
   "outputs": [
    {
     "data": {
      "text/html": [
       "<div>\n",
       "<style scoped>\n",
       "    .dataframe tbody tr th:only-of-type {\n",
       "        vertical-align: middle;\n",
       "    }\n",
       "\n",
       "    .dataframe tbody tr th {\n",
       "        vertical-align: top;\n",
       "    }\n",
       "\n",
       "    .dataframe thead th {\n",
       "        text-align: right;\n",
       "    }\n",
       "</style>\n",
       "<table border=\"1\" class=\"dataframe\">\n",
       "  <thead>\n",
       "    <tr style=\"text-align: right;\">\n",
       "      <th></th>\n",
       "      <th>type</th>\n",
       "      <th>name</th>\n",
       "      <th>tbl_name</th>\n",
       "      <th>rootpage</th>\n",
       "      <th>sql</th>\n",
       "    </tr>\n",
       "  </thead>\n",
       "  <tbody>\n",
       "    <tr>\n",
       "      <th>0</th>\n",
       "      <td>table</td>\n",
       "      <td>traffic</td>\n",
       "      <td>traffic</td>\n",
       "      <td>2</td>\n",
       "      <td>CREATE TABLE traffic(\\n  \"SeqID\" TEXT,\\n  \"Dat...</td>\n",
       "    </tr>\n",
       "  </tbody>\n",
       "</table>\n",
       "</div>"
      ],
      "text/plain": [
       "    type     name tbl_name  rootpage  \\\n",
       "0  table  traffic  traffic         2   \n",
       "\n",
       "                                                 sql  \n",
       "0  CREATE TABLE traffic(\\n  \"SeqID\" TEXT,\\n  \"Dat...  "
      ]
     },
     "execution_count": 4,
     "metadata": {},
     "output_type": "execute_result"
    }
   ],
   "source": [
    "### sql_master = \"\"\"SELECT sql FROM sqlite_master\"\"\"\n",
    "pd.read_sql_query(sql_master, conn)"
   ]
  },
  {
   "cell_type": "code",
   "execution_count": 5,
   "metadata": {
    "ExecuteTime": {
     "end_time": "2019-06-06T17:18:04.310719Z",
     "start_time": "2019-06-06T17:17:20.772998Z"
    }
   },
   "outputs": [
    {
     "data": {
      "text/html": [
       "<div>\n",
       "<style scoped>\n",
       "    .dataframe tbody tr th:only-of-type {\n",
       "        vertical-align: middle;\n",
       "    }\n",
       "\n",
       "    .dataframe tbody tr th {\n",
       "        vertical-align: top;\n",
       "    }\n",
       "\n",
       "    .dataframe thead th {\n",
       "        text-align: right;\n",
       "    }\n",
       "</style>\n",
       "<table border=\"1\" class=\"dataframe\">\n",
       "  <thead>\n",
       "    <tr style=\"text-align: right;\">\n",
       "      <th></th>\n",
       "      <th>SeqID</th>\n",
       "      <th>Date Of Stop</th>\n",
       "      <th>Time Of Stop</th>\n",
       "      <th>Agency</th>\n",
       "      <th>SubAgency</th>\n",
       "      <th>Description</th>\n",
       "      <th>Location</th>\n",
       "      <th>Latitude</th>\n",
       "      <th>Longitude</th>\n",
       "      <th>Accident</th>\n",
       "      <th>...</th>\n",
       "      <th>Driver City</th>\n",
       "      <th>Driver State</th>\n",
       "      <th>DL State</th>\n",
       "      <th>Arrest Type</th>\n",
       "      <th>Geolocation</th>\n",
       "      <th>Council Districts</th>\n",
       "      <th>Councils</th>\n",
       "      <th>Communities</th>\n",
       "      <th>Zip Codes</th>\n",
       "      <th>Municipalities</th>\n",
       "    </tr>\n",
       "  </thead>\n",
       "  <tbody>\n",
       "    <tr>\n",
       "      <th>0</th>\n",
       "      <td>865defcf-8348-4e11-a5bf-996d8b3ead3c</td>\n",
       "      <td>06/03/2019</td>\n",
       "      <td>22:49:00</td>\n",
       "      <td>MCP</td>\n",
       "      <td>2nd District, Bethesda</td>\n",
       "      <td>DRIVER CHANGING LANES WHEN UNSAFE</td>\n",
       "      <td>ROCKVILLE PIKE @ GROSVENOR LN</td>\n",
       "      <td>39.0231383333333</td>\n",
       "      <td>-77.102615</td>\n",
       "      <td>No</td>\n",
       "      <td>...</td>\n",
       "      <td>WASHINGTON</td>\n",
       "      <td>DC</td>\n",
       "      <td>DC</td>\n",
       "      <td>A - Marked Patrol</td>\n",
       "      <td>(39.0231383333333, -77.102615)</td>\n",
       "      <td>1</td>\n",
       "      <td>1</td>\n",
       "      <td>12</td>\n",
       "      <td>111</td>\n",
       "      <td>1</td>\n",
       "    </tr>\n",
       "    <tr>\n",
       "      <th>1</th>\n",
       "      <td>20bff600-1843-46c4-9596-6b0670eb8d74</td>\n",
       "      <td>06/03/2019</td>\n",
       "      <td>22:48:00</td>\n",
       "      <td>MCP</td>\n",
       "      <td>2nd District, Bethesda</td>\n",
       "      <td>EXCEEDING THE POSTED SPEED LIMIT OF 35 MPH</td>\n",
       "      <td>RIVER/ROYAL DOMINION</td>\n",
       "      <td>38.99006</td>\n",
       "      <td>-77.15189</td>\n",
       "      <td>No</td>\n",
       "      <td>...</td>\n",
       "      <td>POTOMAC</td>\n",
       "      <td>MD</td>\n",
       "      <td>MD</td>\n",
       "      <td>A - Marked Patrol</td>\n",
       "      <td>(38.99006, -77.15189)</td>\n",
       "      <td>1</td>\n",
       "      <td>1</td>\n",
       "      <td>12</td>\n",
       "      <td>103</td>\n",
       "      <td>1</td>\n",
       "    </tr>\n",
       "    <tr>\n",
       "      <th>2</th>\n",
       "      <td>e121eebe-daa1-4cca-afd4-8abb4b388ed6</td>\n",
       "      <td>06/03/2019</td>\n",
       "      <td>22:45:00</td>\n",
       "      <td>MCP</td>\n",
       "      <td>4th District, Wheaton</td>\n",
       "      <td>EXCEEDING THE POSTED SPEED LIMIT OF 35 MPH</td>\n",
       "      <td>GEORGIA @ EPPING</td>\n",
       "      <td>39.0662666666667</td>\n",
       "      <td>-77.0592166666667</td>\n",
       "      <td>No</td>\n",
       "      <td>...</td>\n",
       "      <td>SILVER SPRING</td>\n",
       "      <td>MD</td>\n",
       "      <td>MD</td>\n",
       "      <td>A - Marked Patrol</td>\n",
       "      <td>(39.0662666666667, -77.0592166666667)</td>\n",
       "      <td>4</td>\n",
       "      <td>4</td>\n",
       "      <td>23</td>\n",
       "      <td>6</td>\n",
       "      <td>1</td>\n",
       "    </tr>\n",
       "    <tr>\n",
       "      <th>3</th>\n",
       "      <td>1e25ee9b-c019-41c2-9d74-41e05e6d1cee</td>\n",
       "      <td>06/03/2019</td>\n",
       "      <td>22:43:00</td>\n",
       "      <td>MCP</td>\n",
       "      <td>4th District, Wheaton</td>\n",
       "      <td>STOP LIGHTS (*)</td>\n",
       "      <td>GEORGIA  AVE / ASPON HILL RD</td>\n",
       "      <td>39.0825783333333</td>\n",
       "      <td>-77.076885</td>\n",
       "      <td>No</td>\n",
       "      <td>...</td>\n",
       "      <td>ROCKVILLE</td>\n",
       "      <td>MD</td>\n",
       "      <td>MD</td>\n",
       "      <td>A - Marked Patrol</td>\n",
       "      <td>(39.0825783333333, -77.076885)</td>\n",
       "      <td>4</td>\n",
       "      <td>4</td>\n",
       "      <td>59</td>\n",
       "      <td>6</td>\n",
       "      <td>1</td>\n",
       "    </tr>\n",
       "    <tr>\n",
       "      <th>4</th>\n",
       "      <td>2c5730ec-d5e6-4657-a5a0-fcecca1ab140</td>\n",
       "      <td>06/03/2019</td>\n",
       "      <td>22:41:00</td>\n",
       "      <td>MCP</td>\n",
       "      <td>2nd District, Bethesda</td>\n",
       "      <td>FAILURE TO DISPLAY &amp; REFLECT RED COLOR LIGHT O...</td>\n",
       "      <td>ARLINGTON RD / BETHESDA AVE</td>\n",
       "      <td>38.97886</td>\n",
       "      <td>-77.0985183333333</td>\n",
       "      <td>No</td>\n",
       "      <td>...</td>\n",
       "      <td>BETHESDA</td>\n",
       "      <td>MD</td>\n",
       "      <td>MD</td>\n",
       "      <td>A - Marked Patrol</td>\n",
       "      <td>(38.97886, -77.0985183333333)</td>\n",
       "      <td>1</td>\n",
       "      <td>1</td>\n",
       "      <td>12</td>\n",
       "      <td>111</td>\n",
       "      <td>1</td>\n",
       "    </tr>\n",
       "  </tbody>\n",
       "</table>\n",
       "<p>5 rows × 41 columns</p>\n",
       "</div>"
      ],
      "text/plain": [
       "                                  SeqID Date Of Stop Time Of Stop Agency  \\\n",
       "0  865defcf-8348-4e11-a5bf-996d8b3ead3c   06/03/2019     22:49:00    MCP   \n",
       "1  20bff600-1843-46c4-9596-6b0670eb8d74   06/03/2019     22:48:00    MCP   \n",
       "2  e121eebe-daa1-4cca-afd4-8abb4b388ed6   06/03/2019     22:45:00    MCP   \n",
       "3  1e25ee9b-c019-41c2-9d74-41e05e6d1cee   06/03/2019     22:43:00    MCP   \n",
       "4  2c5730ec-d5e6-4657-a5a0-fcecca1ab140   06/03/2019     22:41:00    MCP   \n",
       "\n",
       "                SubAgency                                        Description  \\\n",
       "0  2nd District, Bethesda                  DRIVER CHANGING LANES WHEN UNSAFE   \n",
       "1  2nd District, Bethesda         EXCEEDING THE POSTED SPEED LIMIT OF 35 MPH   \n",
       "2   4th District, Wheaton         EXCEEDING THE POSTED SPEED LIMIT OF 35 MPH   \n",
       "3   4th District, Wheaton                                    STOP LIGHTS (*)   \n",
       "4  2nd District, Bethesda  FAILURE TO DISPLAY & REFLECT RED COLOR LIGHT O...   \n",
       "\n",
       "                        Location          Latitude          Longitude  \\\n",
       "0  ROCKVILLE PIKE @ GROSVENOR LN  39.0231383333333         -77.102615   \n",
       "1           RIVER/ROYAL DOMINION          38.99006          -77.15189   \n",
       "2               GEORGIA @ EPPING  39.0662666666667  -77.0592166666667   \n",
       "3   GEORGIA  AVE / ASPON HILL RD  39.0825783333333         -77.076885   \n",
       "4    ARLINGTON RD / BETHESDA AVE          38.97886  -77.0985183333333   \n",
       "\n",
       "  Accident      ...          Driver City Driver State DL State  \\\n",
       "0       No      ...           WASHINGTON           DC       DC   \n",
       "1       No      ...              POTOMAC           MD       MD   \n",
       "2       No      ...        SILVER SPRING           MD       MD   \n",
       "3       No      ...            ROCKVILLE           MD       MD   \n",
       "4       No      ...             BETHESDA           MD       MD   \n",
       "\n",
       "         Arrest Type                            Geolocation Council Districts  \\\n",
       "0  A - Marked Patrol         (39.0231383333333, -77.102615)                 1   \n",
       "1  A - Marked Patrol                  (38.99006, -77.15189)                 1   \n",
       "2  A - Marked Patrol  (39.0662666666667, -77.0592166666667)                 4   \n",
       "3  A - Marked Patrol         (39.0825783333333, -77.076885)                 4   \n",
       "4  A - Marked Patrol          (38.97886, -77.0985183333333)                 1   \n",
       "\n",
       "  Councils Communities Zip Codes Municipalities  \n",
       "0        1          12       111              1  \n",
       "1        1          12       103              1  \n",
       "2        4          23         6              1  \n",
       "3        4          59         6              1  \n",
       "4        1          12       111              1  \n",
       "\n",
       "[5 rows x 41 columns]"
      ]
     },
     "execution_count": 5,
     "metadata": {},
     "output_type": "execute_result"
    }
   ],
   "source": [
    "sql_all = \"SELECT * FROM traffic\"\n",
    "all_df = pd.read_sql_query(sql_all, conn)\n",
    "all_df.head()"
   ]
  },
  {
   "cell_type": "code",
   "execution_count": 6,
   "metadata": {
    "ExecuteTime": {
     "end_time": "2019-06-06T17:18:08.070720Z",
     "start_time": "2019-06-06T17:18:08.062176Z"
    }
   },
   "outputs": [
    {
     "data": {
      "text/plain": [
       "Index(['SeqID', 'Date Of Stop', 'Time Of Stop', 'Agency', 'SubAgency',\n",
       "       'Description', 'Location', 'Latitude', 'Longitude', 'Accident', 'Belts',\n",
       "       'Personal Injury', 'Property Damage', 'Fatal', 'Commercial License',\n",
       "       'HAZMAT', 'Commercial Vehicle', 'Alcohol', 'Work Zone', 'State',\n",
       "       'VehicleType', 'Year', 'Make', 'Model', 'Color', 'Violation Type',\n",
       "       'Charge', 'Article', 'Contributed To Accident', 'Race', 'Gender',\n",
       "       'Driver City', 'Driver State', 'DL State', 'Arrest Type', 'Geolocation',\n",
       "       'Council Districts', 'Councils', 'Communities', 'Zip Codes',\n",
       "       'Municipalities'],\n",
       "      dtype='object')"
      ]
     },
     "execution_count": 6,
     "metadata": {},
     "output_type": "execute_result"
    }
   ],
   "source": [
    "all_df.columns"
   ]
  },
  {
   "cell_type": "code",
   "execution_count": 6,
   "metadata": {
    "ExecuteTime": {
     "end_time": "2019-06-06T00:35:00.866869Z",
     "start_time": "2019-06-06T00:35:00.855963Z"
    }
   },
   "outputs": [],
   "source": [
    "#pp.ProfileReport(all_df)"
   ]
  },
  {
   "cell_type": "code",
   "execution_count": 7,
   "metadata": {
    "ExecuteTime": {
     "end_time": "2019-06-06T00:35:31.175851Z",
     "start_time": "2019-06-06T00:35:00.874764Z"
    }
   },
   "outputs": [
    {
     "data": {
      "text/html": [
       "<div>\n",
       "<style scoped>\n",
       "    .dataframe tbody tr th:only-of-type {\n",
       "        vertical-align: middle;\n",
       "    }\n",
       "\n",
       "    .dataframe tbody tr th {\n",
       "        vertical-align: top;\n",
       "    }\n",
       "\n",
       "    .dataframe thead th {\n",
       "        text-align: right;\n",
       "    }\n",
       "</style>\n",
       "<table border=\"1\" class=\"dataframe\">\n",
       "  <thead>\n",
       "    <tr style=\"text-align: right;\">\n",
       "      <th></th>\n",
       "      <th>SeqID</th>\n",
       "      <th>Date Of Stop</th>\n",
       "      <th>Time Of Stop</th>\n",
       "      <th>Agency</th>\n",
       "      <th>SubAgency</th>\n",
       "      <th>Description</th>\n",
       "      <th>Location</th>\n",
       "      <th>Latitude</th>\n",
       "      <th>Longitude</th>\n",
       "      <th>Accident</th>\n",
       "      <th>...</th>\n",
       "      <th>Driver City</th>\n",
       "      <th>Driver State</th>\n",
       "      <th>DL State</th>\n",
       "      <th>Arrest Type</th>\n",
       "      <th>Geolocation</th>\n",
       "      <th>Council Districts</th>\n",
       "      <th>Councils</th>\n",
       "      <th>Communities</th>\n",
       "      <th>Zip Codes</th>\n",
       "      <th>Municipalities</th>\n",
       "    </tr>\n",
       "  </thead>\n",
       "  <tbody>\n",
       "    <tr>\n",
       "      <th>count</th>\n",
       "      <td>1529036</td>\n",
       "      <td>1529036</td>\n",
       "      <td>1529036</td>\n",
       "      <td>1529036</td>\n",
       "      <td>1529036</td>\n",
       "      <td>1529036</td>\n",
       "      <td>1529036</td>\n",
       "      <td>1529036</td>\n",
       "      <td>1529036</td>\n",
       "      <td>1529036</td>\n",
       "      <td>...</td>\n",
       "      <td>1529036</td>\n",
       "      <td>1529036</td>\n",
       "      <td>1529036</td>\n",
       "      <td>1529036</td>\n",
       "      <td>1529036</td>\n",
       "      <td>1529036</td>\n",
       "      <td>1529036</td>\n",
       "      <td>1529036</td>\n",
       "      <td>1529036</td>\n",
       "      <td>1529036</td>\n",
       "    </tr>\n",
       "    <tr>\n",
       "      <th>unique</th>\n",
       "      <td>867384</td>\n",
       "      <td>2710</td>\n",
       "      <td>1440</td>\n",
       "      <td>1</td>\n",
       "      <td>9</td>\n",
       "      <td>13987</td>\n",
       "      <td>210296</td>\n",
       "      <td>298798</td>\n",
       "      <td>339125</td>\n",
       "      <td>6</td>\n",
       "      <td>...</td>\n",
       "      <td>7940</td>\n",
       "      <td>69</td>\n",
       "      <td>71</td>\n",
       "      <td>19</td>\n",
       "      <td>749951</td>\n",
       "      <td>6</td>\n",
       "      <td>6</td>\n",
       "      <td>63</td>\n",
       "      <td>145</td>\n",
       "      <td>25</td>\n",
       "    </tr>\n",
       "    <tr>\n",
       "      <th>top</th>\n",
       "      <td>33c49de3-9e36-4f36-9326-b59a95e86fe8</td>\n",
       "      <td>03/17/2015</td>\n",
       "      <td>23:30:00</td>\n",
       "      <td>MCP</td>\n",
       "      <td>4th District, Wheaton</td>\n",
       "      <td>DRIVER FAILURE TO OBEY PROPERLY PLACED TRAFFIC...</td>\n",
       "      <td>WAYNE AVE @ DALE DR</td>\n",
       "      <td>0</td>\n",
       "      <td>0</td>\n",
       "      <td>No</td>\n",
       "      <td>...</td>\n",
       "      <td>SILVER SPRING</td>\n",
       "      <td>MD</td>\n",
       "      <td>MD</td>\n",
       "      <td>A - Marked Patrol</td>\n",
       "      <td>(0.0, 0.0)</td>\n",
       "      <td>4</td>\n",
       "      <td>4</td>\n",
       "      <td>36</td>\n",
       "      <td>17</td>\n",
       "      <td>1</td>\n",
       "    </tr>\n",
       "    <tr>\n",
       "      <th>freq</th>\n",
       "      <td>59</td>\n",
       "      <td>1281</td>\n",
       "      <td>2312</td>\n",
       "      <td>1529036</td>\n",
       "      <td>375716</td>\n",
       "      <td>125683</td>\n",
       "      <td>2172</td>\n",
       "      <td>110485</td>\n",
       "      <td>110485</td>\n",
       "      <td>1482066</td>\n",
       "      <td>...</td>\n",
       "      <td>380216</td>\n",
       "      <td>1379705</td>\n",
       "      <td>1329309</td>\n",
       "      <td>1267088</td>\n",
       "      <td>110485</td>\n",
       "      <td>334292</td>\n",
       "      <td>334292</td>\n",
       "      <td>184196</td>\n",
       "      <td>131235</td>\n",
       "      <td>1161876</td>\n",
       "    </tr>\n",
       "  </tbody>\n",
       "</table>\n",
       "<p>4 rows × 41 columns</p>\n",
       "</div>"
      ],
      "text/plain": [
       "                                       SeqID Date Of Stop Time Of Stop  \\\n",
       "count                                1529036      1529036      1529036   \n",
       "unique                                867384         2710         1440   \n",
       "top     33c49de3-9e36-4f36-9326-b59a95e86fe8   03/17/2015     23:30:00   \n",
       "freq                                      59         1281         2312   \n",
       "\n",
       "         Agency              SubAgency  \\\n",
       "count   1529036                1529036   \n",
       "unique        1                      9   \n",
       "top         MCP  4th District, Wheaton   \n",
       "freq    1529036                 375716   \n",
       "\n",
       "                                              Description  \\\n",
       "count                                             1529036   \n",
       "unique                                              13987   \n",
       "top     DRIVER FAILURE TO OBEY PROPERLY PLACED TRAFFIC...   \n",
       "freq                                               125683   \n",
       "\n",
       "                   Location Latitude Longitude Accident      ...        \\\n",
       "count               1529036  1529036   1529036  1529036      ...         \n",
       "unique               210296   298798    339125        6      ...         \n",
       "top     WAYNE AVE @ DALE DR        0         0       No      ...         \n",
       "freq                   2172   110485    110485  1482066      ...         \n",
       "\n",
       "          Driver City Driver State DL State        Arrest Type Geolocation  \\\n",
       "count         1529036      1529036  1529036            1529036     1529036   \n",
       "unique           7940           69       71                 19      749951   \n",
       "top     SILVER SPRING           MD       MD  A - Marked Patrol  (0.0, 0.0)   \n",
       "freq           380216      1379705  1329309            1267088      110485   \n",
       "\n",
       "       Council Districts Councils Communities Zip Codes Municipalities  \n",
       "count            1529036  1529036     1529036   1529036        1529036  \n",
       "unique                 6        6          63       145             25  \n",
       "top                    4        4          36        17              1  \n",
       "freq              334292   334292      184196    131235        1161876  \n",
       "\n",
       "[4 rows x 41 columns]"
      ]
     },
     "execution_count": 7,
     "metadata": {},
     "output_type": "execute_result"
    }
   ],
   "source": [
    "all_df.describe()"
   ]
  },
  {
   "cell_type": "code",
   "execution_count": 8,
   "metadata": {
    "ExecuteTime": {
     "end_time": "2019-06-06T00:35:31.691709Z",
     "start_time": "2019-06-06T00:35:31.182762Z"
    }
   },
   "outputs": [
    {
     "data": {
      "text/plain": [
       "Warning     760397\n",
       "Citation    693505\n",
       "ESERO        74235\n",
       "SERO           899\n",
       "Name: Violation Type, dtype: int64"
      ]
     },
     "execution_count": 8,
     "metadata": {},
     "output_type": "execute_result"
    }
   ],
   "source": [
    "all_df['Violation Type'].value_counts()"
   ]
  },
  {
   "cell_type": "code",
   "execution_count": 9,
   "metadata": {
    "ExecuteTime": {
     "end_time": "2019-06-06T00:35:32.450581Z",
     "start_time": "2019-06-06T00:35:31.693727Z"
    }
   },
   "outputs": [],
   "source": [
    "grouped_race_violation = all_df.groupby(['Race', 'Violation Type']).size().astype(float)"
   ]
  },
  {
   "cell_type": "code",
   "execution_count": 10,
   "metadata": {
    "ExecuteTime": {
     "end_time": "2019-06-06T00:35:32.710069Z",
     "start_time": "2019-06-06T00:35:32.451927Z"
    }
   },
   "outputs": [
    {
     "data": {
      "text/plain": [
       "Race\n",
       "ASIAN               89675\n",
       "BLACK              484206\n",
       "HISPANIC           326826\n",
       "NATIVE AMERICAN      3168\n",
       "OTHER               83378\n",
       "WHITE              541783\n",
       "dtype: int64"
      ]
     },
     "execution_count": 10,
     "metadata": {},
     "output_type": "execute_result"
    }
   ],
   "source": [
    "all_df.groupby(['Race']).size()"
   ]
  },
  {
   "cell_type": "code",
   "execution_count": 11,
   "metadata": {
    "ExecuteTime": {
     "end_time": "2019-06-06T00:35:33.066698Z",
     "start_time": "2019-06-06T00:35:32.714054Z"
    },
    "scrolled": false
   },
   "outputs": [
    {
     "data": {
      "text/plain": [
       "A - Marked Patrol                         1267088\n",
       "Q - Marked Laser                           139542\n",
       "B - Unmarked Patrol                         48181\n",
       "S - License Plate Recognition               14509\n",
       "O - Foot Patrol                             14076\n",
       "L - Motorcycle                              13031\n",
       "E - Marked Stationary Radar                  9511\n",
       "G - Marked Moving Radar (Stationary)         8210\n",
       "R - Unmarked Laser                           6140\n",
       "I - Marked Moving Radar (Moving)             2476\n",
       "M - Marked (Off-Duty)                        2272\n",
       "H - Unmarked Moving Radar (Stationary)       1115\n",
       "F - Unmarked Stationary Radar                 837\n",
       "J - Unmarked Moving Radar (Moving)            654\n",
       "C - Marked VASCAR                             483\n",
       "P - Mounted Patrol                            338\n",
       "D - Unmarked VASCAR                           302\n",
       "N - Unmarked (Off-Duty)                       216\n",
       "K - Aircraft Assist                            55\n",
       "Name: Arrest Type, dtype: int64"
      ]
     },
     "execution_count": 11,
     "metadata": {},
     "output_type": "execute_result"
    }
   ],
   "source": [
    "all_df['Arrest Type'].value_counts()"
   ]
  },
  {
   "cell_type": "code",
   "execution_count": 12,
   "metadata": {
    "ExecuteTime": {
     "end_time": "2019-06-06T00:35:33.083563Z",
     "start_time": "2019-06-06T00:35:33.068787Z"
    }
   },
   "outputs": [
    {
     "data": {
      "text/plain": [
       "541783.0"
      ]
     },
     "execution_count": 12,
     "metadata": {},
     "output_type": "execute_result"
    }
   ],
   "source": [
    "sum(grouped_race_violation['WHITE'])"
   ]
  },
  {
   "cell_type": "code",
   "execution_count": 13,
   "metadata": {
    "ExecuteTime": {
     "end_time": "2019-06-06T00:35:33.106338Z",
     "start_time": "2019-06-06T00:35:33.085501Z"
    }
   },
   "outputs": [],
   "source": [
    "grouped_normalize = grouped_race_violation.copy()\n",
    "\n",
    "for race in grouped_race_violation.index.levels[0]:\n",
    "    race_viol = sum(grouped_race_violation[race])\n",
    "    for viol in grouped_race_violation.index.levels[1]:\n",
    "        try:\n",
    "            grouped_normalize[race][viol] = grouped_race_violation[race][viol] / float(race_viol)\n",
    "        except:\n",
    "            pass"
   ]
  },
  {
   "cell_type": "code",
   "execution_count": 14,
   "metadata": {
    "ExecuteTime": {
     "end_time": "2019-06-06T00:35:33.117877Z",
     "start_time": "2019-06-06T00:35:33.108561Z"
    },
    "scrolled": false
   },
   "outputs": [
    {
     "data": {
      "text/plain": [
       "Race             Violation Type\n",
       "ASIAN            Citation          0.377285\n",
       "                 ESERO             0.051709\n",
       "                 SERO              0.000379\n",
       "                 Warning           0.570627\n",
       "BLACK            Citation          0.466892\n",
       "                 ESERO             0.047441\n",
       "                 SERO              0.000529\n",
       "                 Warning           0.485139\n",
       "HISPANIC         Citation          0.518475\n",
       "                 ESERO             0.062510\n",
       "                 SERO              0.000826\n",
       "                 Warning           0.418189\n",
       "NATIVE AMERICAN  Citation          0.410354\n",
       "                 ESERO             0.068182\n",
       "                 Warning           0.521465\n",
       "OTHER            Citation          0.388484\n",
       "                 ESERO             0.045180\n",
       "                 SERO              0.000516\n",
       "                 Warning           0.565821\n",
       "WHITE            Citation          0.425370\n",
       "                 ESERO             0.041002\n",
       "                 SERO              0.000546\n",
       "                 Warning           0.533082\n",
       "dtype: float64"
      ]
     },
     "execution_count": 14,
     "metadata": {},
     "output_type": "execute_result"
    }
   ],
   "source": [
    "grouped_normalize"
   ]
  },
  {
   "cell_type": "code",
   "execution_count": 15,
   "metadata": {
    "ExecuteTime": {
     "end_time": "2019-06-06T00:35:33.648876Z",
     "start_time": "2019-06-06T00:35:33.120722Z"
    }
   },
   "outputs": [
    {
     "data": {
      "text/plain": [
       "Race   Arrest Type                           \n",
       "ASIAN  A - Marked Patrol                          73514.0\n",
       "       B - Unmarked Patrol                         2400.0\n",
       "       C - Marked VASCAR                             41.0\n",
       "       D - Unmarked VASCAR                           22.0\n",
       "       E - Marked Stationary Radar                  731.0\n",
       "       F - Unmarked Stationary Radar                 50.0\n",
       "       G - Marked Moving Radar (Stationary)         543.0\n",
       "       H - Unmarked Moving Radar (Stationary)        60.0\n",
       "       I - Marked Moving Radar (Moving)             114.0\n",
       "       J - Unmarked Moving Radar (Moving)            37.0\n",
       "       K - Aircraft Assist                            1.0\n",
       "       L - Motorcycle                               838.0\n",
       "       M - Marked (Off-Duty)                        169.0\n",
       "       N - Unmarked (Off-Duty)                        7.0\n",
       "       O - Foot Patrol                              800.0\n",
       "       P - Mounted Patrol                            24.0\n",
       "       Q - Marked Laser                            9530.0\n",
       "       R - Unmarked Laser                           360.0\n",
       "       S - License Plate Recognition                434.0\n",
       "BLACK  A - Marked Patrol                         414165.0\n",
       "       B - Unmarked Patrol                        14651.0\n",
       "       C - Marked VASCAR                            160.0\n",
       "       D - Unmarked VASCAR                           61.0\n",
       "       E - Marked Stationary Radar                 2323.0\n",
       "       F - Unmarked Stationary Radar                213.0\n",
       "       G - Marked Moving Radar (Stationary)        1728.0\n",
       "       H - Unmarked Moving Radar (Stationary)       229.0\n",
       "       I - Marked Moving Radar (Moving)             490.0\n",
       "       J - Unmarked Moving Radar (Moving)           163.0\n",
       "       K - Aircraft Assist                           11.0\n",
       "                                                   ...   \n",
       "OTHER  I - Marked Moving Radar (Moving)              92.0\n",
       "       J - Unmarked Moving Radar (Moving)            75.0\n",
       "       K - Aircraft Assist                            1.0\n",
       "       L - Motorcycle                               673.0\n",
       "       M - Marked (Off-Duty)                        122.0\n",
       "       N - Unmarked (Off-Duty)                        7.0\n",
       "       O - Foot Patrol                              723.0\n",
       "       P - Mounted Patrol                            20.0\n",
       "       Q - Marked Laser                            8672.0\n",
       "       R - Unmarked Laser                           567.0\n",
       "       S - License Plate Recognition                926.0\n",
       "WHITE  A - Marked Patrol                         422417.0\n",
       "       B - Unmarked Patrol                        19777.0\n",
       "       C - Marked VASCAR                            171.0\n",
       "       D - Unmarked VASCAR                          156.0\n",
       "       E - Marked Stationary Radar                 4697.0\n",
       "       F - Unmarked Stationary Radar                406.0\n",
       "       G - Marked Moving Radar (Stationary)        4298.0\n",
       "       H - Unmarked Moving Radar (Stationary)       625.0\n",
       "       I - Marked Moving Radar (Moving)            1536.0\n",
       "       J - Unmarked Moving Radar (Moving)           332.0\n",
       "       K - Aircraft Assist                           36.0\n",
       "       L - Motorcycle                              5958.0\n",
       "       M - Marked (Off-Duty)                        921.0\n",
       "       N - Unmarked (Off-Duty)                       99.0\n",
       "       O - Foot Patrol                             6629.0\n",
       "       P - Mounted Patrol                           171.0\n",
       "       Q - Marked Laser                           65421.0\n",
       "       R - Unmarked Laser                          3140.0\n",
       "       S - License Plate Recognition               4993.0\n",
       "Length: 110, dtype: float64"
      ]
     },
     "execution_count": 15,
     "metadata": {},
     "output_type": "execute_result"
    }
   ],
   "source": [
    "all_df.groupby(['Race', 'Arrest Type']).size().astype(float)"
   ]
  },
  {
   "cell_type": "code",
   "execution_count": 16,
   "metadata": {
    "ExecuteTime": {
     "end_time": "2019-06-06T00:35:33.905687Z",
     "start_time": "2019-06-06T00:35:33.651078Z"
    }
   },
   "outputs": [
    {
     "data": {
      "text/plain": [
       "A - Marked Patrol                         0.828684\n",
       "Q - Marked Laser                          0.091261\n",
       "B - Unmarked Patrol                       0.031511\n",
       "S - License Plate Recognition             0.009489\n",
       "O - Foot Patrol                           0.009206\n",
       "L - Motorcycle                            0.008522\n",
       "E - Marked Stationary Radar               0.006220\n",
       "G - Marked Moving Radar (Stationary)      0.005369\n",
       "R - Unmarked Laser                        0.004016\n",
       "I - Marked Moving Radar (Moving)          0.001619\n",
       "M - Marked (Off-Duty)                     0.001486\n",
       "H - Unmarked Moving Radar (Stationary)    0.000729\n",
       "F - Unmarked Stationary Radar             0.000547\n",
       "J - Unmarked Moving Radar (Moving)        0.000428\n",
       "C - Marked VASCAR                         0.000316\n",
       "P - Mounted Patrol                        0.000221\n",
       "D - Unmarked VASCAR                       0.000198\n",
       "N - Unmarked (Off-Duty)                   0.000141\n",
       "K - Aircraft Assist                       0.000036\n",
       "Name: Arrest Type, dtype: float64"
      ]
     },
     "execution_count": 16,
     "metadata": {},
     "output_type": "execute_result"
    }
   ],
   "source": [
    "all_df['Arrest Type'].value_counts(True)"
   ]
  },
  {
   "cell_type": "code",
   "execution_count": 17,
   "metadata": {
    "ExecuteTime": {
     "end_time": "2019-06-06T00:35:33.911419Z",
     "start_time": "2019-06-06T00:35:33.907431Z"
    }
   },
   "outputs": [
    {
     "data": {
      "text/plain": [
       "1529036"
      ]
     },
     "execution_count": 17,
     "metadata": {},
     "output_type": "execute_result"
    }
   ],
   "source": [
    "len(all_df)"
   ]
  },
  {
   "cell_type": "code",
   "execution_count": 18,
   "metadata": {
    "ExecuteTime": {
     "end_time": "2019-06-06T00:35:34.439764Z",
     "start_time": "2019-06-06T00:35:33.913430Z"
    }
   },
   "outputs": [],
   "source": [
    "descrips = all_df.Description.value_counts()"
   ]
  },
  {
   "cell_type": "code",
   "execution_count": 19,
   "metadata": {
    "ExecuteTime": {
     "end_time": "2019-06-06T00:35:34.453206Z",
     "start_time": "2019-06-06T00:35:34.441644Z"
    }
   },
   "outputs": [
    {
     "data": {
      "text/plain": [
       "DRIVER FAILURE TO OBEY PROPERLY PLACED TRAFFIC CONTROL DEVICE INSTRUCTIONS                              125683\n",
       "FAILURE TO DISPLAY REGISTRATION CARD UPON DEMAND BY POLICE OFFICER                                       71761\n",
       "DRIVING VEHICLE ON HIGHWAY WITH SUSPENDED REGISTRATION                                                   48988\n",
       "FAILURE OF INDIVIDUAL DRIVING ON HIGHWAY TO DISPLAY LICENSE TO UNIFORMED POLICE ON DEMAND                39953\n",
       "DRIVER USING HANDS TO USE HANDHELD TELEPHONE WHILEMOTOR VEHICLE IS IN MOTION                             37487\n",
       "DISPLAYING EXPIRED REGISTRATION PLATE ISSUED BY ANY STATE                                                36176\n",
       "DRIVER FAILURE TO STOP AT STOP SIGN LINE                                                                 34753\n",
       "PERSON DRIVING MOTOR VEHICLE ON HIGHWAY OR PUBLIC USE PROPERTY ON SUSPENDED LICENSE AND PRIVILEGE        30109\n",
       "DRIVING VEHICLE ON HIGHWAY WITHOUT CURRENT REGISTRATION PLATES AND VALIDATION TABS                       25113\n",
       "EXCEEDING THE POSTED SPEED LIMIT OF 40 MPH                                                               24260\n",
       "EXCEEDING THE POSTED SPEED LIMIT OF 30 MPH                                                               23584\n",
       "FAILURE OF VEH. ON HWY. TO DISPLAY LIGHTED LAMPS, ILLUMINATING DEVICE IN UNFAVORABLE VISIBILITY COND     21538\n",
       "STOP LIGHTS (*)                                                                                          21128\n",
       "DRIVING MOTOR VEHICLE ON HIGHWAY WITHOUT REQUIRED LICENSE AND AUTHORIZATION                              20437\n",
       "NEGLIGENT DRIVING VEHICLE IN CARELESS AND IMPRUDENT MANNER ENDANGERING PROPERTY, LIFE AND PERSON         20399\n",
       "DRIVER CHANGING LANES WHEN UNSAFE                                                                        20397\n",
       "EXCEEDING THE POSTED SPEED LIMIT OF 35 MPH                                                               19287\n",
       "DRIVING VEHICLE WHILE UNDER THE INFLUENCE OF ALCOHOL                                                     18708\n",
       "OPERATOR NOT RESTRAINED BY SEATBELT                                                                      18344\n",
       "DRIVING VEH. W/O ADEQUATE REAR REG. PLATE ILLUMINATION                                                   17466\n",
       "FAILURE OF LICENSEE TO NOTIFY ADMINISTRATION OF CHANGE OF ADDRESS WITHIN 30 DAYS                         17212\n",
       "DRIVER FAILURE TO STOP AT STEADY CIRCULAR RED SIGNAL                                                     16881\n",
       "FAILURE TO ATTACH VEHICLE REGISTRATION PLATES AT FRONT AND REAR                                          16337\n",
       "FAILURE TO DISPLAY TWO LIGHTED FRONT LAMPS WHEN REQUIRED                                                 15712\n",
       "DRIVER FAIL TO STOP AT FLASHING RED TRAFFIC SIGNAL STOP LINE                                             15334\n",
       "DRIVING WHILE IMPAIRED BY ALCOHOL                                                                        15099\n",
       "FAILURE TO STOP AT STOP SIGN                                                                             15090\n",
       "FAILURE TO CONTROL VEHICLE SPEED ON HIGHWAY TO AVOID COLLISION                                           14090\n",
       "DRIVING VEH. ON HWY. W/O REQUIRED MINIMUM EQUIPMENT                                                      13932\n",
       "OPERATING VEHICLE ON HIGHWAY WITH UNAUTHORIZED WINDOW TINTING MATERIAL                                   13574\n",
       "                                                                                                         ...  \n",
       "DEALER, DEALER AGENT, DEALER EMPLOYEEKNOWINGLY PERMITTING UNLICENSED PERSON TO ROAD TEST VEH.                1\n",
       "PERSON DRIVING ON HWY.  EQUIPMENT  WITH VISIBLE BLUE DEVICE                                                  1\n",
       "TRAILER TAG LIGHT INOPERATIVE                                                                                1\n",
       "FAILURE TO MAINTAIN LEGIBLE REGISTRATION PLATE FREE FROM REAR PLATE COVER                                    1\n",
       "TAILLIGHT. ID LIGHT INOPERATIVE                                                                              1\n",
       "DRIVE ACROSS PRIVATE PROPERTY/LEAVE THE ROADWAY FOR THE PURPOSE OF AVOIDING TRAFFIC CONTROL DEVICE           1\n",
       "DRIVING VEHICLE IN EXCESS OF REASONABLE AND PRUDENT SPEED ON HIGHWAY 115+MPH/55MPH ZONE                      1\n",
       "DRIVINGVEH. WHILE IMPAIRED BY ALCOHOL                                                                        1\n",
       "EXCEEDING POSTED MAXIMUM SPEED LIMIT: 95 MPH IN A POSTED 50 MPH ZONE                                         1\n",
       "DRIVING) VEH. WITH UNAUTHORIZED BLINKING LIGHTS,                                                             1\n",
       "DRIVINGTO DRIVE MOTOR VEHICLE ON HWAY WITHOUT REQUIRED LICENSE AND AUTHORIZATION                             1\n",
       "USING A  SEAT TO RESTRAIN MORE THAN 1 INDIVIDUAL                                                             1\n",
       "1 OF 2 REAR BRAKE LIGHT  INOPERATIVE                                                                         1\n",
       "AIR LEAKS                                                                                                    1\n",
       "OPERATOR OF SCOOTER FAILURE TO CARRY REQUIRED SECURITY                                                       1\n",
       "DRIVING UNSAFE VEH. ON HWY / 24% WINDOW TINT                                                                 1\n",
       "DRIVING MOTOR VEH. WITH OBSTRUCTED REAR WINDOW BY SNOW                                                       1\n",
       "DRIVER WRITING/SENDING/READING A TEXT OR ELECTRONIC MSG. WHILE OPER. VEH. IN TRAVEL PORTION OF HWY           1\n",
       "DRIVING ON SUSPENDED LICENSE AND PRIVILEGE FOR FAILURE TO COMPLY WITH DISTRICT COURT                         1\n",
       "DRIVING MOTOR VEH ON HIGHWAY W/O REQUIRED LICENCE AND AUTHORIZATION                                          1\n",
       "LFT LOW AND HIGH BEAM, RT HIGH BEAM HEADLIGHT, LFT FRONT TURN , REVERSE LIGHTS INOP                          1\n",
       "REAR CLEARANCE LAMPS MISSING                                                                                 1\n",
       "RIVER WRITING,SENDING,READINGATEXT,ELECTRONICMSG. WHILE OPER. VEH. IN TRAVEL PORTION OF HWY                  1\n",
       "suspedded                                                                                                    1\n",
       "FAILURE TO MAINTAIN LEGIBLE REGISTRATION PLATE FREE FROM FOREIGN MATERIALS, COVERS OR DIRT                   1\n",
       "DRIVE VEH. WHILE IMPAIRED BY DRUGS WHILE TRANSP. MINOR                                                       1\n",
       "DRIVING VEHICLE IN EXCESS OF REASONABLE AND PRUDENT SPEED ON HIGHWAY 83 MPH                                  1\n",
       "PERMIT THE OPeration of SOUND AMPLIFICATIONSYSTEM FROM VEH THAT CAN BE HEARD FROM 50' OR MORE                1\n",
       "DRIVING VEHICLE IN EXCESS OF REASONABLE AND PRUDENT SPEED ON HIGHWAY 10 MPH OVER                             1\n",
       "WEIGHT VIOLATIONS ON HIGHWAYS AND INTERSTATES EXCEEDING ALLOWABLE WEIGHT OF 8000LBS BY 2800LBS               1\n",
       "Name: Description, Length: 13987, dtype: int64"
      ]
     },
     "execution_count": 19,
     "metadata": {},
     "output_type": "execute_result"
    }
   ],
   "source": [
    "descrips"
   ]
  },
  {
   "cell_type": "code",
   "execution_count": 20,
   "metadata": {
    "ExecuteTime": {
     "end_time": "2019-06-06T00:35:34.463269Z",
     "start_time": "2019-06-06T00:35:34.454853Z"
    }
   },
   "outputs": [
    {
     "data": {
      "text/plain": [
       "21.0"
      ]
     },
     "execution_count": 20,
     "metadata": {},
     "output_type": "execute_result"
    }
   ],
   "source": [
    "np.percentile(descrips.values, 90, axis=0)"
   ]
  },
  {
   "cell_type": "code",
   "execution_count": 21,
   "metadata": {
    "ExecuteTime": {
     "end_time": "2019-06-06T00:35:34.481219Z",
     "start_time": "2019-06-06T00:35:34.464862Z"
    }
   },
   "outputs": [],
   "source": [
    "import matplotlib.pyplot as plt\n",
    "%matplotlib inline"
   ]
  },
  {
   "cell_type": "code",
   "execution_count": 22,
   "metadata": {
    "ExecuteTime": {
     "end_time": "2019-06-06T00:35:42.796557Z",
     "start_time": "2019-06-06T00:35:34.486271Z"
    }
   },
   "outputs": [],
   "source": [
    "a = sorted(descrips.values)\n",
    "cumsum_descrips = [sum(a[:i]) for i in range(len(a))]\n",
    "#cumsum_descrips"
   ]
  },
  {
   "cell_type": "code",
   "execution_count": 23,
   "metadata": {
    "ExecuteTime": {
     "end_time": "2019-06-06T00:35:43.052398Z",
     "start_time": "2019-06-06T00:35:42.799931Z"
    }
   },
   "outputs": [
    {
     "data": {
      "text/plain": [
       "[<matplotlib.lines.Line2D at 0x1c1a585ef0>]"
      ]
     },
     "execution_count": 23,
     "metadata": {},
     "output_type": "execute_result"
    },
    {
     "data": {
      "image/png": "[encoded data removed]",
      "text/plain": [
       "<Figure size 432x288 with 1 Axes>"
      ]
     },
     "metadata": {
      "needs_background": "light"
     },
     "output_type": "display_data"
    }
   ],
   "source": [
    "x_percentile = (np.array(range(len(a)))+1)/len(a)\n",
    "\n",
    "\n",
    "plt.plot(x_percentile, cumsum_descrips)"
   ]
  },
  {
   "cell_type": "code",
   "execution_count": 24,
   "metadata": {
    "ExecuteTime": {
     "end_time": "2019-06-06T00:35:43.383926Z",
     "start_time": "2019-06-06T00:35:43.055713Z"
    }
   },
   "outputs": [
    {
     "data": {
      "text/plain": [
       "'FAILURE TO DISPLAY REGISTRATION CARD UPON DEMAND BY POLICE OFFICER'"
      ]
     },
     "execution_count": 24,
     "metadata": {},
     "output_type": "execute_result"
    }
   ],
   "source": [
    "all_df.Description.value_counts().index[1]"
   ]
  },
  {
   "cell_type": "code",
   "execution_count": 25,
   "metadata": {
    "ExecuteTime": {
     "end_time": "2019-06-06T00:35:44.547442Z",
     "start_time": "2019-06-06T00:35:43.385740Z"
    }
   },
   "outputs": [
    {
     "data": {
      "text/plain": [
       "Race\n",
       "ASIAN               5100\n",
       "BLACK              24133\n",
       "HISPANIC           13885\n",
       "NATIVE AMERICAN      141\n",
       "OTHER               4031\n",
       "WHITE              24471\n",
       "dtype: int64"
      ]
     },
     "execution_count": 25,
     "metadata": {},
     "output_type": "execute_result"
    }
   ],
   "source": [
    "viol_type = 'FAILURE TO DISPLAY REGISTRATION CARD UPON DEMAND BY POLICE OFFICER'\n",
    "\n",
    "all_df[all_df['Description'].isin([viol_type])].groupby('Race').size()"
   ]
  },
  {
   "cell_type": "code",
   "execution_count": 26,
   "metadata": {
    "ExecuteTime": {
     "end_time": "2019-06-06T00:35:45.783984Z",
     "start_time": "2019-06-06T00:35:44.549592Z"
    }
   },
   "outputs": [
    {
     "data": {
      "text/plain": [
       "(5000, 41)"
      ]
     },
     "execution_count": 26,
     "metadata": {},
     "output_type": "execute_result"
    }
   ],
   "source": [
    "sql_all = '''\n",
    "SELECT * FROM traffic\n",
    "WHERE race = 'BLACK'\n",
    "ORDER BY RANDOM() \n",
    "LIMIT 5000\n",
    "'''\n",
    "df_black = pd.read_sql_query(sql_all, conn)\n",
    "df_black.shape"
   ]
  },
  {
   "cell_type": "code",
   "execution_count": 27,
   "metadata": {
    "ExecuteTime": {
     "end_time": "2019-06-06T00:35:46.609262Z",
     "start_time": "2019-06-06T00:35:45.786586Z"
    }
   },
   "outputs": [
    {
     "data": {
      "text/plain": [
       "(5000, 41)"
      ]
     },
     "execution_count": 27,
     "metadata": {},
     "output_type": "execute_result"
    }
   ],
   "source": [
    "sql_all = '''\n",
    "SELECT * FROM traffic\n",
    "WHERE race = 'HISPANIC'\n",
    "ORDER BY RANDOM() \n",
    "LIMIT 5000\n",
    "'''\n",
    "df_hispanic = pd.read_sql_query(sql_all, conn)\n",
    "df_hispanic.shape"
   ]
  },
  {
   "cell_type": "code",
   "execution_count": 28,
   "metadata": {
    "ExecuteTime": {
     "end_time": "2019-06-06T00:35:46.617986Z",
     "start_time": "2019-06-06T00:35:46.611831Z"
    }
   },
   "outputs": [],
   "source": [
    "from scipy.stats import ttest_ind"
   ]
  },
  {
   "cell_type": "code",
   "execution_count": 29,
   "metadata": {
    "ExecuteTime": {
     "end_time": "2019-06-06T00:35:46.629424Z",
     "start_time": "2019-06-06T00:35:46.620965Z"
    }
   },
   "outputs": [],
   "source": [
    "black_citation_sample = (df_black['Violation Type'] == 'Citation')*1\n",
    "mu_black = sum(black_citation_sample) / len(black_citation_sample)"
   ]
  },
  {
   "cell_type": "code",
   "execution_count": 30,
   "metadata": {
    "ExecuteTime": {
     "end_time": "2019-06-06T00:35:46.636963Z",
     "start_time": "2019-06-06T00:35:46.631457Z"
    }
   },
   "outputs": [],
   "source": [
    "hispanic_citation_sample = (df_hispanic['Violation Type'] == 'Citation')*1\n",
    "mu_hispanic = sum(hispanic_citation_sample) / len(hispanic_citation_sample)"
   ]
  },
  {
   "cell_type": "code",
   "execution_count": 31,
   "metadata": {
    "ExecuteTime": {
     "end_time": "2019-06-06T00:35:46.685513Z",
     "start_time": "2019-06-06T00:35:46.639338Z"
    }
   },
   "outputs": [
    {
     "data": {
      "text/plain": [
       "Ttest_indResult(statistic=-4.203801369883823, pvalue=2.64753669469979e-05)"
      ]
     },
     "execution_count": 31,
     "metadata": {},
     "output_type": "execute_result"
    }
   ],
   "source": [
    "ttest_ind(black_citation_sample, hispanic_citation_sample, equal_var=False)"
   ]
  },
  {
   "cell_type": "code",
   "execution_count": 7,
   "metadata": {
    "ExecuteTime": {
     "end_time": "2019-06-06T17:18:10.346690Z",
     "start_time": "2019-06-06T17:18:10.338314Z"
    }
   },
   "outputs": [],
   "source": [
    "def sample_from_traffic(n_sample, connection, race=None, gender=None, show_SQL=True):\n",
    "    \"\"\"Returns a random sample from the specified sqlite db connection, from the table called traffic.\n",
    "    Order is randomized.\n",
    "    Can specify a race to filter on.\n",
    "    Prints the equivalent SQL query.\n",
    "    Returns the dataframe result of the SQL query\"\"\"\n",
    "    var_count = 0\n",
    "    if race:\n",
    "        condition = \"WHERE race ='{}'\".format(race.upper())\n",
    "        var_count += 1\n",
    "    else:\n",
    "        condition = \"--\"\n",
    "    if gender:\n",
    "        if var_count > 0:\n",
    "            condition = condition + \"\"\"\n",
    "            AND Gender = '{}'\"\"\".format(gender.upper()[0])\n",
    "        else:\n",
    "            condition = \"WHERE gender ='{}'\".format(gender.upper()[0])\n",
    "    sql_str = '''\n",
    "        SELECT * FROM traffic\n",
    "        {0}\n",
    "        ORDER BY RANDOM() \n",
    "        LIMIT {1}\n",
    "        '''.format(condition, n_sample)\n",
    "    if show_SQL: print(sql_str)\n",
    "    df = pd.read_sql_query(sql_str, connection)\n",
    "    return df"
   ]
  },
  {
   "cell_type": "code",
   "execution_count": 8,
   "metadata": {
    "ExecuteTime": {
     "end_time": "2019-06-06T17:18:12.154539Z",
     "start_time": "2019-06-06T17:18:12.148233Z"
    }
   },
   "outputs": [],
   "source": [
    "def sample_from_traffic_2(n_sample, connection, filters={}, show_SQL=True):\n",
    "    \"\"\"Returns a random sample from the specified sqlite db connection, from the table called traffic.\n",
    "    Order is randomized.\n",
    "    Can specify a race to filter on.\n",
    "    Prints the equivalent SQL query.\n",
    "    Returns the dataframe result of the SQL query\"\"\"\n",
    "    var_count = 0\n",
    "    condition = \"--\"\n",
    "    for k, v in filters.items():\n",
    "        if var_count==0:\n",
    "            if type(v)!=str:\n",
    "                condition = \"WHERE {0} in {1}\".format(k, tuple(v))\n",
    "            else:\n",
    "                condition = \"WHERE {0} = '{1}'\".format(k, v)\n",
    "        else:\n",
    "            if type(v)!=str:\n",
    "                condition = condition + \"\"\"\n",
    "                AND {0} in {1}\"\"\".format(k, tuple(v))\n",
    "            else:\n",
    "                condition = condition + \"\"\"\n",
    "                AND {0} = '{1}'\"\"\".format(k, v)\n",
    "        \n",
    "        var_count += 1\n",
    "\n",
    "    sql_str = '''\n",
    "        SELECT * FROM traffic\n",
    "        {0}\n",
    "        ORDER BY RANDOM() \n",
    "        LIMIT {1}\n",
    "        '''.format(condition, n_sample)\n",
    "    if show_SQL: print(sql_str)\n",
    "    df = pd.read_sql_query(sql_str, connection)\n",
    "    return df"
   ]
  },
  {
   "cell_type": "code",
   "execution_count": 33,
   "metadata": {
    "ExecuteTime": {
     "end_time": "2019-06-06T00:35:50.289788Z",
     "start_time": "2019-06-06T00:35:46.704584Z"
    }
   },
   "outputs": [
    {
     "name": "stdout",
     "output_type": "stream",
     "text": [
      "\n",
      "        SELECT * FROM traffic\n",
      "        WHERE race ='WHITE'\n",
      "        ORDER BY RANDOM() \n",
      "        LIMIT 5000\n",
      "        \n",
      "\n",
      "        SELECT * FROM traffic\n",
      "        WHERE race ='BLACK'\n",
      "        ORDER BY RANDOM() \n",
      "        LIMIT 5000\n",
      "        \n",
      "\n",
      "        SELECT * FROM traffic\n",
      "        WHERE race ='HISPANIC'\n",
      "        ORDER BY RANDOM() \n",
      "        LIMIT 5000\n",
      "        \n",
      "\n",
      "        SELECT * FROM traffic\n",
      "        WHERE race ='ASIAN'\n",
      "        ORDER BY RANDOM() \n",
      "        LIMIT 5000\n",
      "        \n",
      "\n",
      "        SELECT * FROM traffic\n",
      "        WHERE race ='OTHER'\n",
      "        ORDER BY RANDOM() \n",
      "        LIMIT 5000\n",
      "        \n"
     ]
    },
    {
     "data": {
      "text/html": [
       "<table class=\"simpletable\">\n",
       "<caption>OLS Regression Results</caption>\n",
       "<tr>\n",
       "  <th>Dep. Variable:</th>     <td>Violation Type</td>  <th>  R-squared:         </th> <td>   0.011</td> \n",
       "</tr>\n",
       "<tr>\n",
       "  <th>Model:</th>                   <td>OLS</td>       <th>  Adj. R-squared:    </th> <td>   0.011</td> \n",
       "</tr>\n",
       "<tr>\n",
       "  <th>Method:</th>             <td>Least Squares</td>  <th>  F-statistic:       </th> <td>   68.35</td> \n",
       "</tr>\n",
       "<tr>\n",
       "  <th>Date:</th>             <td>Wed, 05 Jun 2019</td> <th>  Prob (F-statistic):</th> <td>1.22e-57</td> \n",
       "</tr>\n",
       "<tr>\n",
       "  <th>Time:</th>                 <td>20:35:50</td>     <th>  Log-Likelihood:    </th> <td> -17780.</td> \n",
       "</tr>\n",
       "<tr>\n",
       "  <th>No. Observations:</th>      <td> 25000</td>      <th>  AIC:               </th> <td>3.557e+04</td>\n",
       "</tr>\n",
       "<tr>\n",
       "  <th>Df Residuals:</th>          <td> 24995</td>      <th>  BIC:               </th> <td>3.561e+04</td>\n",
       "</tr>\n",
       "<tr>\n",
       "  <th>Df Model:</th>              <td>     4</td>      <th>                     </th>     <td> </td>    \n",
       "</tr>\n",
       "<tr>\n",
       "  <th>Covariance Type:</th>      <td>nonrobust</td>    <th>                     </th>     <td> </td>    \n",
       "</tr>\n",
       "</table>\n",
       "<table class=\"simpletable\">\n",
       "<tr>\n",
       "        <td></td>           <th>coef</th>     <th>std err</th>      <th>t</th>      <th>P>|t|</th>  <th>[0.025</th>    <th>0.975]</th>  \n",
       "</tr>\n",
       "<tr>\n",
       "  <th>const</th>         <td>    0.4302</td> <td>    0.007</td> <td>   61.729</td> <td> 0.000</td> <td>    0.417</td> <td>    0.444</td>\n",
       "</tr>\n",
       "<tr>\n",
       "  <th>Race_ASIAN</th>    <td>   -0.0612</td> <td>    0.010</td> <td>   -6.209</td> <td> 0.000</td> <td>   -0.081</td> <td>   -0.042</td>\n",
       "</tr>\n",
       "<tr>\n",
       "  <th>Race_BLACK</th>    <td>    0.0340</td> <td>    0.010</td> <td>    3.450</td> <td> 0.001</td> <td>    0.015</td> <td>    0.053</td>\n",
       "</tr>\n",
       "<tr>\n",
       "  <th>Race_HISPANIC</th> <td>    0.0814</td> <td>    0.010</td> <td>    8.259</td> <td> 0.000</td> <td>    0.062</td> <td>    0.101</td>\n",
       "</tr>\n",
       "<tr>\n",
       "  <th>Race_OTHER</th>    <td>   -0.0422</td> <td>    0.010</td> <td>   -4.282</td> <td> 0.000</td> <td>   -0.062</td> <td>   -0.023</td>\n",
       "</tr>\n",
       "</table>\n",
       "<table class=\"simpletable\">\n",
       "<tr>\n",
       "  <th>Omnibus:</th>       <td>289.654</td> <th>  Durbin-Watson:     </th> <td>   1.984</td>\n",
       "</tr>\n",
       "<tr>\n",
       "  <th>Prob(Omnibus):</th> <td> 0.000</td>  <th>  Jarque-Bera (JB):  </th> <td>3995.554</td>\n",
       "</tr>\n",
       "<tr>\n",
       "  <th>Skew:</th>          <td> 0.268</td>  <th>  Prob(JB):          </th> <td>    0.00</td>\n",
       "</tr>\n",
       "<tr>\n",
       "  <th>Kurtosis:</th>      <td> 1.116</td>  <th>  Cond. No.          </th> <td>    5.83</td>\n",
       "</tr>\n",
       "</table><br/><br/>Warnings:<br/>[1] Standard Errors assume that the covariance matrix of the errors is correctly specified."
      ],
      "text/plain": [
       "<class 'statsmodels.iolib.summary.Summary'>\n",
       "\"\"\"\n",
       "                            OLS Regression Results                            \n",
       "==============================================================================\n",
       "Dep. Variable:         Violation Type   R-squared:                       0.011\n",
       "Model:                            OLS   Adj. R-squared:                  0.011\n",
       "Method:                 Least Squares   F-statistic:                     68.35\n",
       "Date:                Wed, 05 Jun 2019   Prob (F-statistic):           1.22e-57\n",
       "Time:                        20:35:50   Log-Likelihood:                -17780.\n",
       "No. Observations:               25000   AIC:                         3.557e+04\n",
       "Df Residuals:                   24995   BIC:                         3.561e+04\n",
       "Df Model:                           4                                         \n",
       "Covariance Type:            nonrobust                                         \n",
       "=================================================================================\n",
       "                    coef    std err          t      P>|t|      [0.025      0.975]\n",
       "---------------------------------------------------------------------------------\n",
       "const             0.4302      0.007     61.729      0.000       0.417       0.444\n",
       "Race_ASIAN       -0.0612      0.010     -6.209      0.000      -0.081      -0.042\n",
       "Race_BLACK        0.0340      0.010      3.450      0.001       0.015       0.053\n",
       "Race_HISPANIC     0.0814      0.010      8.259      0.000       0.062       0.101\n",
       "Race_OTHER       -0.0422      0.010     -4.282      0.000      -0.062      -0.023\n",
       "==============================================================================\n",
       "Omnibus:                      289.654   Durbin-Watson:                   1.984\n",
       "Prob(Omnibus):                  0.000   Jarque-Bera (JB):             3995.554\n",
       "Skew:                           0.268   Prob(JB):                         0.00\n",
       "Kurtosis:                       1.116   Cond. No.                         5.83\n",
       "==============================================================================\n",
       "\n",
       "Warnings:\n",
       "[1] Standard Errors assume that the covariance matrix of the errors is correctly specified.\n",
       "\"\"\""
      ]
     },
     "execution_count": 33,
     "metadata": {},
     "output_type": "execute_result"
    }
   ],
   "source": [
    "df_white = sample_from_traffic(5000, conn, 'White')\n",
    "df_black = sample_from_traffic(5000, conn, 'Black')\n",
    "df_hispanic = sample_from_traffic(5000, conn, 'Hispanic')\n",
    "df_asian = sample_from_traffic(5000, conn, 'Asian')\n",
    "df_other = sample_from_traffic(5000, conn, 'other')\n",
    "\n",
    "df_race_sample = pd.concat([df_white, df_asian, df_black, df_hispanic, df_other])\n",
    "\n",
    "\n",
    "X = pd.get_dummies(df_race_sample['Race'], prefix='Race')\n",
    "X = X.drop(columns='Race_WHITE')\n",
    "y = (df_race_sample['Violation Type'] == 'Citation')*1\n",
    "y.columns = ['Citation']\n",
    "\n",
    "X = sm.add_constant(X)\n",
    "\n",
    "model_linreg = sm.OLS(y, X).fit()\n",
    "model_linreg.summary()"
   ]
  },
  {
   "cell_type": "code",
   "execution_count": 34,
   "metadata": {
    "ExecuteTime": {
     "end_time": "2019-06-06T00:35:51.003165Z",
     "start_time": "2019-06-06T00:35:50.291832Z"
    }
   },
   "outputs": [
    {
     "name": "stdout",
     "output_type": "stream",
     "text": [
      "\n",
      "        SELECT * FROM traffic\n",
      "        --\n",
      "        ORDER BY RANDOM() \n",
      "        LIMIT 5000\n",
      "        \n"
     ]
    }
   ],
   "source": [
    "df_test = sample_from_traffic(5000, conn)"
   ]
  },
  {
   "cell_type": "code",
   "execution_count": 35,
   "metadata": {
    "ExecuteTime": {
     "end_time": "2019-06-06T00:35:51.011031Z",
     "start_time": "2019-06-06T00:35:51.004946Z"
    }
   },
   "outputs": [
    {
     "data": {
      "text/plain": [
       "WHITE              1745\n",
       "BLACK              1550\n",
       "HISPANIC           1129\n",
       "ASIAN               302\n",
       "OTHER               261\n",
       "NATIVE AMERICAN      13\n",
       "Name: Race, dtype: int64"
      ]
     },
     "execution_count": 35,
     "metadata": {},
     "output_type": "execute_result"
    }
   ],
   "source": [
    "df_test.Race.value_counts()"
   ]
  },
  {
   "cell_type": "code",
   "execution_count": 36,
   "metadata": {
    "ExecuteTime": {
     "end_time": "2019-06-06T00:35:54.114197Z",
     "start_time": "2019-06-06T00:35:51.013005Z"
    }
   },
   "outputs": [
    {
     "data": {
      "text/plain": [
       "count                 1529036\n",
       "unique                   2710\n",
       "top       2015-03-17 00:00:00\n",
       "freq                     1281\n",
       "first     2012-01-01 00:00:00\n",
       "last      2019-06-03 00:00:00\n",
       "Name: Date Of Stop, dtype: object"
      ]
     },
     "execution_count": 36,
     "metadata": {},
     "output_type": "execute_result"
    }
   ],
   "source": [
    "pd.to_datetime(all_df['Date Of Stop'], format='%m/%d/%Y').describe()"
   ]
  },
  {
   "cell_type": "code",
   "execution_count": 37,
   "metadata": {
    "ExecuteTime": {
     "end_time": "2019-06-06T00:35:54.119281Z",
     "start_time": "2019-06-06T00:35:54.116404Z"
    }
   },
   "outputs": [],
   "source": [
    "import datetime"
   ]
  },
  {
   "cell_type": "code",
   "execution_count": 38,
   "metadata": {
    "ExecuteTime": {
     "end_time": "2019-06-06T00:35:57.212841Z",
     "start_time": "2019-06-06T00:35:54.121210Z"
    }
   },
   "outputs": [
    {
     "data": {
      "image/png": "[encoded data removed]",
      "text/plain": [
       "<Figure size 1152x432 with 1 Axes>"
      ]
     },
     "metadata": {
      "needs_background": "light"
     },
     "output_type": "display_data"
    }
   ],
   "source": [
    "fig = plt.figure(figsize=(16, 6))\n",
    "plt.hist(pd.to_datetime(all_df['Date Of Stop'], format='%m/%d/%Y'), bins=88);\n",
    "#plt.xlim(datetime.date(2016,1,1))"
   ]
  },
  {
   "cell_type": "code",
   "execution_count": 39,
   "metadata": {
    "ExecuteTime": {
     "end_time": "2019-06-06T00:35:58.809019Z",
     "start_time": "2019-06-06T00:35:57.214239Z"
    }
   },
   "outputs": [
    {
     "data": {
      "text/plain": [
       "BLACK          311612\n",
       "SILVER         279662\n",
       "WHITE          237891\n",
       "GRAY           172294\n",
       "RED            119343\n",
       "BLUE           111576\n",
       "GREEN           54812\n",
       "GOLD            46992\n",
       "BLUE, DARK      32123\n",
       "TAN             30408\n",
       "MAROON          25856\n",
       "BLUE, LIGHT     19699\n",
       "BEIGE           17040\n",
       "N/A             16362\n",
       "GREEN, DK       15944\n",
       "GREEN, LGT       8441\n",
       "BROWN            6932\n",
       "YELLOW           5684\n",
       "ORANGE           5417\n",
       "BRONZE           3477\n",
       "PURPLE           2907\n",
       "                 1746\n",
       "MULTICOLOR       1157\n",
       "CREAM             912\n",
       "COPPER            469\n",
       "PINK              211\n",
       "CHROME             41\n",
       "CAMOUFLAGE         28\n",
       "Name: Color, dtype: int64"
      ]
     },
     "execution_count": 39,
     "metadata": {},
     "output_type": "execute_result"
    }
   ],
   "source": [
    "all_df.Color.value_counts()"
   ]
  },
  {
   "cell_type": "code",
   "execution_count": 40,
   "metadata": {
    "ExecuteTime": {
     "end_time": "2019-06-06T00:36:02.687539Z",
     "start_time": "2019-06-06T00:35:58.811338Z"
    }
   },
   "outputs": [
    {
     "name": "stdout",
     "output_type": "stream",
     "text": [
      "\n",
      "        SELECT * FROM traffic\n",
      "        WHERE race ='WHITE'\n",
      "        ORDER BY RANDOM() \n",
      "        LIMIT 5000\n",
      "        \n",
      "\n",
      "        SELECT * FROM traffic\n",
      "        WHERE race ='BLACK'\n",
      "        ORDER BY RANDOM() \n",
      "        LIMIT 5000\n",
      "        \n",
      "\n",
      "        SELECT * FROM traffic\n",
      "        WHERE race ='HISPANIC'\n",
      "        ORDER BY RANDOM() \n",
      "        LIMIT 5000\n",
      "        \n",
      "\n",
      "        SELECT * FROM traffic\n",
      "        WHERE race ='ASIAN'\n",
      "        ORDER BY RANDOM() \n",
      "        LIMIT 5000\n",
      "        \n",
      "\n",
      "        SELECT * FROM traffic\n",
      "        WHERE race ='OTHER'\n",
      "        ORDER BY RANDOM() \n",
      "        LIMIT 5000\n",
      "        \n",
      "Optimization terminated successfully.\n",
      "         Current function value: 0.680002\n",
      "         Iterations 4\n"
     ]
    },
    {
     "data": {
      "text/html": [
       "<table class=\"simpletable\">\n",
       "<caption>Logit Regression Results</caption>\n",
       "<tr>\n",
       "  <th>Dep. Variable:</th>  <td>Violation Type</td>  <th>  No. Observations:  </th>  <td> 25000</td>  \n",
       "</tr>\n",
       "<tr>\n",
       "  <th>Model:</th>               <td>Logit</td>      <th>  Df Residuals:      </th>  <td> 24995</td>  \n",
       "</tr>\n",
       "<tr>\n",
       "  <th>Method:</th>               <td>MLE</td>       <th>  Df Model:          </th>  <td>     4</td>  \n",
       "</tr>\n",
       "<tr>\n",
       "  <th>Date:</th>          <td>Wed, 05 Jun 2019</td> <th>  Pseudo R-squ.:     </th> <td>0.007019</td> \n",
       "</tr>\n",
       "<tr>\n",
       "  <th>Time:</th>              <td>20:36:02</td>     <th>  Log-Likelihood:    </th> <td> -17000.</td> \n",
       "</tr>\n",
       "<tr>\n",
       "  <th>converged:</th>           <td>True</td>       <th>  LL-Null:           </th> <td> -17120.</td> \n",
       "</tr>\n",
       "<tr>\n",
       "  <th> </th>                      <td> </td>        <th>  LLR p-value:       </th> <td>7.816e-51</td>\n",
       "</tr>\n",
       "</table>\n",
       "<table class=\"simpletable\">\n",
       "<tr>\n",
       "        <td></td>           <th>coef</th>     <th>std err</th>      <th>z</th>      <th>P>|z|</th>  <th>[0.025</th>    <th>0.975]</th>  \n",
       "</tr>\n",
       "<tr>\n",
       "  <th>const</th>         <td>   -0.2680</td> <td>    0.029</td> <td>   -9.391</td> <td> 0.000</td> <td>   -0.324</td> <td>   -0.212</td>\n",
       "</tr>\n",
       "<tr>\n",
       "  <th>Race_ASIAN</th>    <td>   -0.2565</td> <td>    0.041</td> <td>   -6.276</td> <td> 0.000</td> <td>   -0.337</td> <td>   -0.176</td>\n",
       "</tr>\n",
       "<tr>\n",
       "  <th>Race_BLACK</th>    <td>    0.1318</td> <td>    0.040</td> <td>    3.276</td> <td> 0.001</td> <td>    0.053</td> <td>    0.211</td>\n",
       "</tr>\n",
       "<tr>\n",
       "  <th>Race_HISPANIC</th> <td>    0.3032</td> <td>    0.040</td> <td>    7.545</td> <td> 0.000</td> <td>    0.224</td> <td>    0.382</td>\n",
       "</tr>\n",
       "<tr>\n",
       "  <th>Race_OTHER</th>    <td>   -0.1475</td> <td>    0.041</td> <td>   -3.631</td> <td> 0.000</td> <td>   -0.227</td> <td>   -0.068</td>\n",
       "</tr>\n",
       "</table>"
      ],
      "text/plain": [
       "<class 'statsmodels.iolib.summary.Summary'>\n",
       "\"\"\"\n",
       "                           Logit Regression Results                           \n",
       "==============================================================================\n",
       "Dep. Variable:         Violation Type   No. Observations:                25000\n",
       "Model:                          Logit   Df Residuals:                    24995\n",
       "Method:                           MLE   Df Model:                            4\n",
       "Date:                Wed, 05 Jun 2019   Pseudo R-squ.:                0.007019\n",
       "Time:                        20:36:02   Log-Likelihood:                -17000.\n",
       "converged:                       True   LL-Null:                       -17120.\n",
       "                                        LLR p-value:                 7.816e-51\n",
       "=================================================================================\n",
       "                    coef    std err          z      P>|z|      [0.025      0.975]\n",
       "---------------------------------------------------------------------------------\n",
       "const            -0.2680      0.029     -9.391      0.000      -0.324      -0.212\n",
       "Race_ASIAN       -0.2565      0.041     -6.276      0.000      -0.337      -0.176\n",
       "Race_BLACK        0.1318      0.040      3.276      0.001       0.053       0.211\n",
       "Race_HISPANIC     0.3032      0.040      7.545      0.000       0.224       0.382\n",
       "Race_OTHER       -0.1475      0.041     -3.631      0.000      -0.227      -0.068\n",
       "=================================================================================\n",
       "\"\"\""
      ]
     },
     "execution_count": 40,
     "metadata": {},
     "output_type": "execute_result"
    }
   ],
   "source": [
    "# Linear regression of Race versus Citation\n",
    "\n",
    "df_white = sample_from_traffic(5000, conn, 'White')\n",
    "df_black = sample_from_traffic(5000, conn, 'Black')\n",
    "df_hispanic = sample_from_traffic(5000, conn, 'Hispanic')\n",
    "df_asian = sample_from_traffic(5000, conn, 'Asian')\n",
    "df_other = sample_from_traffic(5000, conn, 'other')\n",
    "\n",
    "df_race_sample = pd.concat([df_white, df_asian, df_black, df_hispanic, df_other])\n",
    "\n",
    "\n",
    "X = pd.get_dummies(df_race_sample['Race'], prefix='Race')\n",
    "X = X.drop(columns='Race_WHITE')\n",
    "y = (df_race_sample['Violation Type'] == 'Citation')*1\n",
    "y.columns = ['Citation']\n",
    "\n",
    "X = sm.add_constant(X)\n",
    "\n",
    "model_logit = sm.Logit(y, X).fit()\n",
    "model_logit.summary()"
   ]
  },
  {
   "cell_type": "code",
   "execution_count": 58,
   "metadata": {
    "ExecuteTime": {
     "end_time": "2019-06-06T01:09:44.291590Z",
     "start_time": "2019-06-06T01:07:26.315828Z"
    }
   },
   "outputs": [],
   "source": [
    "# 2 prop z-test on white versus black citations\n",
    "\n",
    "from statsmodels.stats.proportion import proportions_ztest\n",
    "\n",
    "\n",
    "n_sim = 100\n",
    "\n",
    "mu_white_list = []\n",
    "mu_black_list = []\n",
    "z_list = []\n",
    "p_list = []\n",
    "\n",
    "for i in range(n_sim):\n",
    "    n_sample = 5000\n",
    "\n",
    "    df_white = sample_from_traffic(n_sample, conn, 'White', show_SQL=False)\n",
    "    df_black = sample_from_traffic(n_sample, conn, 'Black', show_SQL=False)\n",
    "\n",
    "    white_cited = sum(df_white['Violation Type'] == 'Citation')\n",
    "    black_cited = sum(df_black['Violation Type'] == 'Citation')\n",
    "\n",
    "    mu_white_list.append(white_cited / n_sample)\n",
    "    mu_black_list.append(black_cited / n_sample)\n",
    "    \n",
    "    count = np.array([white_cited, black_cited])\n",
    "    nobs = np.array([n_sample, n_sample])\n",
    "    z,p = proportions_ztest(count, nobs, value=0, alternative='two-sided')\n",
    "    z_list.append(z)\n",
    "    p_list.append(p)\n",
    "    \n",
    "\n",
    "\n",
    "fig = plt.figure(figsize=(16,10))\n",
    "\n",
    "\n",
    "sns.distplot(mu_white_list, label=\"White Proportion Cited\")\n",
    "sns.distplot(mu_black_list, label=\"Black Proportion Cited\")\n",
    "plt.title('Montgomery County Traffic Stops \\n Proportion Issued Citation - White vs. Black', fontsize=20)\n",
    "\n",
    "plt.xlabel('Proportion of Sample Issued Citation', fontsize=16)\n",
    "plt.ylabel('Frequency from {} simulations'.format(n_sim), fontsize=16)\n",
    "plt.legend();\n"
   ]
  },
  {
   "cell_type": "code",
   "execution_count": 85,
   "metadata": {
    "ExecuteTime": {
     "end_time": "2019-06-06T01:21:26.791071Z",
     "start_time": "2019-06-06T01:21:26.385839Z"
    }
   },
   "outputs": [
    {
     "name": "stderr",
     "output_type": "stream",
     "text": [
      "/anaconda3/envs/learn-env/lib/python3.6/site-packages/scipy/stats/stats.py:1713: FutureWarning: Using a non-tuple sequence for multidimensional indexing is deprecated; use `arr[tuple(seq)]` instead of `arr[seq]`. In the future this will be interpreted as an array index, `arr[np.array(seq)]`, which will result either in an error or a different result.\n",
      "  return np.add.reduce(sorted[indexer] * weights, axis=axis) / sumval\n"
     ]
    },
    {
     "data": {
      "image/png": "[encoded data removed]",
      "text/plain": [
       "<Figure size 1152x720 with 1 Axes>"
      ]
     },
     "metadata": {},
     "output_type": "display_data"
    }
   ],
   "source": []
  },
  {
   "cell_type": "code",
   "execution_count": 9,
   "metadata": {
    "ExecuteTime": {
     "end_time": "2019-06-06T17:24:17.991861Z",
     "start_time": "2019-06-06T17:22:27.154256Z"
    }
   },
   "outputs": [
    {
     "ename": "NameError",
     "evalue": "name 'plt' is not defined",
     "output_type": "error",
     "traceback": [
      "\u001b[0;31m---------------------------------------------------------------------------\u001b[0m",
      "\u001b[0;31mNameError\u001b[0m                                 Traceback (most recent call last)",
      "\u001b[0;32m<ipython-input-9-0cd3b2f378e3>\u001b[0m in \u001b[0;36m<module>\u001b[0;34m()\u001b[0m\n\u001b[1;32m     34\u001b[0m \u001b[0;34m\u001b[0m\u001b[0m\n\u001b[1;32m     35\u001b[0m \u001b[0;34m\u001b[0m\u001b[0m\n\u001b[0;32m---> 36\u001b[0;31m \u001b[0mfig\u001b[0m \u001b[0;34m=\u001b[0m \u001b[0mplt\u001b[0m\u001b[0;34m.\u001b[0m\u001b[0mfigure\u001b[0m\u001b[0;34m(\u001b[0m\u001b[0mfigsize\u001b[0m\u001b[0;34m=\u001b[0m\u001b[0;34m(\u001b[0m\u001b[0;36m16\u001b[0m\u001b[0;34m,\u001b[0m\u001b[0;36m10\u001b[0m\u001b[0;34m)\u001b[0m\u001b[0;34m)\u001b[0m\u001b[0;34m\u001b[0m\u001b[0m\n\u001b[0m\u001b[1;32m     37\u001b[0m \u001b[0;34m\u001b[0m\u001b[0m\n\u001b[1;32m     38\u001b[0m \u001b[0;34m\u001b[0m\u001b[0m\n",
      "\u001b[0;31mNameError\u001b[0m: name 'plt' is not defined"
     ]
    }
   ],
   "source": [
    "# 2 prop z-test on white versus black warnings\n",
    "\n",
    "from statsmodels.stats.proportion import proportions_ztest\n",
    "\n",
    "\n",
    "n_sim = 100\n",
    "\n",
    "mu_hispanic_list = []\n",
    "mu_black_list = []\n",
    "z_list = []\n",
    "p_list = []\n",
    "\n",
    "for i in range(n_sim):\n",
    "    n_sample = 5000\n",
    "\n",
    "    \n",
    "    descrip = \"FAILURE TO DISPLAY REGISTRATION CARD UPON DEMAND BY POLICE OFFICER\"\n",
    "    \n",
    "    df_hispanic = sample_from_traffic_2(n_sample, conn, filters={'race':'HISPANIC', 'Description':descrip}, show_SQL=False)\n",
    "    df_black = sample_from_traffic_2(n_sample, conn, filters={'race':'BLACK', 'Description':descrip}, show_SQL=False)\n",
    "\n",
    "    hispanic_cited = sum(df_hispanic['Violation Type'] == 'Warning')\n",
    "    black_cited = sum(df_black['Violation Type'] == 'Warning')\n",
    "\n",
    "    mu_hispanic_list.append(hispanic_cited / n_sample)\n",
    "    mu_black_list.append(black_cited / n_sample)\n",
    "    \n",
    "    count = np.array([hispanic_cited, black_cited])\n",
    "    nobs = np.array([n_sample, n_sample])\n",
    "    z,p = proportions_ztest(count, nobs, value=0, alternative='two-sided')\n",
    "    z_list.append(z)\n",
    "    p_list.append(p)\n",
    "    \n",
    "\n",
    "\n",
    "fig = plt.figure(figsize=(16,10))\n",
    "\n",
    "\n",
    "sns.distplot(mu_hispanic_list, label=\"Hispanic Proportion Given Warning\")\n",
    "sns.distplot(mu_black_list, label=\"Black Proportion Given Warning\")\n",
    "plt.title('Montgomery County Traffic Stops \\n Did Not Present Registration to Officer \\n Proportion Given Warning - Hispanic vs. Black', fontsize=20)\n",
    "\n",
    "plt.xlabel('Proportion of Sample Given Warning', fontsize=16)\n",
    "plt.ylabel('Frequency from {} simulations'.format(n_sim), fontsize=16)\n",
    "plt.legend();\n"
   ]
  },
  {
   "cell_type": "code",
   "execution_count": 11,
   "metadata": {
    "ExecuteTime": {
     "end_time": "2019-06-06T17:33:37.166424Z",
     "start_time": "2019-06-06T17:33:36.540379Z"
    }
   },
   "outputs": [
    {
     "name": "stderr",
     "output_type": "stream",
     "text": [
      "/anaconda3/envs/learn-env/lib/python3.6/site-packages/scipy/stats/stats.py:1713: FutureWarning: Using a non-tuple sequence for multidimensional indexing is deprecated; use `arr[tuple(seq)]` instead of `arr[seq]`. In the future this will be interpreted as an array index, `arr[np.array(seq)]`, which will result either in an error or a different result.\n",
      "  return np.add.reduce(sorted[indexer] * weights, axis=axis) / sumval\n"
     ]
    },
    {
     "data": {
      "image/png": "[encoded data removed]",
      "text/plain": [
       "<Figure size 1152x720 with 1 Axes>"
      ]
     },
     "metadata": {},
     "output_type": "display_data"
    }
   ],
   "source": [
    "fig = plt.figure(figsize=(16,10))\n",
    "\n",
    "\n",
    "sns.distplot(mu_hispanic_list, label=\"Hispanic Proportion Given Warning\")\n",
    "sns.distplot(mu_black_list, label=\"Black Proportion Given Warning\")\n",
    "plt.title('Montgomery County Traffic Stops \\n Did Not Present Registration to Officer \\n Proportion Given Warning - Hispanic vs. Black', fontsize=20)\n",
    "\n",
    "plt.xlabel('Proportion of Sample Given Warning', fontsize=16)\n",
    "plt.ylabel('Frequency from {} simulations'.format(n_sim), fontsize=16)\n",
    "plt.legend();\n"
   ]
  },
  {
   "cell_type": "code",
   "execution_count": 12,
   "metadata": {
    "ExecuteTime": {
     "end_time": "2019-06-06T20:29:08.863720Z",
     "start_time": "2019-06-06T20:24:10.429654Z"
    }
   },
   "outputs": [
    {
     "ename": "KeyboardInterrupt",
     "evalue": "",
     "output_type": "error",
     "traceback": [
      "\u001b[0;31m---------------------------------------------------------------------------\u001b[0m",
      "\u001b[0;31mKeyboardInterrupt\u001b[0m                         Traceback (most recent call last)",
      "\u001b[0;32m<ipython-input-12-b4a9a2d24edb>\u001b[0m in \u001b[0;36m<module>\u001b[0;34m()\u001b[0m\n\u001b[1;32m     20\u001b[0m     \u001b[0mn_sample\u001b[0m \u001b[0;34m=\u001b[0m \u001b[0;36m5000\u001b[0m\u001b[0;34m\u001b[0m\u001b[0m\n\u001b[1;32m     21\u001b[0m \u001b[0;34m\u001b[0m\u001b[0m\n\u001b[0;32m---> 22\u001b[0;31m     \u001b[0mdf_black_male\u001b[0m \u001b[0;34m=\u001b[0m \u001b[0msample_from_traffic_2\u001b[0m\u001b[0;34m(\u001b[0m\u001b[0mn_sample\u001b[0m\u001b[0;34m,\u001b[0m \u001b[0mconn\u001b[0m\u001b[0;34m,\u001b[0m \u001b[0mfilters\u001b[0m\u001b[0;34m=\u001b[0m\u001b[0;34m{\u001b[0m\u001b[0;34m'race'\u001b[0m\u001b[0;34m:\u001b[0m\u001b[0;34m'BLACK'\u001b[0m\u001b[0;34m,\u001b[0m\u001b[0;34m'gender'\u001b[0m\u001b[0;34m:\u001b[0m\u001b[0;34m'M'\u001b[0m\u001b[0;34m}\u001b[0m\u001b[0;34m,\u001b[0m \u001b[0mshow_SQL\u001b[0m\u001b[0;34m=\u001b[0m\u001b[0;32mFalse\u001b[0m\u001b[0;34m)\u001b[0m\u001b[0;34m\u001b[0m\u001b[0m\n\u001b[0m\u001b[1;32m     23\u001b[0m     \u001b[0mdf_black_female\u001b[0m \u001b[0;34m=\u001b[0m \u001b[0msample_from_traffic_2\u001b[0m\u001b[0;34m(\u001b[0m\u001b[0mn_sample\u001b[0m\u001b[0;34m,\u001b[0m \u001b[0mconn\u001b[0m\u001b[0;34m,\u001b[0m \u001b[0mfilters\u001b[0m\u001b[0;34m=\u001b[0m\u001b[0;34m{\u001b[0m\u001b[0;34m'race'\u001b[0m\u001b[0;34m:\u001b[0m\u001b[0;34m'BLACK'\u001b[0m\u001b[0;34m,\u001b[0m \u001b[0;34m'gender'\u001b[0m\u001b[0;34m:\u001b[0m\u001b[0;34m'F'\u001b[0m\u001b[0;34m}\u001b[0m\u001b[0;34m,\u001b[0m \u001b[0mshow_SQL\u001b[0m\u001b[0;34m=\u001b[0m\u001b[0;32mFalse\u001b[0m\u001b[0;34m)\u001b[0m\u001b[0;34m\u001b[0m\u001b[0m\n\u001b[1;32m     24\u001b[0m     \u001b[0mdf_white_male\u001b[0m \u001b[0;34m=\u001b[0m \u001b[0msample_from_traffic_2\u001b[0m\u001b[0;34m(\u001b[0m\u001b[0mn_sample\u001b[0m\u001b[0;34m,\u001b[0m \u001b[0mconn\u001b[0m\u001b[0;34m,\u001b[0m \u001b[0mfilters\u001b[0m\u001b[0;34m=\u001b[0m\u001b[0;34m{\u001b[0m\u001b[0;34m'race'\u001b[0m\u001b[0;34m:\u001b[0m\u001b[0;34m'WHITE'\u001b[0m\u001b[0;34m,\u001b[0m \u001b[0;34m'gender'\u001b[0m\u001b[0;34m:\u001b[0m\u001b[0;34m'M'\u001b[0m\u001b[0;34m}\u001b[0m\u001b[0;34m,\u001b[0m \u001b[0mshow_SQL\u001b[0m\u001b[0;34m=\u001b[0m\u001b[0;32mFalse\u001b[0m\u001b[0;34m)\u001b[0m\u001b[0;34m\u001b[0m\u001b[0m\n",
      "\u001b[0;32m<ipython-input-8-6554d5850899>\u001b[0m in \u001b[0;36msample_from_traffic_2\u001b[0;34m(n_sample, connection, filters, show_SQL)\u001b[0m\n\u001b[1;32m     30\u001b[0m         '''.format(condition, n_sample)\n\u001b[1;32m     31\u001b[0m     \u001b[0;32mif\u001b[0m \u001b[0mshow_SQL\u001b[0m\u001b[0;34m:\u001b[0m \u001b[0mprint\u001b[0m\u001b[0;34m(\u001b[0m\u001b[0msql_str\u001b[0m\u001b[0;34m)\u001b[0m\u001b[0;34m\u001b[0m\u001b[0m\n\u001b[0;32m---> 32\u001b[0;31m     \u001b[0mdf\u001b[0m \u001b[0;34m=\u001b[0m \u001b[0mpd\u001b[0m\u001b[0;34m.\u001b[0m\u001b[0mread_sql_query\u001b[0m\u001b[0;34m(\u001b[0m\u001b[0msql_str\u001b[0m\u001b[0;34m,\u001b[0m \u001b[0mconnection\u001b[0m\u001b[0;34m)\u001b[0m\u001b[0;34m\u001b[0m\u001b[0m\n\u001b[0m\u001b[1;32m     33\u001b[0m     \u001b[0;32mreturn\u001b[0m \u001b[0mdf\u001b[0m\u001b[0;34m\u001b[0m\u001b[0m\n",
      "\u001b[0;32m/anaconda3/envs/learn-env/lib/python3.6/site-packages/pandas/io/sql.py\u001b[0m in \u001b[0;36mread_sql_query\u001b[0;34m(sql, con, index_col, coerce_float, params, parse_dates, chunksize)\u001b[0m\n\u001b[1;32m    312\u001b[0m     return pandas_sql.read_query(\n\u001b[1;32m    313\u001b[0m         \u001b[0msql\u001b[0m\u001b[0;34m,\u001b[0m \u001b[0mindex_col\u001b[0m\u001b[0;34m=\u001b[0m\u001b[0mindex_col\u001b[0m\u001b[0;34m,\u001b[0m \u001b[0mparams\u001b[0m\u001b[0;34m=\u001b[0m\u001b[0mparams\u001b[0m\u001b[0;34m,\u001b[0m \u001b[0mcoerce_float\u001b[0m\u001b[0;34m=\u001b[0m\u001b[0mcoerce_float\u001b[0m\u001b[0;34m,\u001b[0m\u001b[0;34m\u001b[0m\u001b[0m\n\u001b[0;32m--> 314\u001b[0;31m         parse_dates=parse_dates, chunksize=chunksize)\n\u001b[0m\u001b[1;32m    315\u001b[0m \u001b[0;34m\u001b[0m\u001b[0m\n\u001b[1;32m    316\u001b[0m \u001b[0;34m\u001b[0m\u001b[0m\n",
      "\u001b[0;32m/anaconda3/envs/learn-env/lib/python3.6/site-packages/pandas/io/sql.py\u001b[0m in \u001b[0;36mread_query\u001b[0;34m(self, sql, index_col, coerce_float, params, parse_dates, chunksize)\u001b[0m\n\u001b[1;32m   1411\u001b[0m \u001b[0;34m\u001b[0m\u001b[0m\n\u001b[1;32m   1412\u001b[0m         \u001b[0margs\u001b[0m \u001b[0;34m=\u001b[0m \u001b[0m_convert_params\u001b[0m\u001b[0;34m(\u001b[0m\u001b[0msql\u001b[0m\u001b[0;34m,\u001b[0m \u001b[0mparams\u001b[0m\u001b[0;34m)\u001b[0m\u001b[0;34m\u001b[0m\u001b[0m\n\u001b[0;32m-> 1413\u001b[0;31m         \u001b[0mcursor\u001b[0m \u001b[0;34m=\u001b[0m \u001b[0mself\u001b[0m\u001b[0;34m.\u001b[0m\u001b[0mexecute\u001b[0m\u001b[0;34m(\u001b[0m\u001b[0;34m*\u001b[0m\u001b[0margs\u001b[0m\u001b[0;34m)\u001b[0m\u001b[0;34m\u001b[0m\u001b[0m\n\u001b[0m\u001b[1;32m   1414\u001b[0m         \u001b[0mcolumns\u001b[0m \u001b[0;34m=\u001b[0m \u001b[0;34m[\u001b[0m\u001b[0mcol_desc\u001b[0m\u001b[0;34m[\u001b[0m\u001b[0;36m0\u001b[0m\u001b[0;34m]\u001b[0m \u001b[0;32mfor\u001b[0m \u001b[0mcol_desc\u001b[0m \u001b[0;32min\u001b[0m \u001b[0mcursor\u001b[0m\u001b[0;34m.\u001b[0m\u001b[0mdescription\u001b[0m\u001b[0;34m]\u001b[0m\u001b[0;34m\u001b[0m\u001b[0m\n\u001b[1;32m   1415\u001b[0m \u001b[0;34m\u001b[0m\u001b[0m\n",
      "\u001b[0;32m/anaconda3/envs/learn-env/lib/python3.6/site-packages/pandas/io/sql.py\u001b[0m in \u001b[0;36mexecute\u001b[0;34m(self, *args, **kwargs)\u001b[0m\n\u001b[1;32m   1376\u001b[0m                 \u001b[0mcur\u001b[0m\u001b[0;34m.\u001b[0m\u001b[0mexecute\u001b[0m\u001b[0;34m(\u001b[0m\u001b[0;34m*\u001b[0m\u001b[0margs\u001b[0m\u001b[0;34m,\u001b[0m \u001b[0;34m**\u001b[0m\u001b[0mkwargs\u001b[0m\u001b[0;34m)\u001b[0m\u001b[0;34m\u001b[0m\u001b[0m\n\u001b[1;32m   1377\u001b[0m             \u001b[0;32melse\u001b[0m\u001b[0;34m:\u001b[0m\u001b[0;34m\u001b[0m\u001b[0m\n\u001b[0;32m-> 1378\u001b[0;31m                 \u001b[0mcur\u001b[0m\u001b[0;34m.\u001b[0m\u001b[0mexecute\u001b[0m\u001b[0;34m(\u001b[0m\u001b[0;34m*\u001b[0m\u001b[0margs\u001b[0m\u001b[0;34m)\u001b[0m\u001b[0;34m\u001b[0m\u001b[0m\n\u001b[0m\u001b[1;32m   1379\u001b[0m             \u001b[0;32mreturn\u001b[0m \u001b[0mcur\u001b[0m\u001b[0;34m\u001b[0m\u001b[0m\n\u001b[1;32m   1380\u001b[0m         \u001b[0;32mexcept\u001b[0m \u001b[0mException\u001b[0m \u001b[0;32mas\u001b[0m \u001b[0mexc\u001b[0m\u001b[0;34m:\u001b[0m\u001b[0;34m\u001b[0m\u001b[0m\n",
      "\u001b[0;31mKeyboardInterrupt\u001b[0m: "
     ]
    }
   ],
   "source": [
    "# 2 prop z-test on white versus black warnings\n",
    "# we are running a z-test instead of a t-test because we're looking at the proportions of sample \n",
    "#given a warning rather than the number of people\n",
    "\n",
    "from statsmodels.stats.proportion import proportions_ztest\n",
    "\n",
    "#n_sim is repeating the whole sampling process of 5000 people for each category, 100 times\n",
    "n_sim = 100\n",
    "\n",
    "\n",
    "mu_black_male_list = []\n",
    "mu_black_female_list = []\n",
    "mu_white_male_list = []\n",
    "mu_white_female_list = []\n",
    "\n",
    "z_list = []\n",
    "p_list = []\n",
    "\n",
    "for i in range(n_sim):\n",
    "    n_sample = 5000\n",
    "\n",
    "    df_black_male = sample_from_traffic_2(n_sample, conn, filters={'race':'BLACK','gender':'M'}, show_SQL=False)\n",
    "    df_black_female = sample_from_traffic_2(n_sample, conn, filters={'race':'BLACK', 'gender':'F'}, show_SQL=False)\n",
    "    df_white_male = sample_from_traffic_2(n_sample, conn, filters={'race':'WHITE', 'gender':'M'}, show_SQL=False)\n",
    "    df_white_female = sample_from_traffic_2(n_sample, conn, filters={'race':'WHITE', 'gender':'F'}, show_SQL=False)\n",
    "\n",
    "\n",
    "    black_male_cited = sum(df_black_male['Violation Type'] == 'Citation')\n",
    "    black_female_cited = sum(df_black_female['Violation Type'] == 'Citation')\n",
    "    white_male_cited = sum(df_white_male['Violation Type'] == 'Citation')\n",
    "    white_female_cited = sum(df_white_female['Violation Type'] == 'Citation')\n",
    "\n",
    "    mu_black_male_list.append(black_male_cited / n_sample)\n",
    "    mu_black_female_list.append(black_female_cited / n_sample)\n",
    "    mu_white_male_list.append(white_male_cited / n_sample)\n",
    "    mu_white_female_list.append(white_female_cited / n_sample)\n",
    "    \n",
    "    nobs = np.array([n_sample, n_sample])\n",
    "    \n",
    "    z1,p1 = proportions_ztest(np.array([black_male_cited, black_female_cited]), nobs, value=0, alternative='two-sided')\n",
    "    z2,p2 = proportions_ztest(np.array([black_male_cited, white_male_cited]), nobs, value=0, alternative='two-sided')\n",
    "    z3,p3 = proportions_ztest(np.array([white_female_cited, black_female_cited]), nobs, value=0, alternative='two-sided')\n",
    "    z4,p4 = proportions_ztest(np.array([white_male_cited, white_female_cited]), nobs, value=0, alternative='two-sided')\n",
    "\n",
    "    z_list.append([z1, z2, z3, z4])\n",
    "    p_list.append([p1, p2, p3, p4])\n",
    "    \n",
    "\n"
   ]
  },
  {
   "cell_type": "code",
   "execution_count": null,
   "metadata": {},
   "outputs": [],
   "source": []
  }
 ],
 "metadata": {
  "kernelspec": {
   "display_name": "Python 3",
   "language": "python",
   "name": "python3"
  },
  "language_info": {
   "codemirror_mode": {
    "name": "ipython",
    "version": 3
   },
   "file_extension": ".py",
   "mimetype": "text/x-python",
   "name": "python",
   "nbconvert_exporter": "python",
   "pygments_lexer": "ipython3",
   "version": "3.6.6"
  },
  "toc": {
   "base_numbering": 1,
   "nav_menu": {},
   "number_sections": true,
   "sideBar": true,
   "skip_h1_title": false,
   "title_cell": "Table of Contents",
   "title_sidebar": "Contents",
   "toc_cell": false,
   "toc_position": {},
   "toc_section_display": true,
   "toc_window_display": false
  },
  "varInspector": {
   "cols": {
    "lenName": 16,
    "lenType": 16,
    "lenVar": 40
   },
   "kernels_config": {
    "python": {
     "delete_cmd_postfix": "",
     "delete_cmd_prefix": "del ",
     "library": "var_list.py",
     "varRefreshCmd": "print(var_dic_list())"
    },
    "r": {
     "delete_cmd_postfix": ") ",
     "delete_cmd_prefix": "rm(",
     "library": "var_list.r",
     "varRefreshCmd": "cat(var_dic_list()) "
    }
   },
   "position": {
    "height": "450px",
    "left": "216px",
    "right": "20px",
    "top": "120px",
    "width": "587px"
   },
   "types_to_exclude": [
    "module",
    "function",
    "builtin_function_or_method",
    "instance",
    "_Feature"
   ],
   "window_display": false
  }
 },
 "nbformat": 4,
 "nbformat_minor": 2
}
